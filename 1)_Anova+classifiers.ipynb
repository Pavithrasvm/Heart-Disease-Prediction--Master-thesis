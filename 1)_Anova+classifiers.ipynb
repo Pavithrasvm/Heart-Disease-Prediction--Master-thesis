{
  "nbformat": 4,
  "nbformat_minor": 0,
  "metadata": {
    "colab": {
      "provenance": []
    },
    "kernelspec": {
      "name": "python3",
      "display_name": "Python 3"
    },
    "language_info": {
      "name": "python"
    }
  },
  "cells": [
    {
      "cell_type": "code",
      "execution_count": null,
      "metadata": {
        "id": "C25g8EvRc_XB"
      },
      "outputs": [],
      "source": [
        "import numpy as np\n",
        "import pandas as pd\n",
        "import matplotlib.pyplot as plt\n",
        "%matplotlib inline\n",
        "import seaborn as sns\n",
        "from sklearn.model_selection import train_test_split\n",
        "from sklearn.preprocessing import StandardScaler\n",
        "from sklearn.metrics import confusion_matrix\n",
        "import itertools\n",
        "\n",
        "import keras\n",
        "from keras.models import Sequential\n",
        "from keras.layers import Dense\n",
        "\n",
        "import tensorflow as tf\n",
        "tf.random.set_seed(4)\n",
        "from tensorflow import keras"
      ]
    },
    {
      "cell_type": "code",
      "source": [
        "from google.colab import files\n",
        "upload = files.upload()"
      ],
      "metadata": {
        "colab": {
          "base_uri": "https://localhost:8080/",
          "height": 73
        },
        "id": "YkxmIUbtdEaS",
        "outputId": "0ac1183c-f51a-447a-bcf7-014f84665e31"
      },
      "execution_count": null,
      "outputs": [
        {
          "output_type": "display_data",
          "data": {
            "text/plain": [
              "<IPython.core.display.HTML object>"
            ],
            "text/html": [
              "\n",
              "     <input type=\"file\" id=\"files-714f6d20-e195-45a7-9d6d-ebe231c00eef\" name=\"files[]\" multiple disabled\n",
              "        style=\"border:none\" />\n",
              "     <output id=\"result-714f6d20-e195-45a7-9d6d-ebe231c00eef\">\n",
              "      Upload widget is only available when the cell has been executed in the\n",
              "      current browser session. Please rerun this cell to enable.\n",
              "      </output>\n",
              "      <script>// Copyright 2017 Google LLC\n",
              "//\n",
              "// Licensed under the Apache License, Version 2.0 (the \"License\");\n",
              "// you may not use this file except in compliance with the License.\n",
              "// You may obtain a copy of the License at\n",
              "//\n",
              "//      http://www.apache.org/licenses/LICENSE-2.0\n",
              "//\n",
              "// Unless required by applicable law or agreed to in writing, software\n",
              "// distributed under the License is distributed on an \"AS IS\" BASIS,\n",
              "// WITHOUT WARRANTIES OR CONDITIONS OF ANY KIND, either express or implied.\n",
              "// See the License for the specific language governing permissions and\n",
              "// limitations under the License.\n",
              "\n",
              "/**\n",
              " * @fileoverview Helpers for google.colab Python module.\n",
              " */\n",
              "(function(scope) {\n",
              "function span(text, styleAttributes = {}) {\n",
              "  const element = document.createElement('span');\n",
              "  element.textContent = text;\n",
              "  for (const key of Object.keys(styleAttributes)) {\n",
              "    element.style[key] = styleAttributes[key];\n",
              "  }\n",
              "  return element;\n",
              "}\n",
              "\n",
              "// Max number of bytes which will be uploaded at a time.\n",
              "const MAX_PAYLOAD_SIZE = 100 * 1024;\n",
              "\n",
              "function _uploadFiles(inputId, outputId) {\n",
              "  const steps = uploadFilesStep(inputId, outputId);\n",
              "  const outputElement = document.getElementById(outputId);\n",
              "  // Cache steps on the outputElement to make it available for the next call\n",
              "  // to uploadFilesContinue from Python.\n",
              "  outputElement.steps = steps;\n",
              "\n",
              "  return _uploadFilesContinue(outputId);\n",
              "}\n",
              "\n",
              "// This is roughly an async generator (not supported in the browser yet),\n",
              "// where there are multiple asynchronous steps and the Python side is going\n",
              "// to poll for completion of each step.\n",
              "// This uses a Promise to block the python side on completion of each step,\n",
              "// then passes the result of the previous step as the input to the next step.\n",
              "function _uploadFilesContinue(outputId) {\n",
              "  const outputElement = document.getElementById(outputId);\n",
              "  const steps = outputElement.steps;\n",
              "\n",
              "  const next = steps.next(outputElement.lastPromiseValue);\n",
              "  return Promise.resolve(next.value.promise).then((value) => {\n",
              "    // Cache the last promise value to make it available to the next\n",
              "    // step of the generator.\n",
              "    outputElement.lastPromiseValue = value;\n",
              "    return next.value.response;\n",
              "  });\n",
              "}\n",
              "\n",
              "/**\n",
              " * Generator function which is called between each async step of the upload\n",
              " * process.\n",
              " * @param {string} inputId Element ID of the input file picker element.\n",
              " * @param {string} outputId Element ID of the output display.\n",
              " * @return {!Iterable<!Object>} Iterable of next steps.\n",
              " */\n",
              "function* uploadFilesStep(inputId, outputId) {\n",
              "  const inputElement = document.getElementById(inputId);\n",
              "  inputElement.disabled = false;\n",
              "\n",
              "  const outputElement = document.getElementById(outputId);\n",
              "  outputElement.innerHTML = '';\n",
              "\n",
              "  const pickedPromise = new Promise((resolve) => {\n",
              "    inputElement.addEventListener('change', (e) => {\n",
              "      resolve(e.target.files);\n",
              "    });\n",
              "  });\n",
              "\n",
              "  const cancel = document.createElement('button');\n",
              "  inputElement.parentElement.appendChild(cancel);\n",
              "  cancel.textContent = 'Cancel upload';\n",
              "  const cancelPromise = new Promise((resolve) => {\n",
              "    cancel.onclick = () => {\n",
              "      resolve(null);\n",
              "    };\n",
              "  });\n",
              "\n",
              "  // Wait for the user to pick the files.\n",
              "  const files = yield {\n",
              "    promise: Promise.race([pickedPromise, cancelPromise]),\n",
              "    response: {\n",
              "      action: 'starting',\n",
              "    }\n",
              "  };\n",
              "\n",
              "  cancel.remove();\n",
              "\n",
              "  // Disable the input element since further picks are not allowed.\n",
              "  inputElement.disabled = true;\n",
              "\n",
              "  if (!files) {\n",
              "    return {\n",
              "      response: {\n",
              "        action: 'complete',\n",
              "      }\n",
              "    };\n",
              "  }\n",
              "\n",
              "  for (const file of files) {\n",
              "    const li = document.createElement('li');\n",
              "    li.append(span(file.name, {fontWeight: 'bold'}));\n",
              "    li.append(span(\n",
              "        `(${file.type || 'n/a'}) - ${file.size} bytes, ` +\n",
              "        `last modified: ${\n",
              "            file.lastModifiedDate ? file.lastModifiedDate.toLocaleDateString() :\n",
              "                                    'n/a'} - `));\n",
              "    const percent = span('0% done');\n",
              "    li.appendChild(percent);\n",
              "\n",
              "    outputElement.appendChild(li);\n",
              "\n",
              "    const fileDataPromise = new Promise((resolve) => {\n",
              "      const reader = new FileReader();\n",
              "      reader.onload = (e) => {\n",
              "        resolve(e.target.result);\n",
              "      };\n",
              "      reader.readAsArrayBuffer(file);\n",
              "    });\n",
              "    // Wait for the data to be ready.\n",
              "    let fileData = yield {\n",
              "      promise: fileDataPromise,\n",
              "      response: {\n",
              "        action: 'continue',\n",
              "      }\n",
              "    };\n",
              "\n",
              "    // Use a chunked sending to avoid message size limits. See b/62115660.\n",
              "    let position = 0;\n",
              "    do {\n",
              "      const length = Math.min(fileData.byteLength - position, MAX_PAYLOAD_SIZE);\n",
              "      const chunk = new Uint8Array(fileData, position, length);\n",
              "      position += length;\n",
              "\n",
              "      const base64 = btoa(String.fromCharCode.apply(null, chunk));\n",
              "      yield {\n",
              "        response: {\n",
              "          action: 'append',\n",
              "          file: file.name,\n",
              "          data: base64,\n",
              "        },\n",
              "      };\n",
              "\n",
              "      let percentDone = fileData.byteLength === 0 ?\n",
              "          100 :\n",
              "          Math.round((position / fileData.byteLength) * 100);\n",
              "      percent.textContent = `${percentDone}% done`;\n",
              "\n",
              "    } while (position < fileData.byteLength);\n",
              "  }\n",
              "\n",
              "  // All done.\n",
              "  yield {\n",
              "    response: {\n",
              "      action: 'complete',\n",
              "    }\n",
              "  };\n",
              "}\n",
              "\n",
              "scope.google = scope.google || {};\n",
              "scope.google.colab = scope.google.colab || {};\n",
              "scope.google.colab._files = {\n",
              "  _uploadFiles,\n",
              "  _uploadFilesContinue,\n",
              "};\n",
              "})(self);\n",
              "</script> "
            ]
          },
          "metadata": {}
        },
        {
          "output_type": "stream",
          "name": "stdout",
          "text": [
            "Saving framingham.csv to framingham.csv\n"
          ]
        }
      ]
    },
    {
      "cell_type": "code",
      "source": [
        "dataset= pd.read_csv('framingham.csv')"
      ],
      "metadata": {
        "id": "LB3M8JcidGFb"
      },
      "execution_count": null,
      "outputs": []
    },
    {
      "cell_type": "code",
      "source": [
        "dataset.isnull().sum()"
      ],
      "metadata": {
        "colab": {
          "base_uri": "https://localhost:8080/"
        },
        "id": "xDMSSeiodGOw",
        "outputId": "42af58f2-34cd-4120-ea59-52f1f858ceb0"
      },
      "execution_count": null,
      "outputs": [
        {
          "output_type": "execute_result",
          "data": {
            "text/plain": [
              "male                 0\n",
              "age                  0\n",
              "education          105\n",
              "currentSmoker        0\n",
              "cigsPerDay          29\n",
              "BPMeds              53\n",
              "prevalentStroke      0\n",
              "prevalentHyp         0\n",
              "diabetes             0\n",
              "totChol             50\n",
              "sysBP                0\n",
              "diaBP                0\n",
              "BMI                 19\n",
              "heartRate            1\n",
              "glucose            388\n",
              "TenYearCHD           0\n",
              "dtype: int64"
            ]
          },
          "metadata": {},
          "execution_count": 4
        }
      ]
    },
    {
      "cell_type": "code",
      "source": [
        "dataset.isna().sum()"
      ],
      "metadata": {
        "colab": {
          "base_uri": "https://localhost:8080/"
        },
        "id": "A3JXoYkadGQK",
        "outputId": "8ffff818-b442-4798-a6ee-2cc79953d6a0"
      },
      "execution_count": null,
      "outputs": [
        {
          "output_type": "execute_result",
          "data": {
            "text/plain": [
              "male                 0\n",
              "age                  0\n",
              "education          105\n",
              "currentSmoker        0\n",
              "cigsPerDay          29\n",
              "BPMeds              53\n",
              "prevalentStroke      0\n",
              "prevalentHyp         0\n",
              "diabetes             0\n",
              "totChol             50\n",
              "sysBP                0\n",
              "diaBP                0\n",
              "BMI                 19\n",
              "heartRate            1\n",
              "glucose            388\n",
              "TenYearCHD           0\n",
              "dtype: int64"
            ]
          },
          "metadata": {},
          "execution_count": 5
        }
      ]
    },
    {
      "cell_type": "code",
      "source": [
        "dataset.shape"
      ],
      "metadata": {
        "colab": {
          "base_uri": "https://localhost:8080/"
        },
        "id": "WQX4F_-JdGVJ",
        "outputId": "bdf5c5b8-2a11-4c0d-8bf5-d202af91802e"
      },
      "execution_count": null,
      "outputs": [
        {
          "output_type": "execute_result",
          "data": {
            "text/plain": [
              "(4238, 16)"
            ]
          },
          "metadata": {},
          "execution_count": 6
        }
      ]
    },
    {
      "cell_type": "code",
      "source": [
        "dataset.info()"
      ],
      "metadata": {
        "colab": {
          "base_uri": "https://localhost:8080/"
        },
        "id": "jmXgPKyPdGWq",
        "outputId": "79ee1ccc-4d4b-42da-ff8e-91f53a15e716"
      },
      "execution_count": null,
      "outputs": [
        {
          "output_type": "stream",
          "name": "stdout",
          "text": [
            "<class 'pandas.core.frame.DataFrame'>\n",
            "RangeIndex: 4238 entries, 0 to 4237\n",
            "Data columns (total 16 columns):\n",
            " #   Column           Non-Null Count  Dtype  \n",
            "---  ------           --------------  -----  \n",
            " 0   male             4238 non-null   int64  \n",
            " 1   age              4238 non-null   int64  \n",
            " 2   education        4133 non-null   float64\n",
            " 3   currentSmoker    4238 non-null   int64  \n",
            " 4   cigsPerDay       4209 non-null   float64\n",
            " 5   BPMeds           4185 non-null   float64\n",
            " 6   prevalentStroke  4238 non-null   int64  \n",
            " 7   prevalentHyp     4238 non-null   int64  \n",
            " 8   diabetes         4238 non-null   int64  \n",
            " 9   totChol          4188 non-null   float64\n",
            " 10  sysBP            4238 non-null   float64\n",
            " 11  diaBP            4238 non-null   float64\n",
            " 12  BMI              4219 non-null   float64\n",
            " 13  heartRate        4237 non-null   float64\n",
            " 14  glucose          3850 non-null   float64\n",
            " 15  TenYearCHD       4238 non-null   int64  \n",
            "dtypes: float64(9), int64(7)\n",
            "memory usage: 529.9 KB\n"
          ]
        }
      ]
    },
    {
      "cell_type": "code",
      "source": [
        "dataset.describe()"
      ],
      "metadata": {
        "colab": {
          "base_uri": "https://localhost:8080/",
          "height": 364
        },
        "id": "rzXoRRwgdGez",
        "outputId": "a3420745-3073-4430-9d75-d1bf2613e44a"
      },
      "execution_count": null,
      "outputs": [
        {
          "output_type": "execute_result",
          "data": {
            "text/plain": [
              "              male          age    education  currentSmoker   cigsPerDay  \\\n",
              "count  4238.000000  4238.000000  4133.000000    4238.000000  4209.000000   \n",
              "mean      0.429212    49.584946     1.978950       0.494101     9.003089   \n",
              "std       0.495022     8.572160     1.019791       0.500024    11.920094   \n",
              "min       0.000000    32.000000     1.000000       0.000000     0.000000   \n",
              "25%       0.000000    42.000000     1.000000       0.000000     0.000000   \n",
              "50%       0.000000    49.000000     2.000000       0.000000     0.000000   \n",
              "75%       1.000000    56.000000     3.000000       1.000000    20.000000   \n",
              "max       1.000000    70.000000     4.000000       1.000000    70.000000   \n",
              "\n",
              "            BPMeds  prevalentStroke  prevalentHyp     diabetes      totChol  \\\n",
              "count  4185.000000      4238.000000   4238.000000  4238.000000  4188.000000   \n",
              "mean      0.029630         0.005899      0.310524     0.025720   236.721585   \n",
              "std       0.169584         0.076587      0.462763     0.158316    44.590334   \n",
              "min       0.000000         0.000000      0.000000     0.000000   107.000000   \n",
              "25%       0.000000         0.000000      0.000000     0.000000   206.000000   \n",
              "50%       0.000000         0.000000      0.000000     0.000000   234.000000   \n",
              "75%       0.000000         0.000000      1.000000     0.000000   263.000000   \n",
              "max       1.000000         1.000000      1.000000     1.000000   696.000000   \n",
              "\n",
              "             sysBP        diaBP          BMI    heartRate      glucose  \\\n",
              "count  4238.000000  4238.000000  4219.000000  4237.000000  3850.000000   \n",
              "mean    132.352407    82.893464    25.802008    75.878924    81.966753   \n",
              "std      22.038097    11.910850     4.080111    12.026596    23.959998   \n",
              "min      83.500000    48.000000    15.540000    44.000000    40.000000   \n",
              "25%     117.000000    75.000000    23.070000    68.000000    71.000000   \n",
              "50%     128.000000    82.000000    25.400000    75.000000    78.000000   \n",
              "75%     144.000000    89.875000    28.040000    83.000000    87.000000   \n",
              "max     295.000000   142.500000    56.800000   143.000000   394.000000   \n",
              "\n",
              "        TenYearCHD  \n",
              "count  4238.000000  \n",
              "mean      0.151958  \n",
              "std       0.359023  \n",
              "min       0.000000  \n",
              "25%       0.000000  \n",
              "50%       0.000000  \n",
              "75%       0.000000  \n",
              "max       1.000000  "
            ],
            "text/html": [
              "\n",
              "  <div id=\"df-fbfe73e9-f9b6-484f-8548-f582ad7ce101\">\n",
              "    <div class=\"colab-df-container\">\n",
              "      <div>\n",
              "<style scoped>\n",
              "    .dataframe tbody tr th:only-of-type {\n",
              "        vertical-align: middle;\n",
              "    }\n",
              "\n",
              "    .dataframe tbody tr th {\n",
              "        vertical-align: top;\n",
              "    }\n",
              "\n",
              "    .dataframe thead th {\n",
              "        text-align: right;\n",
              "    }\n",
              "</style>\n",
              "<table border=\"1\" class=\"dataframe\">\n",
              "  <thead>\n",
              "    <tr style=\"text-align: right;\">\n",
              "      <th></th>\n",
              "      <th>male</th>\n",
              "      <th>age</th>\n",
              "      <th>education</th>\n",
              "      <th>currentSmoker</th>\n",
              "      <th>cigsPerDay</th>\n",
              "      <th>BPMeds</th>\n",
              "      <th>prevalentStroke</th>\n",
              "      <th>prevalentHyp</th>\n",
              "      <th>diabetes</th>\n",
              "      <th>totChol</th>\n",
              "      <th>sysBP</th>\n",
              "      <th>diaBP</th>\n",
              "      <th>BMI</th>\n",
              "      <th>heartRate</th>\n",
              "      <th>glucose</th>\n",
              "      <th>TenYearCHD</th>\n",
              "    </tr>\n",
              "  </thead>\n",
              "  <tbody>\n",
              "    <tr>\n",
              "      <th>count</th>\n",
              "      <td>4238.000000</td>\n",
              "      <td>4238.000000</td>\n",
              "      <td>4133.000000</td>\n",
              "      <td>4238.000000</td>\n",
              "      <td>4209.000000</td>\n",
              "      <td>4185.000000</td>\n",
              "      <td>4238.000000</td>\n",
              "      <td>4238.000000</td>\n",
              "      <td>4238.000000</td>\n",
              "      <td>4188.000000</td>\n",
              "      <td>4238.000000</td>\n",
              "      <td>4238.000000</td>\n",
              "      <td>4219.000000</td>\n",
              "      <td>4237.000000</td>\n",
              "      <td>3850.000000</td>\n",
              "      <td>4238.000000</td>\n",
              "    </tr>\n",
              "    <tr>\n",
              "      <th>mean</th>\n",
              "      <td>0.429212</td>\n",
              "      <td>49.584946</td>\n",
              "      <td>1.978950</td>\n",
              "      <td>0.494101</td>\n",
              "      <td>9.003089</td>\n",
              "      <td>0.029630</td>\n",
              "      <td>0.005899</td>\n",
              "      <td>0.310524</td>\n",
              "      <td>0.025720</td>\n",
              "      <td>236.721585</td>\n",
              "      <td>132.352407</td>\n",
              "      <td>82.893464</td>\n",
              "      <td>25.802008</td>\n",
              "      <td>75.878924</td>\n",
              "      <td>81.966753</td>\n",
              "      <td>0.151958</td>\n",
              "    </tr>\n",
              "    <tr>\n",
              "      <th>std</th>\n",
              "      <td>0.495022</td>\n",
              "      <td>8.572160</td>\n",
              "      <td>1.019791</td>\n",
              "      <td>0.500024</td>\n",
              "      <td>11.920094</td>\n",
              "      <td>0.169584</td>\n",
              "      <td>0.076587</td>\n",
              "      <td>0.462763</td>\n",
              "      <td>0.158316</td>\n",
              "      <td>44.590334</td>\n",
              "      <td>22.038097</td>\n",
              "      <td>11.910850</td>\n",
              "      <td>4.080111</td>\n",
              "      <td>12.026596</td>\n",
              "      <td>23.959998</td>\n",
              "      <td>0.359023</td>\n",
              "    </tr>\n",
              "    <tr>\n",
              "      <th>min</th>\n",
              "      <td>0.000000</td>\n",
              "      <td>32.000000</td>\n",
              "      <td>1.000000</td>\n",
              "      <td>0.000000</td>\n",
              "      <td>0.000000</td>\n",
              "      <td>0.000000</td>\n",
              "      <td>0.000000</td>\n",
              "      <td>0.000000</td>\n",
              "      <td>0.000000</td>\n",
              "      <td>107.000000</td>\n",
              "      <td>83.500000</td>\n",
              "      <td>48.000000</td>\n",
              "      <td>15.540000</td>\n",
              "      <td>44.000000</td>\n",
              "      <td>40.000000</td>\n",
              "      <td>0.000000</td>\n",
              "    </tr>\n",
              "    <tr>\n",
              "      <th>25%</th>\n",
              "      <td>0.000000</td>\n",
              "      <td>42.000000</td>\n",
              "      <td>1.000000</td>\n",
              "      <td>0.000000</td>\n",
              "      <td>0.000000</td>\n",
              "      <td>0.000000</td>\n",
              "      <td>0.000000</td>\n",
              "      <td>0.000000</td>\n",
              "      <td>0.000000</td>\n",
              "      <td>206.000000</td>\n",
              "      <td>117.000000</td>\n",
              "      <td>75.000000</td>\n",
              "      <td>23.070000</td>\n",
              "      <td>68.000000</td>\n",
              "      <td>71.000000</td>\n",
              "      <td>0.000000</td>\n",
              "    </tr>\n",
              "    <tr>\n",
              "      <th>50%</th>\n",
              "      <td>0.000000</td>\n",
              "      <td>49.000000</td>\n",
              "      <td>2.000000</td>\n",
              "      <td>0.000000</td>\n",
              "      <td>0.000000</td>\n",
              "      <td>0.000000</td>\n",
              "      <td>0.000000</td>\n",
              "      <td>0.000000</td>\n",
              "      <td>0.000000</td>\n",
              "      <td>234.000000</td>\n",
              "      <td>128.000000</td>\n",
              "      <td>82.000000</td>\n",
              "      <td>25.400000</td>\n",
              "      <td>75.000000</td>\n",
              "      <td>78.000000</td>\n",
              "      <td>0.000000</td>\n",
              "    </tr>\n",
              "    <tr>\n",
              "      <th>75%</th>\n",
              "      <td>1.000000</td>\n",
              "      <td>56.000000</td>\n",
              "      <td>3.000000</td>\n",
              "      <td>1.000000</td>\n",
              "      <td>20.000000</td>\n",
              "      <td>0.000000</td>\n",
              "      <td>0.000000</td>\n",
              "      <td>1.000000</td>\n",
              "      <td>0.000000</td>\n",
              "      <td>263.000000</td>\n",
              "      <td>144.000000</td>\n",
              "      <td>89.875000</td>\n",
              "      <td>28.040000</td>\n",
              "      <td>83.000000</td>\n",
              "      <td>87.000000</td>\n",
              "      <td>0.000000</td>\n",
              "    </tr>\n",
              "    <tr>\n",
              "      <th>max</th>\n",
              "      <td>1.000000</td>\n",
              "      <td>70.000000</td>\n",
              "      <td>4.000000</td>\n",
              "      <td>1.000000</td>\n",
              "      <td>70.000000</td>\n",
              "      <td>1.000000</td>\n",
              "      <td>1.000000</td>\n",
              "      <td>1.000000</td>\n",
              "      <td>1.000000</td>\n",
              "      <td>696.000000</td>\n",
              "      <td>295.000000</td>\n",
              "      <td>142.500000</td>\n",
              "      <td>56.800000</td>\n",
              "      <td>143.000000</td>\n",
              "      <td>394.000000</td>\n",
              "      <td>1.000000</td>\n",
              "    </tr>\n",
              "  </tbody>\n",
              "</table>\n",
              "</div>\n",
              "      <button class=\"colab-df-convert\" onclick=\"convertToInteractive('df-fbfe73e9-f9b6-484f-8548-f582ad7ce101')\"\n",
              "              title=\"Convert this dataframe to an interactive table.\"\n",
              "              style=\"display:none;\">\n",
              "        \n",
              "  <svg xmlns=\"http://www.w3.org/2000/svg\" height=\"24px\"viewBox=\"0 0 24 24\"\n",
              "       width=\"24px\">\n",
              "    <path d=\"M0 0h24v24H0V0z\" fill=\"none\"/>\n",
              "    <path d=\"M18.56 5.44l.94 2.06.94-2.06 2.06-.94-2.06-.94-.94-2.06-.94 2.06-2.06.94zm-11 1L8.5 8.5l.94-2.06 2.06-.94-2.06-.94L8.5 2.5l-.94 2.06-2.06.94zm10 10l.94 2.06.94-2.06 2.06-.94-2.06-.94-.94-2.06-.94 2.06-2.06.94z\"/><path d=\"M17.41 7.96l-1.37-1.37c-.4-.4-.92-.59-1.43-.59-.52 0-1.04.2-1.43.59L10.3 9.45l-7.72 7.72c-.78.78-.78 2.05 0 2.83L4 21.41c.39.39.9.59 1.41.59.51 0 1.02-.2 1.41-.59l7.78-7.78 2.81-2.81c.8-.78.8-2.07 0-2.86zM5.41 20L4 18.59l7.72-7.72 1.47 1.35L5.41 20z\"/>\n",
              "  </svg>\n",
              "      </button>\n",
              "      \n",
              "  <style>\n",
              "    .colab-df-container {\n",
              "      display:flex;\n",
              "      flex-wrap:wrap;\n",
              "      gap: 12px;\n",
              "    }\n",
              "\n",
              "    .colab-df-convert {\n",
              "      background-color: #E8F0FE;\n",
              "      border: none;\n",
              "      border-radius: 50%;\n",
              "      cursor: pointer;\n",
              "      display: none;\n",
              "      fill: #1967D2;\n",
              "      height: 32px;\n",
              "      padding: 0 0 0 0;\n",
              "      width: 32px;\n",
              "    }\n",
              "\n",
              "    .colab-df-convert:hover {\n",
              "      background-color: #E2EBFA;\n",
              "      box-shadow: 0px 1px 2px rgba(60, 64, 67, 0.3), 0px 1px 3px 1px rgba(60, 64, 67, 0.15);\n",
              "      fill: #174EA6;\n",
              "    }\n",
              "\n",
              "    [theme=dark] .colab-df-convert {\n",
              "      background-color: #3B4455;\n",
              "      fill: #D2E3FC;\n",
              "    }\n",
              "\n",
              "    [theme=dark] .colab-df-convert:hover {\n",
              "      background-color: #434B5C;\n",
              "      box-shadow: 0px 1px 3px 1px rgba(0, 0, 0, 0.15);\n",
              "      filter: drop-shadow(0px 1px 2px rgba(0, 0, 0, 0.3));\n",
              "      fill: #FFFFFF;\n",
              "    }\n",
              "  </style>\n",
              "\n",
              "      <script>\n",
              "        const buttonEl =\n",
              "          document.querySelector('#df-fbfe73e9-f9b6-484f-8548-f582ad7ce101 button.colab-df-convert');\n",
              "        buttonEl.style.display =\n",
              "          google.colab.kernel.accessAllowed ? 'block' : 'none';\n",
              "\n",
              "        async function convertToInteractive(key) {\n",
              "          const element = document.querySelector('#df-fbfe73e9-f9b6-484f-8548-f582ad7ce101');\n",
              "          const dataTable =\n",
              "            await google.colab.kernel.invokeFunction('convertToInteractive',\n",
              "                                                     [key], {});\n",
              "          if (!dataTable) return;\n",
              "\n",
              "          const docLinkHtml = 'Like what you see? Visit the ' +\n",
              "            '<a target=\"_blank\" href=https://colab.research.google.com/notebooks/data_table.ipynb>data table notebook</a>'\n",
              "            + ' to learn more about interactive tables.';\n",
              "          element.innerHTML = '';\n",
              "          dataTable['output_type'] = 'display_data';\n",
              "          await google.colab.output.renderOutput(dataTable, element);\n",
              "          const docLink = document.createElement('div');\n",
              "          docLink.innerHTML = docLinkHtml;\n",
              "          element.appendChild(docLink);\n",
              "        }\n",
              "      </script>\n",
              "    </div>\n",
              "  </div>\n",
              "  "
            ]
          },
          "metadata": {},
          "execution_count": 8
        }
      ]
    },
    {
      "cell_type": "markdown",
      "source": [
        "**Data Pre-processing**"
      ],
      "metadata": {
        "id": "WrUV6kCOdihZ"
      }
    },
    {
      "cell_type": "code",
      "source": [
        "count=0\n",
        "for i in dataset.isnull().sum(axis=1):\n",
        "    if i>0:\n",
        "        count=count+1\n",
        "print('Total number of rows with missing values is ', count)\n",
        "print('Since the number of rows with missing values are only',round((count/len(dataset.index))*100), '% of the entire dataset given, we decide to drop the rows with the missing or NaN values.')"
      ],
      "metadata": {
        "colab": {
          "base_uri": "https://localhost:8080/"
        },
        "id": "lv-NDirXdGmZ",
        "outputId": "7dc0018f-15ed-4900-a3db-2fb5714a701b"
      },
      "execution_count": null,
      "outputs": [
        {
          "output_type": "stream",
          "name": "stdout",
          "text": [
            "Total number of rows with missing values is  582\n",
            "Since the number of rows with missing values are only 14 % of the entire dataset given, we decide to drop the rows with the missing or NaN values.\n"
          ]
        }
      ]
    },
    {
      "cell_type": "code",
      "source": [
        "dataset = dataset.dropna()"
      ],
      "metadata": {
        "id": "IOiEhd-jdGsJ"
      },
      "execution_count": null,
      "outputs": []
    },
    {
      "cell_type": "code",
      "source": [
        "dataset.isnull().sum()"
      ],
      "metadata": {
        "colab": {
          "base_uri": "https://localhost:8080/"
        },
        "id": "t_GFpO1TdGto",
        "outputId": "c01c9955-c9fc-4747-d7cd-2f5134ce605c"
      },
      "execution_count": null,
      "outputs": [
        {
          "output_type": "execute_result",
          "data": {
            "text/plain": [
              "male               0\n",
              "age                0\n",
              "education          0\n",
              "currentSmoker      0\n",
              "cigsPerDay         0\n",
              "BPMeds             0\n",
              "prevalentStroke    0\n",
              "prevalentHyp       0\n",
              "diabetes           0\n",
              "totChol            0\n",
              "sysBP              0\n",
              "diaBP              0\n",
              "BMI                0\n",
              "heartRate          0\n",
              "glucose            0\n",
              "TenYearCHD         0\n",
              "dtype: int64"
            ]
          },
          "metadata": {},
          "execution_count": 11
        }
      ]
    },
    {
      "cell_type": "code",
      "source": [
        "dataset.shape"
      ],
      "metadata": {
        "colab": {
          "base_uri": "https://localhost:8080/"
        },
        "id": "8QZFeyu7ebpp",
        "outputId": "bf6bd7bd-898f-4f27-8013-d85f98c429ae"
      },
      "execution_count": null,
      "outputs": [
        {
          "output_type": "execute_result",
          "data": {
            "text/plain": [
              "(3656, 16)"
            ]
          },
          "metadata": {},
          "execution_count": 12
        }
      ]
    },
    {
      "cell_type": "code",
      "source": [
        "dataset.mean()"
      ],
      "metadata": {
        "colab": {
          "base_uri": "https://localhost:8080/"
        },
        "id": "_qj6u6SweiRs",
        "outputId": "ad9594ad-ef92-4ed4-91cf-cd250089ee36"
      },
      "execution_count": null,
      "outputs": [
        {
          "output_type": "execute_result",
          "data": {
            "text/plain": [
              "male                 0.443654\n",
              "age                 49.557440\n",
              "education            1.979759\n",
              "currentSmoker        0.489059\n",
              "cigsPerDay           9.022155\n",
              "BPMeds               0.030361\n",
              "prevalentStroke      0.005744\n",
              "prevalentHyp         0.311543\n",
              "diabetes             0.027079\n",
              "totChol            236.873085\n",
              "sysBP              132.368025\n",
              "diaBP               82.912062\n",
              "BMI                 25.784185\n",
              "heartRate           75.730580\n",
              "glucose             81.856127\n",
              "TenYearCHD           0.152352\n",
              "dtype: float64"
            ]
          },
          "metadata": {},
          "execution_count": 13
        }
      ]
    },
    {
      "cell_type": "markdown",
      "source": [
        "Removing outliers"
      ],
      "metadata": {
        "id": "bcmMImeeetkL"
      }
    },
    {
      "cell_type": "code",
      "source": [
        "dataset.boxplot(column='cigsPerDay')"
      ],
      "metadata": {
        "colab": {
          "base_uri": "https://localhost:8080/",
          "height": 282
        },
        "id": "zbJDK7NJenLv",
        "outputId": "27bbecd9-d85a-4b2c-dfbe-bd7a4fbd29e4"
      },
      "execution_count": null,
      "outputs": [
        {
          "output_type": "execute_result",
          "data": {
            "text/plain": [
              "<Axes: >"
            ]
          },
          "metadata": {},
          "execution_count": 14
        },
        {
          "output_type": "display_data",
          "data": {
            "text/plain": [
              "<Figure size 432x288 with 1 Axes>"
            ],
            "image/png": "[encoded data removed]"
          },
          "metadata": {
            "needs_background": "light"
          }
        }
      ]
    },
    {
      "cell_type": "code",
      "source": [
        "dataset.loc[dataset['cigsPerDay'] > 59, 'cigsPerDay'] = 9.02"
      ],
      "metadata": {
        "id": "XwwyLlgHenS7"
      },
      "execution_count": null,
      "outputs": []
    },
    {
      "cell_type": "code",
      "source": [
        "dataset.boxplot(column='cigsPerDay') #after removing outliers"
      ],
      "metadata": {
        "colab": {
          "base_uri": "https://localhost:8080/",
          "height": 282
        },
        "id": "4Q4IzX0ZencE",
        "outputId": "62d74a78-0e36-4dad-a622-b593d9f6082e"
      },
      "execution_count": null,
      "outputs": [
        {
          "output_type": "execute_result",
          "data": {
            "text/plain": [
              "<Axes: >"
            ]
          },
          "metadata": {},
          "execution_count": 16
        },
        {
          "output_type": "display_data",
          "data": {
            "text/plain": [
              "<Figure size 432x288 with 1 Axes>"
            ],
            "image/png": "[encoded data removed]"
          },
          "metadata": {
            "needs_background": "light"
          }
        }
      ]
    },
    {
      "cell_type": "code",
      "source": [
        "dataset['totChol'].describe()"
      ],
      "metadata": {
        "colab": {
          "base_uri": "https://localhost:8080/"
        },
        "id": "DQKQ41-senoB",
        "outputId": "c5f30865-94e4-478d-c97a-6021a2c64356"
      },
      "execution_count": null,
      "outputs": [
        {
          "output_type": "execute_result",
          "data": {
            "text/plain": [
              "count    3656.000000\n",
              "mean      236.873085\n",
              "std        44.096223\n",
              "min       113.000000\n",
              "25%       206.000000\n",
              "50%       234.000000\n",
              "75%       263.250000\n",
              "max       600.000000\n",
              "Name: totChol, dtype: float64"
            ]
          },
          "metadata": {},
          "execution_count": 17
        }
      ]
    },
    {
      "cell_type": "code",
      "source": [
        "dataset.boxplot(column='totChol')"
      ],
      "metadata": {
        "colab": {
          "base_uri": "https://localhost:8080/",
          "height": 282
        },
        "id": "nCryBm62gB6B",
        "outputId": "9a634ec0-626b-4beb-8f1b-e99b27936a9a"
      },
      "execution_count": null,
      "outputs": [
        {
          "output_type": "execute_result",
          "data": {
            "text/plain": [
              "<Axes: >"
            ]
          },
          "metadata": {},
          "execution_count": 18
        },
        {
          "output_type": "display_data",
          "data": {
            "text/plain": [
              "<Figure size 432x288 with 1 Axes>"
            ],
            "image/png": "[encoded data removed]"
          },
          "metadata": {
            "needs_background": "light"
          }
        }
      ]
    },
    {
      "cell_type": "code",
      "source": [
        "dataset.loc[dataset['totChol'] > 480, 'totChol'] = 237"
      ],
      "metadata": {
        "id": "ZBZW3pzdgJvN"
      },
      "execution_count": null,
      "outputs": []
    },
    {
      "cell_type": "code",
      "source": [
        "dataset.boxplot(column='totChol')"
      ],
      "metadata": {
        "colab": {
          "base_uri": "https://localhost:8080/",
          "height": 282
        },
        "id": "Femh2wlkgJ5t",
        "outputId": "0b7a86b2-d236-4a3c-9acc-f93804329ab5"
      },
      "execution_count": null,
      "outputs": [
        {
          "output_type": "execute_result",
          "data": {
            "text/plain": [
              "<Axes: >"
            ]
          },
          "metadata": {},
          "execution_count": 20
        },
        {
          "output_type": "display_data",
          "data": {
            "text/plain": [
              "<Figure size 432x288 with 1 Axes>"
            ],
            "image/png": "[encoded data removed]"
          },
          "metadata": {
            "needs_background": "light"
          }
        }
      ]
    },
    {
      "cell_type": "code",
      "source": [
        "dataset['sysBP'].describe()"
      ],
      "metadata": {
        "colab": {
          "base_uri": "https://localhost:8080/"
        },
        "id": "FnDP7l-JgJ7c",
        "outputId": "9d087a0e-8e82-406f-bf5b-91e2bef6f6e2"
      },
      "execution_count": null,
      "outputs": [
        {
          "output_type": "execute_result",
          "data": {
            "text/plain": [
              "count    3656.000000\n",
              "mean      132.368025\n",
              "std        22.092444\n",
              "min        83.500000\n",
              "25%       117.000000\n",
              "50%       128.000000\n",
              "75%       144.000000\n",
              "max       295.000000\n",
              "Name: sysBP, dtype: float64"
            ]
          },
          "metadata": {},
          "execution_count": 21
        }
      ]
    },
    {
      "cell_type": "code",
      "source": [
        "dataset.boxplot(column='sysBP')"
      ],
      "metadata": {
        "colab": {
          "base_uri": "https://localhost:8080/",
          "height": 282
        },
        "id": "8BNUttQXf8TT",
        "outputId": "d3b75638-be55-4545-b980-aacdaf9ad3b9"
      },
      "execution_count": null,
      "outputs": [
        {
          "output_type": "execute_result",
          "data": {
            "text/plain": [
              "<Axes: >"
            ]
          },
          "metadata": {},
          "execution_count": 22
        },
        {
          "output_type": "display_data",
          "data": {
            "text/plain": [
              "<Figure size 432x288 with 1 Axes>"
            ],
            "image/png": "[encoded data removed]"
          },
          "metadata": {
            "needs_background": "light"
          }
        }
      ]
    },
    {
      "cell_type": "code",
      "source": [
        "dataset.loc[dataset['sysBP'] > 270, 'sysBP'] = dataset['sysBP'].median()"
      ],
      "metadata": {
        "id": "zkQVES7thDNT"
      },
      "execution_count": null,
      "outputs": []
    },
    {
      "cell_type": "code",
      "source": [
        "dataset.boxplot(column='sysBP') #After removing the outliers"
      ],
      "metadata": {
        "colab": {
          "base_uri": "https://localhost:8080/",
          "height": 282
        },
        "id": "N1Eaf6ADhNu3",
        "outputId": "f34fa74d-4d81-4597-ffc0-831cf4457931"
      },
      "execution_count": null,
      "outputs": [
        {
          "output_type": "execute_result",
          "data": {
            "text/plain": [
              "<Axes: >"
            ]
          },
          "metadata": {},
          "execution_count": 24
        },
        {
          "output_type": "display_data",
          "data": {
            "text/plain": [
              "<Figure size 432x288 with 1 Axes>"
            ],
            "image/png": "[encoded data removed]"
          },
          "metadata": {
            "needs_background": "light"
          }
        }
      ]
    },
    {
      "cell_type": "code",
      "source": [
        "dataset['BMI'].describe()"
      ],
      "metadata": {
        "colab": {
          "base_uri": "https://localhost:8080/"
        },
        "id": "v3og-HRchVKl",
        "outputId": "f22fb8f0-4f29-49e3-a69c-b0ba9f409a4b"
      },
      "execution_count": null,
      "outputs": [
        {
          "output_type": "execute_result",
          "data": {
            "text/plain": [
              "count    3656.000000\n",
              "mean       25.784185\n",
              "std         4.065913\n",
              "min        15.540000\n",
              "25%        23.080000\n",
              "50%        25.380000\n",
              "75%        28.040000\n",
              "max        56.800000\n",
              "Name: BMI, dtype: float64"
            ]
          },
          "metadata": {},
          "execution_count": 25
        }
      ]
    },
    {
      "cell_type": "code",
      "source": [
        "dataset.boxplot(column='BMI')"
      ],
      "metadata": {
        "colab": {
          "base_uri": "https://localhost:8080/",
          "height": 282
        },
        "id": "-P3UTdIkhlNm",
        "outputId": "0f617bbd-ae9b-46a9-a78e-aa7e7e95483b"
      },
      "execution_count": null,
      "outputs": [
        {
          "output_type": "execute_result",
          "data": {
            "text/plain": [
              "<Axes: >"
            ]
          },
          "metadata": {},
          "execution_count": 26
        },
        {
          "output_type": "display_data",
          "data": {
            "text/plain": [
              "<Figure size 432x288 with 1 Axes>"
            ],
            "image/png": "[encoded data removed]"
          },
          "metadata": {
            "needs_background": "light"
          }
        }
      ]
    },
    {
      "cell_type": "code",
      "source": [
        "dataset.loc[dataset['BMI'] > 49, 'BMI'] = dataset['BMI'].median()"
      ],
      "metadata": {
        "id": "zg8RCjIciBcV"
      },
      "execution_count": null,
      "outputs": []
    },
    {
      "cell_type": "code",
      "source": [
        "dataset.boxplot(column='BMI') #After removing the outliers"
      ],
      "metadata": {
        "colab": {
          "base_uri": "https://localhost:8080/",
          "height": 282
        },
        "id": "20IkkVIXiH9d",
        "outputId": "8c6ced28-9c4b-434e-f565-fa7df5661a05"
      },
      "execution_count": null,
      "outputs": [
        {
          "output_type": "execute_result",
          "data": {
            "text/plain": [
              "<Axes: >"
            ]
          },
          "metadata": {},
          "execution_count": 28
        },
        {
          "output_type": "display_data",
          "data": {
            "text/plain": [
              "<Figure size 432x288 with 1 Axes>"
            ],
            "image/png": "[encoded data removed]"
          },
          "metadata": {
            "needs_background": "light"
          }
        }
      ]
    },
    {
      "cell_type": "code",
      "source": [
        "dataset['heartRate'].describe()"
      ],
      "metadata": {
        "colab": {
          "base_uri": "https://localhost:8080/"
        },
        "id": "2YW20E-2iNgI",
        "outputId": "c0f07bd9-7677-43cb-a4a0-d5b96cd8305d"
      },
      "execution_count": null,
      "outputs": [
        {
          "output_type": "execute_result",
          "data": {
            "text/plain": [
              "count    3656.000000\n",
              "mean       75.730580\n",
              "std        11.982952\n",
              "min        44.000000\n",
              "25%        68.000000\n",
              "50%        75.000000\n",
              "75%        82.000000\n",
              "max       143.000000\n",
              "Name: heartRate, dtype: float64"
            ]
          },
          "metadata": {},
          "execution_count": 29
        }
      ]
    },
    {
      "cell_type": "code",
      "source": [
        "dataset.boxplot(column='heartRate')"
      ],
      "metadata": {
        "colab": {
          "base_uri": "https://localhost:8080/",
          "height": 282
        },
        "id": "uH9ICpkCidYS",
        "outputId": "859510c5-00d2-4557-eb09-27376e234eb0"
      },
      "execution_count": null,
      "outputs": [
        {
          "output_type": "execute_result",
          "data": {
            "text/plain": [
              "<Axes: >"
            ]
          },
          "metadata": {},
          "execution_count": 30
        },
        {
          "output_type": "display_data",
          "data": {
            "text/plain": [
              "<Figure size 432x288 with 1 Axes>"
            ],
            "image/png": "[encoded data removed]"
          },
          "metadata": {
            "needs_background": "light"
          }
        }
      ]
    },
    {
      "cell_type": "code",
      "source": [
        "dataset['glucose'].describe()"
      ],
      "metadata": {
        "colab": {
          "base_uri": "https://localhost:8080/"
        },
        "id": "yt5mv7W0idad",
        "outputId": "a0aa35c0-df21-4195-bc84-c0ad69cd0772"
      },
      "execution_count": null,
      "outputs": [
        {
          "output_type": "execute_result",
          "data": {
            "text/plain": [
              "count    3656.000000\n",
              "mean       81.856127\n",
              "std        23.910128\n",
              "min        40.000000\n",
              "25%        71.000000\n",
              "50%        78.000000\n",
              "75%        87.000000\n",
              "max       394.000000\n",
              "Name: glucose, dtype: float64"
            ]
          },
          "metadata": {},
          "execution_count": 31
        }
      ]
    },
    {
      "cell_type": "code",
      "source": [
        "dataset.boxplot(column='glucose')"
      ],
      "metadata": {
        "colab": {
          "base_uri": "https://localhost:8080/",
          "height": 282
        },
        "id": "1_IC-77Dide1",
        "outputId": "f3f1aba2-8824-4258-b867-f51708059f7b"
      },
      "execution_count": null,
      "outputs": [
        {
          "output_type": "execute_result",
          "data": {
            "text/plain": [
              "<Axes: >"
            ]
          },
          "metadata": {},
          "execution_count": 32
        },
        {
          "output_type": "display_data",
          "data": {
            "text/plain": [
              "<Figure size 432x288 with 1 Axes>"
            ],
            "image/png": "[encoded data removed]"
          },
          "metadata": {
            "needs_background": "light"
          }
        }
      ]
    },
    {
      "cell_type": "markdown",
      "source": [
        "Above we observed that the Glucose level and Heart Rate have not been changed although their boxplots show some outliers, i.e., becuase these levels differ variedly from person to person and can be too high or too low depending upon the person's health."
      ],
      "metadata": {
        "id": "yM25z8C9inlE"
      }
    },
    {
      "cell_type": "code",
      "source": [
        "plt.rc('xtick', labelsize=13)   # fontsize of the tick labels\n",
        "plt.rc('ytick', labelsize=13)  # fontsize of the tick labels\n",
        "plt.figure(figsize=(13.5, 9.5))\n",
        "# define the mask to set the values in the upper triangle to True\n",
        "mask = np.triu(np.ones_like(dataset.corr(), dtype=np.bool))\n",
        "heatmap = sns.heatmap(dataset.corr(), mask=mask, vmin=0, vmax=1, annot=True, cmap='Blues', annot_kws={\"size\": 11.5})"
      ],
      "metadata": {
        "colab": {
          "base_uri": "https://localhost:8080/",
          "height": 736
        },
        "id": "kNb-45kYEnwI",
        "outputId": "d7b72940-4968-4f62-b516-1d0a7288b7c5"
      },
      "execution_count": null,
      "outputs": [
        {
          "output_type": "stream",
          "name": "stderr",
          "text": [
            "<ipython-input-33-f698e6492d66>:5: DeprecationWarning: `np.bool` is a deprecated alias for the builtin `bool`. To silence this warning, use `bool` by itself. Doing this will not modify any behavior and is safe. If you specifically wanted the numpy scalar type, use `np.bool_` here.\n",
            "Deprecated in NumPy 1.20; for more details and guidance: https://numpy.org/devdocs/release/1.20.0-notes.html#deprecations\n",
            "  mask = np.triu(np.ones_like(dataset.corr(), dtype=np.bool))\n"
          ]
        },
        {
          "output_type": "display_data",
          "data": {
            "text/plain": [
              "<Figure size 972x684 with 2 Axes>"
            ],
            "image/png": "[encoded data removed]"
          },
          "metadata": {
            "needs_background": "light"
          }
        }
      ]
    },
    {
      "cell_type": "code",
      "source": [
        "predictors= dataset.iloc[:, 1:15]\n",
        "labels= dataset.iloc[:,-1]\n",
        "x_train, x_test, y_train, y_test= train_test_split(predictors, labels, test_size=0.2)"
      ],
      "metadata": {
        "id": "vGaTbjmEEzEE"
      },
      "execution_count": null,
      "outputs": []
    },
    {
      "cell_type": "code",
      "source": [
        "#with selected features\n",
        "data1= dataset[['age', 'prevalentHyp', 'sysBP' ,\t'diaBP', 'glucose', 'TenYearCHD']]\n",
        "predictors1= data1.iloc[:, 0:5]\n",
        "labels1= data1.iloc[:,-1]\n",
        "\n",
        "from imblearn.over_sampling import SMOTE\n",
        "# Perform SMOTE oversampling\n",
        "smote = SMOTE()\n",
        "X_resampled, y_resampled = smote.fit_resample(predictors1, labels1)\n",
        "\n",
        "x_trainn, x_testt, y_trainn, y_testt= train_test_split(X_resampled, y_resampled, test_size=0.2)\n"
      ],
      "metadata": {
        "id": "VLskIc_cE1fv"
      },
      "execution_count": null,
      "outputs": []
    },
    {
      "cell_type": "code",
      "source": [
        "from sklearn.feature_selection import SelectKBest\n",
        "from sklearn.feature_selection import f_classif"
      ],
      "metadata": {
        "id": "tFTHmC95E3Cz"
      },
      "execution_count": null,
      "outputs": []
    },
    {
      "cell_type": "code",
      "source": [
        "test = SelectKBest(score_func=f_classif, k=4)\n",
        "fit = test.fit(x_train, y_train)"
      ],
      "metadata": {
        "id": "OUtVcXeCE4gn"
      },
      "execution_count": null,
      "outputs": []
    },
    {
      "cell_type": "code",
      "source": [
        "from numpy import set_printoptions\n",
        "set_printoptions(precision=2)\n",
        "print(np.round(fit.scores_))\n",
        "features = fit.transform(x_train)\n",
        "# summarize selected features\n",
        "print(features[0:5,:])"
      ],
      "metadata": {
        "colab": {
          "base_uri": "https://localhost:8080/"
        },
        "id": "IT5QgVVnE5_w",
        "outputId": "ae3eddbb-33d4-4e7f-de14-39f56c5973ef"
      },
      "execution_count": null,
      "outputs": [
        {
          "output_type": "stream",
          "name": "stdout",
          "text": [
            "[159.  15.   1.   6.  16.   8.  95.  38.  20. 129.  70.  21.   1.  57.]\n",
            "[[ 46.    0.  105.5  67. ]\n",
            " [ 44.    0.  120.   80. ]\n",
            " [ 36.    0.  107.   73.5]\n",
            " [ 46.    1.  144.   79. ]\n",
            " [ 64.    0.  114.   73. ]]\n"
          ]
        }
      ]
    },
    {
      "cell_type": "code",
      "source": [
        "from matplotlib import rcParams\n",
        "data=[78,  3,  1,  6,  8,  0, 35, 12, 10, 50, 26, 11,  1, 14]\n",
        "labelsize=18\n",
        "rcParams['xtick.labelsize']= labelsize\n",
        "rcParams['ytick.labelsize']= labelsize\n",
        "plt.figure(figsize =(36, 14))\n",
        "labels = ['age',\t'education',\t'currentSmoker',\t'cigsPerDay',\t'BPMeds',\t'prevalentStroke',\t'prevalentHyp',\t'diabetes',\t'totChol',\t'sysBP',\t'diaBP',\t'BMI',\t'heartRate',\t'glucose']\n",
        "#labels = X.columns\n",
        "plt.xlabel('Input Features', fontsize=30)\n",
        "plt.ylabel('Feature Score', fontsize=30)\n",
        "plt.bar(labels, data)"
      ],
      "metadata": {
        "colab": {
          "base_uri": "https://localhost:8080/",
          "height": 531
        },
        "id": "i6IqjhDGE7dM",
        "outputId": "c3a5dfdd-a95b-4ec2-96f4-3b83121fd84f"
      },
      "execution_count": null,
      "outputs": [
        {
          "output_type": "execute_result",
          "data": {
            "text/plain": [
              "<BarContainer object of 14 artists>"
            ]
          },
          "metadata": {},
          "execution_count": 39
        },
        {
          "output_type": "display_data",
          "data": {
            "text/plain": [
              "<Figure size 2592x1008 with 1 Axes>"
            ],
            "image/png": "[encoded data removed]"
          },
          "metadata": {
            "needs_background": "light"
          }
        }
      ]
    },
    {
      "cell_type": "markdown",
      "source": [
        "**1.Extra Trees Classifier**"
      ],
      "metadata": {
        "id": "WZT9T4M3rkWM"
      }
    },
    {
      "cell_type": "code",
      "source": [
        "# Train the Extra Trees Classifier on the training data\n",
        "from sklearn.ensemble import ExtraTreesClassifier\n",
        "clf1 = ExtraTreesClassifier(n_estimators=100, random_state=42)\n",
        "clf1.fit(x_trainn, y_trainn)\n",
        "\n",
        "# Predict on the test data\n",
        "y_pred1 = clf1.predict(x_testt)\n",
        "\n",
        "from sklearn.metrics import accuracy_score\n",
        "# Calculate the accuracy of the model\n",
        "acc1 = accuracy_score(y_testt, y_pred1)\n",
        "print('Accuracy:', acc1)\n",
        "\n",
        "# Calculate the precision, recall, and F1-score\n",
        "from sklearn.metrics import accuracy_score, precision_score, recall_score, f1_score\n",
        "precision1 = precision_score(y_testt, y_pred1)\n",
        "recall1 = recall_score(y_testt, y_pred1)\n",
        "f1_1 = f1_score(y_testt, y_pred1)\n",
        "\n",
        "# Print the results\n",
        "print(\"Precision:\", precision1)\n",
        "print(\"Recall:\", recall1)\n",
        "print(\"F1-score:\", f1_1)\n",
        "\n",
        "conf_mat1 = confusion_matrix(y_testt, y_pred1)\n",
        "print('Confusion Matrix: \\n', conf_mat1)\n",
        "\n",
        "#Plotting the confusion matrix\n",
        "conf_matrix1 = pd.DataFrame(data = conf_mat1,\n",
        "                           columns = ['Predicted:0', 'Predicted:1'],\n",
        "                           index =['Actual:0', 'Actual:1'])\n",
        "plt.figure(figsize = (10, 6))\n",
        "sns.heatmap(conf_matrix1, annot = True, fmt = 'd', cmap = \"Greens\", linecolor=\"Blue\", linewidths=1.5)\n",
        "plt.show()\n",
        "\n"
      ],
      "metadata": {
        "colab": {
          "base_uri": "https://localhost:8080/",
          "height": 504
        },
        "id": "hZdLceYBpiQ-",
        "outputId": "2664f0d7-f646-41e4-a9a4-d701794bf686"
      },
      "execution_count": null,
      "outputs": [
        {
          "output_type": "stream",
          "name": "stdout",
          "text": [
            "Accuracy: 0.8709677419354839\n",
            "Precision: 0.8662704309063893\n",
            "Recall: 0.892802450229709\n",
            "F1-score: 0.8793363499245852\n",
            "Confusion Matrix: \n",
            " [[497  90]\n",
            " [ 70 583]]\n"
          ]
        },
        {
          "output_type": "display_data",
          "data": {
            "text/plain": [
              "<Figure size 720x432 with 2 Axes>"
            ],
            "image/png": "[encoded data removed]"
          },
          "metadata": {
            "needs_background": "light"
          }
        }
      ]
    },
    {
      "cell_type": "markdown",
      "source": [
        "**2. Bagging Classifier**"
      ],
      "metadata": {
        "id": "lNCJh6R-rsR1"
      }
    },
    {
      "cell_type": "code",
      "source": [
        "from sklearn.ensemble import BaggingClassifier\n",
        "from sklearn.tree import DecisionTreeClassifier\n",
        "from sklearn.model_selection import train_test_split\n",
        "from sklearn.metrics import accuracy_score, precision_score, recall_score, f1_score\n",
        "\n",
        "# Define the base estimator\n",
        "base_estimator = DecisionTreeClassifier(max_depth=4)\n",
        "\n",
        "# Define the Bagging Classifier\n",
        "bagging_clf = BaggingClassifier(base_estimator=base_estimator, n_estimators=50, random_state=42)\n",
        "\n",
        "# Fit the Bagging Classifier to the training data\n",
        "bagging_clf.fit(x_trainn, y_trainn)\n",
        "\n",
        "# Predict the target on the test data\n",
        "y_pred2 = bagging_clf.predict(x_testt)\n",
        "\n",
        "# Calculate the accuracy, precision, recall, and F1-score\n",
        "accuracy2 = accuracy_score(y_testt, y_pred2)\n",
        "precision2 = precision_score(y_testt, y_pred2)\n",
        "recall2 = recall_score(y_testt, y_pred2)\n",
        "f1_2 = f1_score(y_testt, y_pred2)\n",
        "\n",
        "# Print the results\n",
        "print(\"Accuracy:\", accuracy2)\n",
        "print(\"Precision:\", precision2)\n",
        "print(\"Recall:\", recall2)\n",
        "print(\"F1-score:\", f1_2)\n",
        "\n",
        "conf_mat2 = confusion_matrix(y_testt, y_pred2)\n",
        "print('Confusion Matrix: \\n', conf_mat2)\n",
        "\n",
        "#Plotting the confusion matrix\n",
        "conf_matrix2 = pd.DataFrame(data = conf_mat2,\n",
        "                           columns = ['Predicted:0', 'Predicted:1'],\n",
        "                           index =['Actual:0', 'Actual:1'])\n",
        "plt.figure(figsize = (10, 6))\n",
        "sns.heatmap(conf_matrix2, annot = True, fmt = 'd', cmap = \"Greens\", linecolor=\"Blue\", linewidths=1.5)\n",
        "plt.show()\n",
        "\n"
      ],
      "metadata": {
        "colab": {
          "base_uri": "https://localhost:8080/",
          "height": 559
        },
        "id": "IjGeeWNzZsQI",
        "outputId": "6cc17eea-7ea1-4ce8-e41e-cf34e008b41e"
      },
      "execution_count": null,
      "outputs": [
        {
          "output_type": "stream",
          "name": "stderr",
          "text": [
            "/usr/local/lib/python3.9/dist-packages/sklearn/ensemble/_base.py:166: FutureWarning: `base_estimator` was renamed to `estimator` in version 1.2 and will be removed in 1.4.\n",
            "  warnings.warn(\n"
          ]
        },
        {
          "output_type": "stream",
          "name": "stdout",
          "text": [
            "Accuracy: 0.6766129032258065\n",
            "Precision: 0.6914893617021277\n",
            "Recall: 0.6967840735068913\n",
            "F1-score: 0.6941266209000764\n",
            "Confusion Matrix: \n",
            " [[384 203]\n",
            " [198 455]]\n"
          ]
        },
        {
          "output_type": "display_data",
          "data": {
            "text/plain": [
              "<Figure size 720x432 with 2 Axes>"
            ],
            "image/png": "[encoded data removed]"
          },
          "metadata": {
            "needs_background": "light"
          }
        }
      ]
    },
    {
      "cell_type": "markdown",
      "source": [
        "**3.CNN**"
      ],
      "metadata": {
        "id": "hQhob2ibryw0"
      }
    },
    {
      "cell_type": "code",
      "source": [
        "model3 = keras.Sequential([\n",
        "    #keras.layers.Flatten(input_shape =(13,)),\n",
        "    keras.layers.Dense(60, activation = 'relu', input_shape= (5,)),\n",
        "    keras.layers.Dense(50, activation = 'relu'),\n",
        "    keras.layers.Dense(50, activation = 'relu'),\n",
        "    keras.layers.Dense(40, activation = 'relu'),\n",
        "    keras.layers.Dense(40, activation = 'relu'),\n",
        "    keras.layers.Dense(30, activation = 'relu'),\n",
        "    keras.layers.Dense(2,activation = 'sigmoid' )\n",
        "])\n",
        "\n",
        "#compiling the network\n",
        "\n",
        "model3.compile(\n",
        "        optimizer = 'adam',\n",
        "        loss = 'sparse_categorical_crossentropy',\n",
        "        metrics = ['accuracy']\n",
        ")\n",
        "\n",
        "#training the neural network\n",
        "history = model3.fit(x_trainn, y_trainn, validation_split=0.2, epochs = 10)\n",
        "\n",
        "#Visualizing Accuracy and Losses\n",
        "plt.plot(history.history['accuracy'])\n",
        "plt.plot(history.history['val_accuracy'])\n",
        "\n",
        "plt.title('Model Accuracy')\n",
        "plt.ylabel('accuracy')\n",
        "plt.xlabel('epochs')\n",
        "\n",
        "plt.legend(['Training Data', 'validation Data'], loc= 'lower right')\n",
        "\n",
        "plt.plot(history.history['loss'])\n",
        "plt.plot(history.history['val_loss'])\n",
        "\n",
        "plt.title('Model Loss graph')\n",
        "plt.ylabel('Loss')\n",
        "plt.xlabel('Epochs')\n",
        "\n",
        "plt.legend(['Training Data', 'validation Data'], loc= 'upper right')\n",
        "\n",
        "#model evaluation\n",
        "loss, accuracy3 = model3.evaluate(x_testt, y_testt)\n",
        "print(accuracy3)\n",
        "\n",
        "from sklearn.metrics import classification_report, confusion_matrix\n",
        "# Predict labels for test set\n",
        "y_pred3 = model3.predict(x_testt)\n",
        "y_pred3 = np.argmax(y_pred3, axis=1)\n",
        "\n",
        "# Calculate precision, recall, F1 score, and support\n",
        "target_names = ['class 0', 'class 1']\n",
        "print(classification_report(y_testt, y_pred3, target_names=target_names))\n",
        "\n",
        "# Calculate confusion matrix\n",
        "print(confusion_matrix(y_testt, y_pred3))\n"
      ],
      "metadata": {
        "colab": {
          "base_uri": "https://localhost:8080/",
          "height": 893
        },
        "id": "JG8T1VO1Zws5",
        "outputId": "23f7b52d-732d-4ebc-aee8-b142d410a86f"
      },
      "execution_count": null,
      "outputs": [
        {
          "output_type": "stream",
          "name": "stdout",
          "text": [
            "Epoch 1/10\n",
            "124/124 [==============================] - 5s 13ms/step - loss: 0.7444 - accuracy: 0.5726 - val_loss: 0.6663 - val_accuracy: 0.6109\n",
            "Epoch 2/10\n",
            "124/124 [==============================] - 1s 8ms/step - loss: 0.6840 - accuracy: 0.5759 - val_loss: 0.7082 - val_accuracy: 0.5151\n",
            "Epoch 3/10\n",
            "124/124 [==============================] - 1s 10ms/step - loss: 0.6721 - accuracy: 0.5981 - val_loss: 0.6599 - val_accuracy: 0.6190\n",
            "Epoch 4/10\n",
            "124/124 [==============================] - 1s 9ms/step - loss: 0.6673 - accuracy: 0.5998 - val_loss: 0.6722 - val_accuracy: 0.5927\n",
            "Epoch 5/10\n",
            "124/124 [==============================] - 2s 13ms/step - loss: 0.6671 - accuracy: 0.5983 - val_loss: 0.6621 - val_accuracy: 0.6159\n",
            "Epoch 6/10\n",
            "124/124 [==============================] - 1s 10ms/step - loss: 0.6637 - accuracy: 0.5923 - val_loss: 0.6676 - val_accuracy: 0.6119\n",
            "Epoch 7/10\n",
            "124/124 [==============================] - 1s 8ms/step - loss: 0.6602 - accuracy: 0.6162 - val_loss: 0.6650 - val_accuracy: 0.5988\n",
            "Epoch 8/10\n",
            "124/124 [==============================] - 1s 9ms/step - loss: 0.6578 - accuracy: 0.6180 - val_loss: 0.6639 - val_accuracy: 0.6048\n",
            "Epoch 9/10\n",
            "124/124 [==============================] - 1s 7ms/step - loss: 0.6522 - accuracy: 0.6208 - val_loss: 0.6520 - val_accuracy: 0.6179\n",
            "Epoch 10/10\n",
            "124/124 [==============================] - 1s 7ms/step - loss: 0.6533 - accuracy: 0.6215 - val_loss: 0.6494 - val_accuracy: 0.6260\n",
            "39/39 [==============================] - 0s 2ms/step - loss: 0.6454 - accuracy: 0.6177\n",
            "0.6177419424057007\n",
            "39/39 [==============================] - 0s 2ms/step\n",
            "              precision    recall  f1-score   support\n",
            "\n",
            "     class 0       0.58      0.69      0.63       587\n",
            "     class 1       0.67      0.55      0.60       653\n",
            "\n",
            "    accuracy                           0.62      1240\n",
            "   macro avg       0.62      0.62      0.62      1240\n",
            "weighted avg       0.63      0.62      0.62      1240\n",
            "\n",
            "[[406 181]\n",
            " [293 360]]\n"
          ]
        },
        {
          "output_type": "display_data",
          "data": {
            "text/plain": [
              "<Figure size 432x288 with 1 Axes>"
            ],
            "image/png": "[encoded data removed]"
          },
          "metadata": {
            "needs_background": "light"
          }
        }
      ]
    },
    {
      "cell_type": "markdown",
      "source": [
        "**4.Logistic Regression**"
      ],
      "metadata": {
        "id": "DC_hqQ0Jr28f"
      }
    },
    {
      "cell_type": "code",
      "source": [
        "# Train the logistic regression model\n",
        "from sklearn.linear_model import LogisticRegression\n",
        "model4 = LogisticRegression()\n",
        "model4.fit(x_trainn, y_trainn) #Training the data\n",
        "\n",
        "from sklearn.metrics import accuracy_score\n",
        "# Evaluate the model on the training set\n",
        "train_preds4 = model4.predict(x_trainn)\n",
        "train_acc4 = accuracy_score(y_trainn, train_preds4)\n",
        "\n",
        "# Evaluate the model on the testing set\n",
        "test_preds4 = model4.predict(x_testt)\n",
        "test_acc4 = accuracy_score(y_testt, test_preds4)\n",
        "\n",
        "# Print the training and testing accuracies\n",
        "print(\"Training accuracy:\", train_acc4)\n",
        "print(\"Testing accuracy:\", test_acc4)\n",
        "\n",
        "# Make predictions on the testing data\n",
        "y_pred4 = model4.predict(x_testt)\n",
        "\n",
        "# Evaluate the model's performance\n",
        "from sklearn.metrics import accuracy_score\n",
        "conf_mat4 = confusion_matrix(y_testt, y_pred4)\n",
        "acc4 = accuracy_score(y_testt, y_pred4)\n",
        "print('Confusion Matrix: \\n', conf_mat4)\n",
        "print('Accuracy: ', acc4)\n",
        "\n",
        "# Calculate the precision, recall, and F1-score\n",
        "from sklearn.metrics import accuracy_score, precision_score, recall_score, f1_score\n",
        "precision4 = precision_score(y_testt, y_pred4)\n",
        "recall4 = recall_score(y_testt, y_pred4)\n",
        "f1_4 = f1_score(y_testt, y_pred4)\n",
        "\n",
        "# Print the results\n",
        "print(\"Precision:\", precision4)\n",
        "print(\"Recall:\", recall4)\n",
        "print(\"F1-score:\", f1_4)\n",
        "\n",
        "from sklearn.metrics import confusion_matrix, classification_report\n",
        "print(\"Classification Report is:\\n\\n\",classification_report(y_testt,y_pred4))  #classification report\n",
        "\n",
        "#Plotting the confusion matrix\n",
        "conf_matrix4 = pd.DataFrame(data = conf_mat4,\n",
        "                           columns = ['Predicted:0', 'Predicted:1'],\n",
        "                           index =['Actual:0', 'Actual:1'])\n",
        "plt.figure(figsize = (10, 6))\n",
        "sns.heatmap(conf_matrix4, annot = True, fmt = 'd', cmap = \"Greens\", linecolor=\"Blue\", linewidths=1.5)\n",
        "plt.show()\n"
      ],
      "metadata": {
        "colab": {
          "base_uri": "https://localhost:8080/",
          "height": 729
        },
        "id": "oaEGxL1PZzRo",
        "outputId": "9ff5e08b-a902-42c4-cdf7-1617ee54f19c"
      },
      "execution_count": null,
      "outputs": [
        {
          "output_type": "stream",
          "name": "stdout",
          "text": [
            "Training accuracy: 0.6609519967728923\n",
            "Testing accuracy: 0.675\n",
            "Confusion Matrix: \n",
            " [[408 179]\n",
            " [224 429]]\n",
            "Accuracy:  0.675\n",
            "Precision: 0.7055921052631579\n",
            "Recall: 0.6569678407350689\n",
            "F1-score: 0.6804123711340206\n",
            "Classification Report is:\n",
            "\n",
            "               precision    recall  f1-score   support\n",
            "\n",
            "           0       0.65      0.70      0.67       587\n",
            "           1       0.71      0.66      0.68       653\n",
            "\n",
            "    accuracy                           0.68      1240\n",
            "   macro avg       0.68      0.68      0.67      1240\n",
            "weighted avg       0.68      0.68      0.68      1240\n",
            "\n"
          ]
        },
        {
          "output_type": "display_data",
          "data": {
            "text/plain": [
              "<Figure size 720x432 with 2 Axes>"
            ],
            "image/png": "[encoded data removed]"
          },
          "metadata": {
            "needs_background": "light"
          }
        }
      ]
    },
    {
      "cell_type": "markdown",
      "source": [
        "**5. Decision Tree**"
      ],
      "metadata": {
        "id": "OK9W8TMatAHW"
      }
    },
    {
      "cell_type": "code",
      "source": [
        "m5 = 'DecisionTreeClassifier'\n",
        "dt = DecisionTreeClassifier(criterion = 'entropy',random_state=0,max_depth = 30)\n",
        "dt.fit(x_trainn,y_trainn)\n",
        "dt_predicted = dt.predict(x_testt)\n",
        "dt_conf_matrix = confusion_matrix(y_testt, dt_predicted)\n",
        "dt_acc_score = accuracy_score(y_testt, dt_predicted)\n",
        "print(\"confussion matrix\")\n",
        "print(dt_conf_matrix)\n",
        "print(\"\\n\")\n",
        "print(\"Accuracy of DecisionTreeClassifier:\",dt_acc_score*100,'\\n')\n",
        "print(classification_report(y_testt,dt_predicted))\n",
        "\n",
        "# Calculate the precision, recall, and F1-score\n",
        "from sklearn.metrics import accuracy_score, precision_score, recall_score, f1_score\n",
        "precision5 = precision_score(y_testt, dt_predicted)\n",
        "recall5 = recall_score(y_testt, dt_predicted)\n",
        "f1_5 = f1_score(y_testt, dt_predicted)\n",
        "\n",
        "# Print the results\n",
        "print(\"Precision:\", precision5)\n",
        "print(\"Recall:\", recall5)\n",
        "print(\"F1-score:\", f1_5)"
      ],
      "metadata": {
        "colab": {
          "base_uri": "https://localhost:8080/"
        },
        "id": "DXi4S4Xer7rb",
        "outputId": "9df50d59-9e97-421e-ea5f-b553a4404ce8"
      },
      "execution_count": null,
      "outputs": [
        {
          "output_type": "stream",
          "name": "stdout",
          "text": [
            "confussion matrix\n",
            "[[454 133]\n",
            " [122 531]]\n",
            "\n",
            "\n",
            "Accuracy of DecisionTreeClassifier: 79.43548387096774 \n",
            "\n",
            "              precision    recall  f1-score   support\n",
            "\n",
            "           0       0.79      0.77      0.78       587\n",
            "           1       0.80      0.81      0.81       653\n",
            "\n",
            "    accuracy                           0.79      1240\n",
            "   macro avg       0.79      0.79      0.79      1240\n",
            "weighted avg       0.79      0.79      0.79      1240\n",
            "\n",
            "Precision: 0.7996987951807228\n",
            "Recall: 0.8131699846860643\n",
            "F1-score: 0.806378132118451\n"
          ]
        }
      ]
    },
    {
      "cell_type": "markdown",
      "source": [
        "**6. Gradient Boosting Classifier**"
      ],
      "metadata": {
        "id": "o6hr46ZWteOO"
      }
    },
    {
      "cell_type": "code",
      "source": [
        "from sklearn.ensemble import GradientBoostingClassifier\n",
        "m6 = 'Gradient Boosting Classifier'\n",
        "gvc =  GradientBoostingClassifier()\n",
        "gvc.fit(x_trainn,y_trainn)\n",
        "gvc_predicted = gvc.predict(x_testt)\n",
        "gvc_conf_matrix = confusion_matrix(y_testt, gvc_predicted)\n",
        "gvc_acc_score = accuracy_score(y_testt, gvc_predicted)\n",
        "print(\"confussion matrix\")\n",
        "print(gvc_conf_matrix)\n",
        "print(\"\\n\")\n",
        "print(\"Accuracy of Gradient Boosting Classifier:\",gvc_acc_score*100,'\\n')\n",
        "print(classification_report(y_testt,gvc_predicted))\n",
        "\n",
        "\n",
        "# Calculate the precision, recall, and F1-score\n",
        "from sklearn.metrics import accuracy_score, precision_score, recall_score, f1_score\n",
        "precision6 = precision_score(y_testt, gvc_predicted)\n",
        "recall6 = recall_score(y_testt, gvc_predicted)\n",
        "f1_6 = f1_score(y_testt, gvc_predicted)\n",
        "\n",
        "# Print the results\n",
        "print(\"Precision:\", precision6)\n",
        "print(\"Recall:\", recall6)\n",
        "print(\"F1-score:\", f1_6)"
      ],
      "metadata": {
        "colab": {
          "base_uri": "https://localhost:8080/"
        },
        "id": "vWrU7jxAtcLY",
        "outputId": "e8696627-755a-41d9-8912-50d68ba727ce"
      },
      "execution_count": null,
      "outputs": [
        {
          "output_type": "stream",
          "name": "stdout",
          "text": [
            "confussion matrix\n",
            "[[460 127]\n",
            " [168 485]]\n",
            "\n",
            "\n",
            "Accuracy of Gradient Boosting Classifier: 76.20967741935483 \n",
            "\n",
            "              precision    recall  f1-score   support\n",
            "\n",
            "           0       0.73      0.78      0.76       587\n",
            "           1       0.79      0.74      0.77       653\n",
            "\n",
            "    accuracy                           0.76      1240\n",
            "   macro avg       0.76      0.76      0.76      1240\n",
            "weighted avg       0.76      0.76      0.76      1240\n",
            "\n",
            "Precision: 0.7924836601307189\n",
            "Recall: 0.7427258805513017\n",
            "F1-score: 0.7667984189723321\n"
          ]
        }
      ]
    },
    {
      "cell_type": "markdown",
      "source": [
        "**7. XGboost**"
      ],
      "metadata": {
        "id": "gE3CVO-ktsFL"
      }
    },
    {
      "cell_type": "code",
      "source": [
        "import xgboost as xgb\n",
        "# Create an XGBoost classifier\n",
        "clf7 = xgb.XGBClassifier(learning_rate=0.1, n_estimators=1000, max_depth=6, subsample=0.8, colsample_bytree=0.8, objective='binary:logistic')\n",
        "\n",
        "# Train the classifier\n",
        "clf7.fit(x_trainn, y_trainn)\n",
        "\n",
        "# Make predictions on the test set\n",
        "y_pred7 = clf7.predict(x_testt)\n",
        "\n",
        "# Evaluate the performance of the classifier\n",
        "accuracy7 = accuracy_score(y_testt, y_pred7)\n",
        "print('Accuracy:', accuracy7)\n",
        "\n",
        "cm7 = confusion_matrix(y_testt, y_pred7)\n",
        "print('Confusion matrix:\\n', cm7)\n",
        "\n",
        "cr7 = classification_report(y_testt, y_pred7)\n",
        "print('Classification report:\\n', cr7)\n",
        "\n",
        "# Calculate the precision, recall, and F1-score\n",
        "from sklearn.metrics import accuracy_score, precision_score, recall_score, f1_score\n",
        "precision7 = precision_score(y_testt, y_pred7)\n",
        "recall7 = recall_score(y_testt, y_pred7)\n",
        "f1_7 = f1_score(y_testt, y_pred7)\n",
        "\n",
        "# Print the results\n",
        "print(\"Precision:\", precision7)\n",
        "print(\"Recall:\", recall7)\n",
        "print(\"F1-score:\", f1_7)"
      ],
      "metadata": {
        "colab": {
          "base_uri": "https://localhost:8080/"
        },
        "id": "21k4kJoittz4",
        "outputId": "1ff41f95-a817-438b-f824-42c84d517e6b"
      },
      "execution_count": null,
      "outputs": [
        {
          "output_type": "stream",
          "name": "stdout",
          "text": [
            "Accuracy: 0.885483870967742\n",
            "Confusion matrix:\n",
            " [[534  53]\n",
            " [ 89 564]]\n",
            "Classification report:\n",
            "               precision    recall  f1-score   support\n",
            "\n",
            "           0       0.86      0.91      0.88       587\n",
            "           1       0.91      0.86      0.89       653\n",
            "\n",
            "    accuracy                           0.89      1240\n",
            "   macro avg       0.89      0.89      0.89      1240\n",
            "weighted avg       0.89      0.89      0.89      1240\n",
            "\n",
            "Precision: 0.9141004862236629\n",
            "Recall: 0.8637059724349158\n",
            "F1-score: 0.8881889763779527\n"
          ]
        }
      ]
    },
    {
      "cell_type": "markdown",
      "source": [
        "**8. Random Forest**"
      ],
      "metadata": {
        "id": "J8137qRjuBXQ"
      }
    },
    {
      "cell_type": "code",
      "source": [
        "from sklearn.ensemble import RandomForestClassifier\n",
        "# Create a random forest classifier with 100 trees\n",
        "clf8 = RandomForestClassifier(n_estimators=100, random_state=42)\n",
        "\n",
        "# Train the classifier\n",
        "clf8.fit(x_trainn, y_trainn)\n",
        "\n",
        "# Make predictions on the test set\n",
        "y_pred8 = clf8.predict(x_testt)\n",
        "\n",
        "# Evaluate the performance of the classifier\n",
        "accuracy8 = accuracy_score(y_testt, y_pred8)\n",
        "print('Accuracy:', accuracy8)\n",
        "\n",
        "cm8 = confusion_matrix(y_testt, y_pred8)\n",
        "print('Confusion matrix:\\n', cm8)\n",
        "\n",
        "cr8 = classification_report(y_testt, y_pred8)\n",
        "print('Classification report:\\n', cr8)\n",
        "\n",
        "\n",
        "# Calculate the precision, recall, and F1-score\n",
        "from sklearn.metrics import accuracy_score, precision_score, recall_score, f1_score\n",
        "precision8 = precision_score(y_testt, y_pred8)\n",
        "recall8 = recall_score(y_testt, y_pred8)\n",
        "f1_8 = f1_score(y_testt, y_pred8)\n",
        "\n",
        "# Print the results\n",
        "print(\"Precision:\", precision8)\n",
        "print(\"Recall:\", recall8)\n",
        "print(\"F1-score:\", f1_8)"
      ],
      "metadata": {
        "colab": {
          "base_uri": "https://localhost:8080/"
        },
        "id": "zmYjy3TluCCT",
        "outputId": "f07dc90b-89fe-49f0-917c-b978df7843cf"
      },
      "execution_count": null,
      "outputs": [
        {
          "output_type": "stream",
          "name": "stdout",
          "text": [
            "Accuracy: 0.8774193548387097\n",
            "Confusion matrix:\n",
            " [[507  80]\n",
            " [ 72 581]]\n",
            "Classification report:\n",
            "               precision    recall  f1-score   support\n",
            "\n",
            "           0       0.88      0.86      0.87       587\n",
            "           1       0.88      0.89      0.88       653\n",
            "\n",
            "    accuracy                           0.88      1240\n",
            "   macro avg       0.88      0.88      0.88      1240\n",
            "weighted avg       0.88      0.88      0.88      1240\n",
            "\n",
            "Precision: 0.8789712556732224\n",
            "Recall: 0.889739663093415\n",
            "F1-score: 0.8843226788432268\n"
          ]
        }
      ]
    },
    {
      "cell_type": "code",
      "source": [
        "!pip install lazypredict\n",
        "\n",
        "import lazypredict\n",
        "### importing LazyClassifier for classification problem\n",
        "from lazypredict.Supervised import LazyClassifier\n",
        "\n",
        "### spliting dataset into training and testing part\n",
        "from sklearn.model_selection import train_test_split\n",
        "clf = LazyClassifier(verbose=0,ignore_warnings=True, custom_metric=None)\n",
        "models,predictions = clf.fit(x_trainn, x_testt, y_trainn, y_testt)"
      ],
      "metadata": {
        "colab": {
          "base_uri": "https://localhost:8080/"
        },
        "id": "LJ4aFGgvumEE",
        "outputId": "99b0b540-a64a-4bca-941e-75d04771fddd"
      },
      "execution_count": null,
      "outputs": [
        {
          "output_type": "stream",
          "name": "stdout",
          "text": [
            "Looking in indexes: https://pypi.org/simple, https://us-python.pkg.dev/colab-wheels/public/simple/\n",
            "Collecting lazypredict\n",
            "  Downloading lazypredict-0.2.12-py2.py3-none-any.whl (12 kB)\n",
            "Requirement already satisfied: tqdm in /usr/local/lib/python3.9/dist-packages (from lazypredict) (4.65.0)\n",
            "Requirement already satisfied: click in /usr/local/lib/python3.9/dist-packages (from lazypredict) (8.1.3)\n",
            "Requirement already satisfied: xgboost in /usr/local/lib/python3.9/dist-packages (from lazypredict) (1.7.4)\n",
            "Requirement already satisfied: lightgbm in /usr/local/lib/python3.9/dist-packages (from lazypredict) (3.3.5)\n",
            "Requirement already satisfied: joblib in /usr/local/lib/python3.9/dist-packages (from lazypredict) (1.1.1)\n",
            "Requirement already satisfied: pandas in /usr/local/lib/python3.9/dist-packages (from lazypredict) (1.4.4)\n",
            "Requirement already satisfied: scikit-learn in /usr/local/lib/python3.9/dist-packages (from lazypredict) (1.2.2)\n",
            "Requirement already satisfied: numpy in /usr/local/lib/python3.9/dist-packages (from lightgbm->lazypredict) (1.22.4)\n",
            "Requirement already satisfied: wheel in /usr/local/lib/python3.9/dist-packages (from lightgbm->lazypredict) (0.40.0)\n",
            "Requirement already satisfied: scipy in /usr/local/lib/python3.9/dist-packages (from lightgbm->lazypredict) (1.10.1)\n",
            "Requirement already satisfied: threadpoolctl>=2.0.0 in /usr/local/lib/python3.9/dist-packages (from scikit-learn->lazypredict) (3.1.0)\n",
            "Requirement already satisfied: pytz>=2020.1 in /usr/local/lib/python3.9/dist-packages (from pandas->lazypredict) (2022.7.1)\n",
            "Requirement already satisfied: python-dateutil>=2.8.1 in /usr/local/lib/python3.9/dist-packages (from pandas->lazypredict) (2.8.2)\n",
            "Requirement already satisfied: six>=1.5 in /usr/local/lib/python3.9/dist-packages (from python-dateutil>=2.8.1->pandas->lazypredict) (1.16.0)\n",
            "Installing collected packages: lazypredict\n",
            "Successfully installed lazypredict-0.2.12\n"
          ]
        },
        {
          "output_type": "stream",
          "name": "stderr",
          "text": [
            "100%|██████████| 29/29 [00:12<00:00,  2.30it/s]\n"
          ]
        }
      ]
    },
    {
      "cell_type": "code",
      "source": [
        "models # Results"
      ],
      "metadata": {
        "colab": {
          "base_uri": "https://localhost:8080/",
          "height": 927
        },
        "id": "KKVeSdZfu5ph",
        "outputId": "8743dae8-f64a-478d-e3dc-362cbcb82f5c"
      },
      "execution_count": null,
      "outputs": [
        {
          "output_type": "execute_result",
          "data": {
            "text/plain": [
              "                               Accuracy  Balanced Accuracy  ROC AUC  F1 Score  \\\n",
              "Model                                                                           \n",
              "RandomForestClassifier             0.88               0.88     0.88      0.88   \n",
              "XGBClassifier                      0.87               0.88     0.88      0.87   \n",
              "ExtraTreesClassifier               0.87               0.87     0.87      0.87   \n",
              "LGBMClassifier                     0.87               0.87     0.87      0.87   \n",
              "BaggingClassifier                  0.83               0.83     0.83      0.83   \n",
              "LabelPropagation                   0.81               0.80     0.80      0.81   \n",
              "DecisionTreeClassifier             0.80               0.80     0.80      0.80   \n",
              "LabelSpreading                     0.80               0.80     0.80      0.80   \n",
              "KNeighborsClassifier               0.79               0.79     0.79      0.79   \n",
              "ExtraTreeClassifier                0.77               0.77     0.77      0.77   \n",
              "NuSVC                              0.69               0.70     0.70      0.69   \n",
              "SVC                                0.68               0.68     0.68      0.68   \n",
              "AdaBoostClassifier                 0.68               0.68     0.68      0.68   \n",
              "LogisticRegression                 0.68               0.68     0.68      0.68   \n",
              "LinearDiscriminantAnalysis         0.67               0.67     0.67      0.67   \n",
              "RidgeClassifier                    0.67               0.67     0.67      0.67   \n",
              "CalibratedClassifierCV             0.67               0.67     0.67      0.67   \n",
              "SGDClassifier                      0.67               0.67     0.67      0.67   \n",
              "RidgeClassifierCV                  0.67               0.67     0.67      0.67   \n",
              "LinearSVC                          0.67               0.67     0.67      0.67   \n",
              "PassiveAggressiveClassifier        0.64               0.63     0.63      0.64   \n",
              "GaussianNB                         0.62               0.63     0.63      0.61   \n",
              "BernoulliNB                        0.62               0.62     0.62      0.62   \n",
              "NearestCentroid                    0.62               0.62     0.62      0.62   \n",
              "QuadraticDiscriminantAnalysis      0.59               0.60     0.60      0.56   \n",
              "DummyClassifier                    0.47               0.50     0.50      0.30   \n",
              "Perceptron                         0.48               0.49     0.49      0.42   \n",
              "\n",
              "                               Time Taken  \n",
              "Model                                      \n",
              "RandomForestClassifier               0.88  \n",
              "XGBClassifier                        0.39  \n",
              "ExtraTreesClassifier                 0.57  \n",
              "LGBMClassifier                       0.18  \n",
              "BaggingClassifier                    0.18  \n",
              "LabelPropagation                     0.87  \n",
              "DecisionTreeClassifier               0.04  \n",
              "LabelSpreading                       1.41  \n",
              "KNeighborsClassifier                 0.06  \n",
              "ExtraTreeClassifier                  0.02  \n",
              "NuSVC                                4.74  \n",
              "SVC                                  1.26  \n",
              "AdaBoostClassifier                   0.27  \n",
              "LogisticRegression                   0.03  \n",
              "LinearDiscriminantAnalysis           0.06  \n",
              "RidgeClassifier                      0.04  \n",
              "CalibratedClassifierCV               0.96  \n",
              "SGDClassifier                        0.05  \n",
              "RidgeClassifierCV                    0.05  \n",
              "LinearSVC                            0.29  \n",
              "PassiveAggressiveClassifier          0.03  \n",
              "GaussianNB                           0.02  \n",
              "BernoulliNB                          0.02  \n",
              "NearestCentroid                      0.02  \n",
              "QuadraticDiscriminantAnalysis        0.04  \n",
              "DummyClassifier                      0.02  \n",
              "Perceptron                           0.03  "
            ],
            "text/html": [
              "\n",
              "  <div id=\"df-c1709187-7af8-412e-b5bc-d8bcf5c68715\">\n",
              "    <div class=\"colab-df-container\">\n",
              "      <div>\n",
              "<style scoped>\n",
              "    .dataframe tbody tr th:only-of-type {\n",
              "        vertical-align: middle;\n",
              "    }\n",
              "\n",
              "    .dataframe tbody tr th {\n",
              "        vertical-align: top;\n",
              "    }\n",
              "\n",
              "    .dataframe thead th {\n",
              "        text-align: right;\n",
              "    }\n",
              "</style>\n",
              "<table border=\"1\" class=\"dataframe\">\n",
              "  <thead>\n",
              "    <tr style=\"text-align: right;\">\n",
              "      <th></th>\n",
              "      <th>Accuracy</th>\n",
              "      <th>Balanced Accuracy</th>\n",
              "      <th>ROC AUC</th>\n",
              "      <th>F1 Score</th>\n",
              "      <th>Time Taken</th>\n",
              "    </tr>\n",
              "    <tr>\n",
              "      <th>Model</th>\n",
              "      <th></th>\n",
              "      <th></th>\n",
              "      <th></th>\n",
              "      <th></th>\n",
              "      <th></th>\n",
              "    </tr>\n",
              "  </thead>\n",
              "  <tbody>\n",
              "    <tr>\n",
              "      <th>RandomForestClassifier</th>\n",
              "      <td>0.88</td>\n",
              "      <td>0.88</td>\n",
              "      <td>0.88</td>\n",
              "      <td>0.88</td>\n",
              "      <td>0.88</td>\n",
              "    </tr>\n",
              "    <tr>\n",
              "      <th>XGBClassifier</th>\n",
              "      <td>0.87</td>\n",
              "      <td>0.88</td>\n",
              "      <td>0.88</td>\n",
              "      <td>0.87</td>\n",
              "      <td>0.39</td>\n",
              "    </tr>\n",
              "    <tr>\n",
              "      <th>ExtraTreesClassifier</th>\n",
              "      <td>0.87</td>\n",
              "      <td>0.87</td>\n",
              "      <td>0.87</td>\n",
              "      <td>0.87</td>\n",
              "      <td>0.57</td>\n",
              "    </tr>\n",
              "    <tr>\n",
              "      <th>LGBMClassifier</th>\n",
              "      <td>0.87</td>\n",
              "      <td>0.87</td>\n",
              "      <td>0.87</td>\n",
              "      <td>0.87</td>\n",
              "      <td>0.18</td>\n",
              "    </tr>\n",
              "    <tr>\n",
              "      <th>BaggingClassifier</th>\n",
              "      <td>0.83</td>\n",
              "      <td>0.83</td>\n",
              "      <td>0.83</td>\n",
              "      <td>0.83</td>\n",
              "      <td>0.18</td>\n",
              "    </tr>\n",
              "    <tr>\n",
              "      <th>LabelPropagation</th>\n",
              "      <td>0.81</td>\n",
              "      <td>0.80</td>\n",
              "      <td>0.80</td>\n",
              "      <td>0.81</td>\n",
              "      <td>0.87</td>\n",
              "    </tr>\n",
              "    <tr>\n",
              "      <th>DecisionTreeClassifier</th>\n",
              "      <td>0.80</td>\n",
              "      <td>0.80</td>\n",
              "      <td>0.80</td>\n",
              "      <td>0.80</td>\n",
              "      <td>0.04</td>\n",
              "    </tr>\n",
              "    <tr>\n",
              "      <th>LabelSpreading</th>\n",
              "      <td>0.80</td>\n",
              "      <td>0.80</td>\n",
              "      <td>0.80</td>\n",
              "      <td>0.80</td>\n",
              "      <td>1.41</td>\n",
              "    </tr>\n",
              "    <tr>\n",
              "      <th>KNeighborsClassifier</th>\n",
              "      <td>0.79</td>\n",
              "      <td>0.79</td>\n",
              "      <td>0.79</td>\n",
              "      <td>0.79</td>\n",
              "      <td>0.06</td>\n",
              "    </tr>\n",
              "    <tr>\n",
              "      <th>ExtraTreeClassifier</th>\n",
              "      <td>0.77</td>\n",
              "      <td>0.77</td>\n",
              "      <td>0.77</td>\n",
              "      <td>0.77</td>\n",
              "      <td>0.02</td>\n",
              "    </tr>\n",
              "    <tr>\n",
              "      <th>NuSVC</th>\n",
              "      <td>0.69</td>\n",
              "      <td>0.70</td>\n",
              "      <td>0.70</td>\n",
              "      <td>0.69</td>\n",
              "      <td>4.74</td>\n",
              "    </tr>\n",
              "    <tr>\n",
              "      <th>SVC</th>\n",
              "      <td>0.68</td>\n",
              "      <td>0.68</td>\n",
              "      <td>0.68</td>\n",
              "      <td>0.68</td>\n",
              "      <td>1.26</td>\n",
              "    </tr>\n",
              "    <tr>\n",
              "      <th>AdaBoostClassifier</th>\n",
              "      <td>0.68</td>\n",
              "      <td>0.68</td>\n",
              "      <td>0.68</td>\n",
              "      <td>0.68</td>\n",
              "      <td>0.27</td>\n",
              "    </tr>\n",
              "    <tr>\n",
              "      <th>LogisticRegression</th>\n",
              "      <td>0.68</td>\n",
              "      <td>0.68</td>\n",
              "      <td>0.68</td>\n",
              "      <td>0.68</td>\n",
              "      <td>0.03</td>\n",
              "    </tr>\n",
              "    <tr>\n",
              "      <th>LinearDiscriminantAnalysis</th>\n",
              "      <td>0.67</td>\n",
              "      <td>0.67</td>\n",
              "      <td>0.67</td>\n",
              "      <td>0.67</td>\n",
              "      <td>0.06</td>\n",
              "    </tr>\n",
              "    <tr>\n",
              "      <th>RidgeClassifier</th>\n",
              "      <td>0.67</td>\n",
              "      <td>0.67</td>\n",
              "      <td>0.67</td>\n",
              "      <td>0.67</td>\n",
              "      <td>0.04</td>\n",
              "    </tr>\n",
              "    <tr>\n",
              "      <th>CalibratedClassifierCV</th>\n",
              "      <td>0.67</td>\n",
              "      <td>0.67</td>\n",
              "      <td>0.67</td>\n",
              "      <td>0.67</td>\n",
              "      <td>0.96</td>\n",
              "    </tr>\n",
              "    <tr>\n",
              "      <th>SGDClassifier</th>\n",
              "      <td>0.67</td>\n",
              "      <td>0.67</td>\n",
              "      <td>0.67</td>\n",
              "      <td>0.67</td>\n",
              "      <td>0.05</td>\n",
              "    </tr>\n",
              "    <tr>\n",
              "      <th>RidgeClassifierCV</th>\n",
              "      <td>0.67</td>\n",
              "      <td>0.67</td>\n",
              "      <td>0.67</td>\n",
              "      <td>0.67</td>\n",
              "      <td>0.05</td>\n",
              "    </tr>\n",
              "    <tr>\n",
              "      <th>LinearSVC</th>\n",
              "      <td>0.67</td>\n",
              "      <td>0.67</td>\n",
              "      <td>0.67</td>\n",
              "      <td>0.67</td>\n",
              "      <td>0.29</td>\n",
              "    </tr>\n",
              "    <tr>\n",
              "      <th>PassiveAggressiveClassifier</th>\n",
              "      <td>0.64</td>\n",
              "      <td>0.63</td>\n",
              "      <td>0.63</td>\n",
              "      <td>0.64</td>\n",
              "      <td>0.03</td>\n",
              "    </tr>\n",
              "    <tr>\n",
              "      <th>GaussianNB</th>\n",
              "      <td>0.62</td>\n",
              "      <td>0.63</td>\n",
              "      <td>0.63</td>\n",
              "      <td>0.61</td>\n",
              "      <td>0.02</td>\n",
              "    </tr>\n",
              "    <tr>\n",
              "      <th>BernoulliNB</th>\n",
              "      <td>0.62</td>\n",
              "      <td>0.62</td>\n",
              "      <td>0.62</td>\n",
              "      <td>0.62</td>\n",
              "      <td>0.02</td>\n",
              "    </tr>\n",
              "    <tr>\n",
              "      <th>NearestCentroid</th>\n",
              "      <td>0.62</td>\n",
              "      <td>0.62</td>\n",
              "      <td>0.62</td>\n",
              "      <td>0.62</td>\n",
              "      <td>0.02</td>\n",
              "    </tr>\n",
              "    <tr>\n",
              "      <th>QuadraticDiscriminantAnalysis</th>\n",
              "      <td>0.59</td>\n",
              "      <td>0.60</td>\n",
              "      <td>0.60</td>\n",
              "      <td>0.56</td>\n",
              "      <td>0.04</td>\n",
              "    </tr>\n",
              "    <tr>\n",
              "      <th>DummyClassifier</th>\n",
              "      <td>0.47</td>\n",
              "      <td>0.50</td>\n",
              "      <td>0.50</td>\n",
              "      <td>0.30</td>\n",
              "      <td>0.02</td>\n",
              "    </tr>\n",
              "    <tr>\n",
              "      <th>Perceptron</th>\n",
              "      <td>0.48</td>\n",
              "      <td>0.49</td>\n",
              "      <td>0.49</td>\n",
              "      <td>0.42</td>\n",
              "      <td>0.03</td>\n",
              "    </tr>\n",
              "  </tbody>\n",
              "</table>\n",
              "</div>\n",
              "      <button class=\"colab-df-convert\" onclick=\"convertToInteractive('df-c1709187-7af8-412e-b5bc-d8bcf5c68715')\"\n",
              "              title=\"Convert this dataframe to an interactive table.\"\n",
              "              style=\"display:none;\">\n",
              "        \n",
              "  <svg xmlns=\"http://www.w3.org/2000/svg\" height=\"24px\"viewBox=\"0 0 24 24\"\n",
              "       width=\"24px\">\n",
              "    <path d=\"M0 0h24v24H0V0z\" fill=\"none\"/>\n",
              "    <path d=\"M18.56 5.44l.94 2.06.94-2.06 2.06-.94-2.06-.94-.94-2.06-.94 2.06-2.06.94zm-11 1L8.5 8.5l.94-2.06 2.06-.94-2.06-.94L8.5 2.5l-.94 2.06-2.06.94zm10 10l.94 2.06.94-2.06 2.06-.94-2.06-.94-.94-2.06-.94 2.06-2.06.94z\"/><path d=\"M17.41 7.96l-1.37-1.37c-.4-.4-.92-.59-1.43-.59-.52 0-1.04.2-1.43.59L10.3 9.45l-7.72 7.72c-.78.78-.78 2.05 0 2.83L4 21.41c.39.39.9.59 1.41.59.51 0 1.02-.2 1.41-.59l7.78-7.78 2.81-2.81c.8-.78.8-2.07 0-2.86zM5.41 20L4 18.59l7.72-7.72 1.47 1.35L5.41 20z\"/>\n",
              "  </svg>\n",
              "      </button>\n",
              "      \n",
              "  <style>\n",
              "    .colab-df-container {\n",
              "      display:flex;\n",
              "      flex-wrap:wrap;\n",
              "      gap: 12px;\n",
              "    }\n",
              "\n",
              "    .colab-df-convert {\n",
              "      background-color: #E8F0FE;\n",
              "      border: none;\n",
              "      border-radius: 50%;\n",
              "      cursor: pointer;\n",
              "      display: none;\n",
              "      fill: #1967D2;\n",
              "      height: 32px;\n",
              "      padding: 0 0 0 0;\n",
              "      width: 32px;\n",
              "    }\n",
              "\n",
              "    .colab-df-convert:hover {\n",
              "      background-color: #E2EBFA;\n",
              "      box-shadow: 0px 1px 2px rgba(60, 64, 67, 0.3), 0px 1px 3px 1px rgba(60, 64, 67, 0.15);\n",
              "      fill: #174EA6;\n",
              "    }\n",
              "\n",
              "    [theme=dark] .colab-df-convert {\n",
              "      background-color: #3B4455;\n",
              "      fill: #D2E3FC;\n",
              "    }\n",
              "\n",
              "    [theme=dark] .colab-df-convert:hover {\n",
              "      background-color: #434B5C;\n",
              "      box-shadow: 0px 1px 3px 1px rgba(0, 0, 0, 0.15);\n",
              "      filter: drop-shadow(0px 1px 2px rgba(0, 0, 0, 0.3));\n",
              "      fill: #FFFFFF;\n",
              "    }\n",
              "  </style>\n",
              "\n",
              "      <script>\n",
              "        const buttonEl =\n",
              "          document.querySelector('#df-c1709187-7af8-412e-b5bc-d8bcf5c68715 button.colab-df-convert');\n",
              "        buttonEl.style.display =\n",
              "          google.colab.kernel.accessAllowed ? 'block' : 'none';\n",
              "\n",
              "        async function convertToInteractive(key) {\n",
              "          const element = document.querySelector('#df-c1709187-7af8-412e-b5bc-d8bcf5c68715');\n",
              "          const dataTable =\n",
              "            await google.colab.kernel.invokeFunction('convertToInteractive',\n",
              "                                                     [key], {});\n",
              "          if (!dataTable) return;\n",
              "\n",
              "          const docLinkHtml = 'Like what you see? Visit the ' +\n",
              "            '<a target=\"_blank\" href=https://colab.research.google.com/notebooks/data_table.ipynb>data table notebook</a>'\n",
              "            + ' to learn more about interactive tables.';\n",
              "          element.innerHTML = '';\n",
              "          dataTable['output_type'] = 'display_data';\n",
              "          await google.colab.output.renderOutput(dataTable, element);\n",
              "          const docLink = document.createElement('div');\n",
              "          docLink.innerHTML = docLinkHtml;\n",
              "          element.appendChild(docLink);\n",
              "        }\n",
              "      </script>\n",
              "    </div>\n",
              "  </div>\n",
              "  "
            ]
          },
          "metadata": {},
          "execution_count": 49
        }
      ]
    }
  ]
}