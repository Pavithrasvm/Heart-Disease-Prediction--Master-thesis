{
  "nbformat": 4,
  "nbformat_minor": 0,
  "metadata": {
    "colab": {
      "provenance": []
    },
    "kernelspec": {
      "name": "python3",
      "display_name": "Python 3"
    },
    "language_info": {
      "name": "python"
    }
  },
  "cells": [
    {
      "cell_type": "code",
      "execution_count": null,
      "metadata": {
        "id": "C25g8EvRc_XB"
      },
      "outputs": [],
      "source": [
        "import numpy as np\n",
        "import pandas as pd\n",
        "import matplotlib.pyplot as plt\n",
        "%matplotlib inline\n",
        "import seaborn as sns\n",
        "from sklearn.model_selection import train_test_split\n",
        "from sklearn.preprocessing import StandardScaler\n",
        "from sklearn.metrics import confusion_matrix\n",
        "import itertools\n",
        "\n",
        "import keras\n",
        "from keras.models import Sequential\n",
        "from keras.layers import Dense\n",
        "\n",
        "import tensorflow as tf\n",
        "tf.random.set_seed(4)\n",
        "from tensorflow import keras"
      ]
    },
    {
      "cell_type": "code",
      "source": [
        "from google.colab import files\n",
        "upload = files.upload()"
      ],
      "metadata": {
        "colab": {
          "base_uri": "https://localhost:8080/",
          "height": 73
        },
        "id": "YkxmIUbtdEaS",
        "outputId": "912a9a45-145c-4785-be2b-e5a8eb09fa28"
      },
      "execution_count": null,
      "outputs": [
        {
          "output_type": "display_data",
          "data": {
            "text/plain": [
              "<IPython.core.display.HTML object>"
            ],
            "text/html": [
              "\n",
              "     <input type=\"file\" id=\"files-bb833933-aa6e-44eb-bebb-f63fd0d65893\" name=\"files[]\" multiple disabled\n",
              "        style=\"border:none\" />\n",
              "     <output id=\"result-bb833933-aa6e-44eb-bebb-f63fd0d65893\">\n",
              "      Upload widget is only available when the cell has been executed in the\n",
              "      current browser session. Please rerun this cell to enable.\n",
              "      </output>\n",
              "      <script>// Copyright 2017 Google LLC\n",
              "//\n",
              "// Licensed under the Apache License, Version 2.0 (the \"License\");\n",
              "// you may not use this file except in compliance with the License.\n",
              "// You may obtain a copy of the License at\n",
              "//\n",
              "//      http://www.apache.org/licenses/LICENSE-2.0\n",
              "//\n",
              "// Unless required by applicable law or agreed to in writing, software\n",
              "// distributed under the License is distributed on an \"AS IS\" BASIS,\n",
              "// WITHOUT WARRANTIES OR CONDITIONS OF ANY KIND, either express or implied.\n",
              "// See the License for the specific language governing permissions and\n",
              "// limitations under the License.\n",
              "\n",
              "/**\n",
              " * @fileoverview Helpers for google.colab Python module.\n",
              " */\n",
              "(function(scope) {\n",
              "function span(text, styleAttributes = {}) {\n",
              "  const element = document.createElement('span');\n",
              "  element.textContent = text;\n",
              "  for (const key of Object.keys(styleAttributes)) {\n",
              "    element.style[key] = styleAttributes[key];\n",
              "  }\n",
              "  return element;\n",
              "}\n",
              "\n",
              "// Max number of bytes which will be uploaded at a time.\n",
              "const MAX_PAYLOAD_SIZE = 100 * 1024;\n",
              "\n",
              "function _uploadFiles(inputId, outputId) {\n",
              "  const steps = uploadFilesStep(inputId, outputId);\n",
              "  const outputElement = document.getElementById(outputId);\n",
              "  // Cache steps on the outputElement to make it available for the next call\n",
              "  // to uploadFilesContinue from Python.\n",
              "  outputElement.steps = steps;\n",
              "\n",
              "  return _uploadFilesContinue(outputId);\n",
              "}\n",
              "\n",
              "// This is roughly an async generator (not supported in the browser yet),\n",
              "// where there are multiple asynchronous steps and the Python side is going\n",
              "// to poll for completion of each step.\n",
              "// This uses a Promise to block the python side on completion of each step,\n",
              "// then passes the result of the previous step as the input to the next step.\n",
              "function _uploadFilesContinue(outputId) {\n",
              "  const outputElement = document.getElementById(outputId);\n",
              "  const steps = outputElement.steps;\n",
              "\n",
              "  const next = steps.next(outputElement.lastPromiseValue);\n",
              "  return Promise.resolve(next.value.promise).then((value) => {\n",
              "    // Cache the last promise value to make it available to the next\n",
              "    // step of the generator.\n",
              "    outputElement.lastPromiseValue = value;\n",
              "    return next.value.response;\n",
              "  });\n",
              "}\n",
              "\n",
              "/**\n",
              " * Generator function which is called between each async step of the upload\n",
              " * process.\n",
              " * @param {string} inputId Element ID of the input file picker element.\n",
              " * @param {string} outputId Element ID of the output display.\n",
              " * @return {!Iterable<!Object>} Iterable of next steps.\n",
              " */\n",
              "function* uploadFilesStep(inputId, outputId) {\n",
              "  const inputElement = document.getElementById(inputId);\n",
              "  inputElement.disabled = false;\n",
              "\n",
              "  const outputElement = document.getElementById(outputId);\n",
              "  outputElement.innerHTML = '';\n",
              "\n",
              "  const pickedPromise = new Promise((resolve) => {\n",
              "    inputElement.addEventListener('change', (e) => {\n",
              "      resolve(e.target.files);\n",
              "    });\n",
              "  });\n",
              "\n",
              "  const cancel = document.createElement('button');\n",
              "  inputElement.parentElement.appendChild(cancel);\n",
              "  cancel.textContent = 'Cancel upload';\n",
              "  const cancelPromise = new Promise((resolve) => {\n",
              "    cancel.onclick = () => {\n",
              "      resolve(null);\n",
              "    };\n",
              "  });\n",
              "\n",
              "  // Wait for the user to pick the files.\n",
              "  const files = yield {\n",
              "    promise: Promise.race([pickedPromise, cancelPromise]),\n",
              "    response: {\n",
              "      action: 'starting',\n",
              "    }\n",
              "  };\n",
              "\n",
              "  cancel.remove();\n",
              "\n",
              "  // Disable the input element since further picks are not allowed.\n",
              "  inputElement.disabled = true;\n",
              "\n",
              "  if (!files) {\n",
              "    return {\n",
              "      response: {\n",
              "        action: 'complete',\n",
              "      }\n",
              "    };\n",
              "  }\n",
              "\n",
              "  for (const file of files) {\n",
              "    const li = document.createElement('li');\n",
              "    li.append(span(file.name, {fontWeight: 'bold'}));\n",
              "    li.append(span(\n",
              "        `(${file.type || 'n/a'}) - ${file.size} bytes, ` +\n",
              "        `last modified: ${\n",
              "            file.lastModifiedDate ? file.lastModifiedDate.toLocaleDateString() :\n",
              "                                    'n/a'} - `));\n",
              "    const percent = span('0% done');\n",
              "    li.appendChild(percent);\n",
              "\n",
              "    outputElement.appendChild(li);\n",
              "\n",
              "    const fileDataPromise = new Promise((resolve) => {\n",
              "      const reader = new FileReader();\n",
              "      reader.onload = (e) => {\n",
              "        resolve(e.target.result);\n",
              "      };\n",
              "      reader.readAsArrayBuffer(file);\n",
              "    });\n",
              "    // Wait for the data to be ready.\n",
              "    let fileData = yield {\n",
              "      promise: fileDataPromise,\n",
              "      response: {\n",
              "        action: 'continue',\n",
              "      }\n",
              "    };\n",
              "\n",
              "    // Use a chunked sending to avoid message size limits. See b/62115660.\n",
              "    let position = 0;\n",
              "    do {\n",
              "      const length = Math.min(fileData.byteLength - position, MAX_PAYLOAD_SIZE);\n",
              "      const chunk = new Uint8Array(fileData, position, length);\n",
              "      position += length;\n",
              "\n",
              "      const base64 = btoa(String.fromCharCode.apply(null, chunk));\n",
              "      yield {\n",
              "        response: {\n",
              "          action: 'append',\n",
              "          file: file.name,\n",
              "          data: base64,\n",
              "        },\n",
              "      };\n",
              "\n",
              "      let percentDone = fileData.byteLength === 0 ?\n",
              "          100 :\n",
              "          Math.round((position / fileData.byteLength) * 100);\n",
              "      percent.textContent = `${percentDone}% done`;\n",
              "\n",
              "    } while (position < fileData.byteLength);\n",
              "  }\n",
              "\n",
              "  // All done.\n",
              "  yield {\n",
              "    response: {\n",
              "      action: 'complete',\n",
              "    }\n",
              "  };\n",
              "}\n",
              "\n",
              "scope.google = scope.google || {};\n",
              "scope.google.colab = scope.google.colab || {};\n",
              "scope.google.colab._files = {\n",
              "  _uploadFiles,\n",
              "  _uploadFilesContinue,\n",
              "};\n",
              "})(self);\n",
              "</script> "
            ]
          },
          "metadata": {}
        },
        {
          "output_type": "stream",
          "name": "stdout",
          "text": [
            "Saving framingham.csv to framingham.csv\n"
          ]
        }
      ]
    },
    {
      "cell_type": "code",
      "source": [
        "dataset= pd.read_csv('framingham.csv')"
      ],
      "metadata": {
        "id": "LB3M8JcidGFb"
      },
      "execution_count": null,
      "outputs": []
    },
    {
      "cell_type": "code",
      "source": [
        "dataset.isnull().sum()"
      ],
      "metadata": {
        "colab": {
          "base_uri": "https://localhost:8080/"
        },
        "id": "xDMSSeiodGOw",
        "outputId": "2f032a59-e11d-46a4-ccd2-c6ec0c22ba80"
      },
      "execution_count": null,
      "outputs": [
        {
          "output_type": "execute_result",
          "data": {
            "text/plain": [
              "male                 0\n",
              "age                  0\n",
              "education          105\n",
              "currentSmoker        0\n",
              "cigsPerDay          29\n",
              "BPMeds              53\n",
              "prevalentStroke      0\n",
              "prevalentHyp         0\n",
              "diabetes             0\n",
              "totChol             50\n",
              "sysBP                0\n",
              "diaBP                0\n",
              "BMI                 19\n",
              "heartRate            1\n",
              "glucose            388\n",
              "TenYearCHD           0\n",
              "dtype: int64"
            ]
          },
          "metadata": {},
          "execution_count": 4
        }
      ]
    },
    {
      "cell_type": "code",
      "source": [
        "dataset.isna().sum()"
      ],
      "metadata": {
        "colab": {
          "base_uri": "https://localhost:8080/"
        },
        "id": "A3JXoYkadGQK",
        "outputId": "ca0d76e0-3003-40a1-9c61-39a719714c59"
      },
      "execution_count": null,
      "outputs": [
        {
          "output_type": "execute_result",
          "data": {
            "text/plain": [
              "male                 0\n",
              "age                  0\n",
              "education          105\n",
              "currentSmoker        0\n",
              "cigsPerDay          29\n",
              "BPMeds              53\n",
              "prevalentStroke      0\n",
              "prevalentHyp         0\n",
              "diabetes             0\n",
              "totChol             50\n",
              "sysBP                0\n",
              "diaBP                0\n",
              "BMI                 19\n",
              "heartRate            1\n",
              "glucose            388\n",
              "TenYearCHD           0\n",
              "dtype: int64"
            ]
          },
          "metadata": {},
          "execution_count": 5
        }
      ]
    },
    {
      "cell_type": "code",
      "source": [
        "dataset.shape"
      ],
      "metadata": {
        "colab": {
          "base_uri": "https://localhost:8080/"
        },
        "id": "WQX4F_-JdGVJ",
        "outputId": "b559bafa-11f0-424f-f881-3eb6cbff5c55"
      },
      "execution_count": null,
      "outputs": [
        {
          "output_type": "execute_result",
          "data": {
            "text/plain": [
              "(4238, 16)"
            ]
          },
          "metadata": {},
          "execution_count": 6
        }
      ]
    },
    {
      "cell_type": "code",
      "source": [
        "dataset.info()"
      ],
      "metadata": {
        "colab": {
          "base_uri": "https://localhost:8080/"
        },
        "id": "jmXgPKyPdGWq",
        "outputId": "10e37f63-cdb5-4049-dc7c-99b3b0cd5c7f"
      },
      "execution_count": null,
      "outputs": [
        {
          "output_type": "stream",
          "name": "stdout",
          "text": [
            "<class 'pandas.core.frame.DataFrame'>\n",
            "RangeIndex: 4238 entries, 0 to 4237\n",
            "Data columns (total 16 columns):\n",
            " #   Column           Non-Null Count  Dtype  \n",
            "---  ------           --------------  -----  \n",
            " 0   male             4238 non-null   int64  \n",
            " 1   age              4238 non-null   int64  \n",
            " 2   education        4133 non-null   float64\n",
            " 3   currentSmoker    4238 non-null   int64  \n",
            " 4   cigsPerDay       4209 non-null   float64\n",
            " 5   BPMeds           4185 non-null   float64\n",
            " 6   prevalentStroke  4238 non-null   int64  \n",
            " 7   prevalentHyp     4238 non-null   int64  \n",
            " 8   diabetes         4238 non-null   int64  \n",
            " 9   totChol          4188 non-null   float64\n",
            " 10  sysBP            4238 non-null   float64\n",
            " 11  diaBP            4238 non-null   float64\n",
            " 12  BMI              4219 non-null   float64\n",
            " 13  heartRate        4237 non-null   float64\n",
            " 14  glucose          3850 non-null   float64\n",
            " 15  TenYearCHD       4238 non-null   int64  \n",
            "dtypes: float64(9), int64(7)\n",
            "memory usage: 529.9 KB\n"
          ]
        }
      ]
    },
    {
      "cell_type": "code",
      "source": [
        "dataset.describe()"
      ],
      "metadata": {
        "colab": {
          "base_uri": "https://localhost:8080/",
          "height": 364
        },
        "id": "rzXoRRwgdGez",
        "outputId": "5984c4b1-95f1-4ae2-e970-7c6af8044abe"
      },
      "execution_count": null,
      "outputs": [
        {
          "output_type": "execute_result",
          "data": {
            "text/plain": [
              "              male          age    education  currentSmoker   cigsPerDay  \\\n",
              "count  4238.000000  4238.000000  4133.000000    4238.000000  4209.000000   \n",
              "mean      0.429212    49.584946     1.978950       0.494101     9.003089   \n",
              "std       0.495022     8.572160     1.019791       0.500024    11.920094   \n",
              "min       0.000000    32.000000     1.000000       0.000000     0.000000   \n",
              "25%       0.000000    42.000000     1.000000       0.000000     0.000000   \n",
              "50%       0.000000    49.000000     2.000000       0.000000     0.000000   \n",
              "75%       1.000000    56.000000     3.000000       1.000000    20.000000   \n",
              "max       1.000000    70.000000     4.000000       1.000000    70.000000   \n",
              "\n",
              "            BPMeds  prevalentStroke  prevalentHyp     diabetes      totChol  \\\n",
              "count  4185.000000      4238.000000   4238.000000  4238.000000  4188.000000   \n",
              "mean      0.029630         0.005899      0.310524     0.025720   236.721585   \n",
              "std       0.169584         0.076587      0.462763     0.158316    44.590334   \n",
              "min       0.000000         0.000000      0.000000     0.000000   107.000000   \n",
              "25%       0.000000         0.000000      0.000000     0.000000   206.000000   \n",
              "50%       0.000000         0.000000      0.000000     0.000000   234.000000   \n",
              "75%       0.000000         0.000000      1.000000     0.000000   263.000000   \n",
              "max       1.000000         1.000000      1.000000     1.000000   696.000000   \n",
              "\n",
              "             sysBP        diaBP          BMI    heartRate      glucose  \\\n",
              "count  4238.000000  4238.000000  4219.000000  4237.000000  3850.000000   \n",
              "mean    132.352407    82.893464    25.802008    75.878924    81.966753   \n",
              "std      22.038097    11.910850     4.080111    12.026596    23.959998   \n",
              "min      83.500000    48.000000    15.540000    44.000000    40.000000   \n",
              "25%     117.000000    75.000000    23.070000    68.000000    71.000000   \n",
              "50%     128.000000    82.000000    25.400000    75.000000    78.000000   \n",
              "75%     144.000000    89.875000    28.040000    83.000000    87.000000   \n",
              "max     295.000000   142.500000    56.800000   143.000000   394.000000   \n",
              "\n",
              "        TenYearCHD  \n",
              "count  4238.000000  \n",
              "mean      0.151958  \n",
              "std       0.359023  \n",
              "min       0.000000  \n",
              "25%       0.000000  \n",
              "50%       0.000000  \n",
              "75%       0.000000  \n",
              "max       1.000000  "
            ],
            "text/html": [
              "\n",
              "  <div id=\"df-1307eecc-8e12-44e7-97f2-a7753f419470\">\n",
              "    <div class=\"colab-df-container\">\n",
              "      <div>\n",
              "<style scoped>\n",
              "    .dataframe tbody tr th:only-of-type {\n",
              "        vertical-align: middle;\n",
              "    }\n",
              "\n",
              "    .dataframe tbody tr th {\n",
              "        vertical-align: top;\n",
              "    }\n",
              "\n",
              "    .dataframe thead th {\n",
              "        text-align: right;\n",
              "    }\n",
              "</style>\n",
              "<table border=\"1\" class=\"dataframe\">\n",
              "  <thead>\n",
              "    <tr style=\"text-align: right;\">\n",
              "      <th></th>\n",
              "      <th>male</th>\n",
              "      <th>age</th>\n",
              "      <th>education</th>\n",
              "      <th>currentSmoker</th>\n",
              "      <th>cigsPerDay</th>\n",
              "      <th>BPMeds</th>\n",
              "      <th>prevalentStroke</th>\n",
              "      <th>prevalentHyp</th>\n",
              "      <th>diabetes</th>\n",
              "      <th>totChol</th>\n",
              "      <th>sysBP</th>\n",
              "      <th>diaBP</th>\n",
              "      <th>BMI</th>\n",
              "      <th>heartRate</th>\n",
              "      <th>glucose</th>\n",
              "      <th>TenYearCHD</th>\n",
              "    </tr>\n",
              "  </thead>\n",
              "  <tbody>\n",
              "    <tr>\n",
              "      <th>count</th>\n",
              "      <td>4238.000000</td>\n",
              "      <td>4238.000000</td>\n",
              "      <td>4133.000000</td>\n",
              "      <td>4238.000000</td>\n",
              "      <td>4209.000000</td>\n",
              "      <td>4185.000000</td>\n",
              "      <td>4238.000000</td>\n",
              "      <td>4238.000000</td>\n",
              "      <td>4238.000000</td>\n",
              "      <td>4188.000000</td>\n",
              "      <td>4238.000000</td>\n",
              "      <td>4238.000000</td>\n",
              "      <td>4219.000000</td>\n",
              "      <td>4237.000000</td>\n",
              "      <td>3850.000000</td>\n",
              "      <td>4238.000000</td>\n",
              "    </tr>\n",
              "    <tr>\n",
              "      <th>mean</th>\n",
              "      <td>0.429212</td>\n",
              "      <td>49.584946</td>\n",
              "      <td>1.978950</td>\n",
              "      <td>0.494101</td>\n",
              "      <td>9.003089</td>\n",
              "      <td>0.029630</td>\n",
              "      <td>0.005899</td>\n",
              "      <td>0.310524</td>\n",
              "      <td>0.025720</td>\n",
              "      <td>236.721585</td>\n",
              "      <td>132.352407</td>\n",
              "      <td>82.893464</td>\n",
              "      <td>25.802008</td>\n",
              "      <td>75.878924</td>\n",
              "      <td>81.966753</td>\n",
              "      <td>0.151958</td>\n",
              "    </tr>\n",
              "    <tr>\n",
              "      <th>std</th>\n",
              "      <td>0.495022</td>\n",
              "      <td>8.572160</td>\n",
              "      <td>1.019791</td>\n",
              "      <td>0.500024</td>\n",
              "      <td>11.920094</td>\n",
              "      <td>0.169584</td>\n",
              "      <td>0.076587</td>\n",
              "      <td>0.462763</td>\n",
              "      <td>0.158316</td>\n",
              "      <td>44.590334</td>\n",
              "      <td>22.038097</td>\n",
              "      <td>11.910850</td>\n",
              "      <td>4.080111</td>\n",
              "      <td>12.026596</td>\n",
              "      <td>23.959998</td>\n",
              "      <td>0.359023</td>\n",
              "    </tr>\n",
              "    <tr>\n",
              "      <th>min</th>\n",
              "      <td>0.000000</td>\n",
              "      <td>32.000000</td>\n",
              "      <td>1.000000</td>\n",
              "      <td>0.000000</td>\n",
              "      <td>0.000000</td>\n",
              "      <td>0.000000</td>\n",
              "      <td>0.000000</td>\n",
              "      <td>0.000000</td>\n",
              "      <td>0.000000</td>\n",
              "      <td>107.000000</td>\n",
              "      <td>83.500000</td>\n",
              "      <td>48.000000</td>\n",
              "      <td>15.540000</td>\n",
              "      <td>44.000000</td>\n",
              "      <td>40.000000</td>\n",
              "      <td>0.000000</td>\n",
              "    </tr>\n",
              "    <tr>\n",
              "      <th>25%</th>\n",
              "      <td>0.000000</td>\n",
              "      <td>42.000000</td>\n",
              "      <td>1.000000</td>\n",
              "      <td>0.000000</td>\n",
              "      <td>0.000000</td>\n",
              "      <td>0.000000</td>\n",
              "      <td>0.000000</td>\n",
              "      <td>0.000000</td>\n",
              "      <td>0.000000</td>\n",
              "      <td>206.000000</td>\n",
              "      <td>117.000000</td>\n",
              "      <td>75.000000</td>\n",
              "      <td>23.070000</td>\n",
              "      <td>68.000000</td>\n",
              "      <td>71.000000</td>\n",
              "      <td>0.000000</td>\n",
              "    </tr>\n",
              "    <tr>\n",
              "      <th>50%</th>\n",
              "      <td>0.000000</td>\n",
              "      <td>49.000000</td>\n",
              "      <td>2.000000</td>\n",
              "      <td>0.000000</td>\n",
              "      <td>0.000000</td>\n",
              "      <td>0.000000</td>\n",
              "      <td>0.000000</td>\n",
              "      <td>0.000000</td>\n",
              "      <td>0.000000</td>\n",
              "      <td>234.000000</td>\n",
              "      <td>128.000000</td>\n",
              "      <td>82.000000</td>\n",
              "      <td>25.400000</td>\n",
              "      <td>75.000000</td>\n",
              "      <td>78.000000</td>\n",
              "      <td>0.000000</td>\n",
              "    </tr>\n",
              "    <tr>\n",
              "      <th>75%</th>\n",
              "      <td>1.000000</td>\n",
              "      <td>56.000000</td>\n",
              "      <td>3.000000</td>\n",
              "      <td>1.000000</td>\n",
              "      <td>20.000000</td>\n",
              "      <td>0.000000</td>\n",
              "      <td>0.000000</td>\n",
              "      <td>1.000000</td>\n",
              "      <td>0.000000</td>\n",
              "      <td>263.000000</td>\n",
              "      <td>144.000000</td>\n",
              "      <td>89.875000</td>\n",
              "      <td>28.040000</td>\n",
              "      <td>83.000000</td>\n",
              "      <td>87.000000</td>\n",
              "      <td>0.000000</td>\n",
              "    </tr>\n",
              "    <tr>\n",
              "      <th>max</th>\n",
              "      <td>1.000000</td>\n",
              "      <td>70.000000</td>\n",
              "      <td>4.000000</td>\n",
              "      <td>1.000000</td>\n",
              "      <td>70.000000</td>\n",
              "      <td>1.000000</td>\n",
              "      <td>1.000000</td>\n",
              "      <td>1.000000</td>\n",
              "      <td>1.000000</td>\n",
              "      <td>696.000000</td>\n",
              "      <td>295.000000</td>\n",
              "      <td>142.500000</td>\n",
              "      <td>56.800000</td>\n",
              "      <td>143.000000</td>\n",
              "      <td>394.000000</td>\n",
              "      <td>1.000000</td>\n",
              "    </tr>\n",
              "  </tbody>\n",
              "</table>\n",
              "</div>\n",
              "      <button class=\"colab-df-convert\" onclick=\"convertToInteractive('df-1307eecc-8e12-44e7-97f2-a7753f419470')\"\n",
              "              title=\"Convert this dataframe to an interactive table.\"\n",
              "              style=\"display:none;\">\n",
              "        \n",
              "  <svg xmlns=\"http://www.w3.org/2000/svg\" height=\"24px\"viewBox=\"0 0 24 24\"\n",
              "       width=\"24px\">\n",
              "    <path d=\"M0 0h24v24H0V0z\" fill=\"none\"/>\n",
              "    <path d=\"M18.56 5.44l.94 2.06.94-2.06 2.06-.94-2.06-.94-.94-2.06-.94 2.06-2.06.94zm-11 1L8.5 8.5l.94-2.06 2.06-.94-2.06-.94L8.5 2.5l-.94 2.06-2.06.94zm10 10l.94 2.06.94-2.06 2.06-.94-2.06-.94-.94-2.06-.94 2.06-2.06.94z\"/><path d=\"M17.41 7.96l-1.37-1.37c-.4-.4-.92-.59-1.43-.59-.52 0-1.04.2-1.43.59L10.3 9.45l-7.72 7.72c-.78.78-.78 2.05 0 2.83L4 21.41c.39.39.9.59 1.41.59.51 0 1.02-.2 1.41-.59l7.78-7.78 2.81-2.81c.8-.78.8-2.07 0-2.86zM5.41 20L4 18.59l7.72-7.72 1.47 1.35L5.41 20z\"/>\n",
              "  </svg>\n",
              "      </button>\n",
              "      \n",
              "  <style>\n",
              "    .colab-df-container {\n",
              "      display:flex;\n",
              "      flex-wrap:wrap;\n",
              "      gap: 12px;\n",
              "    }\n",
              "\n",
              "    .colab-df-convert {\n",
              "      background-color: #E8F0FE;\n",
              "      border: none;\n",
              "      border-radius: 50%;\n",
              "      cursor: pointer;\n",
              "      display: none;\n",
              "      fill: #1967D2;\n",
              "      height: 32px;\n",
              "      padding: 0 0 0 0;\n",
              "      width: 32px;\n",
              "    }\n",
              "\n",
              "    .colab-df-convert:hover {\n",
              "      background-color: #E2EBFA;\n",
              "      box-shadow: 0px 1px 2px rgba(60, 64, 67, 0.3), 0px 1px 3px 1px rgba(60, 64, 67, 0.15);\n",
              "      fill: #174EA6;\n",
              "    }\n",
              "\n",
              "    [theme=dark] .colab-df-convert {\n",
              "      background-color: #3B4455;\n",
              "      fill: #D2E3FC;\n",
              "    }\n",
              "\n",
              "    [theme=dark] .colab-df-convert:hover {\n",
              "      background-color: #434B5C;\n",
              "      box-shadow: 0px 1px 3px 1px rgba(0, 0, 0, 0.15);\n",
              "      filter: drop-shadow(0px 1px 2px rgba(0, 0, 0, 0.3));\n",
              "      fill: #FFFFFF;\n",
              "    }\n",
              "  </style>\n",
              "\n",
              "      <script>\n",
              "        const buttonEl =\n",
              "          document.querySelector('#df-1307eecc-8e12-44e7-97f2-a7753f419470 button.colab-df-convert');\n",
              "        buttonEl.style.display =\n",
              "          google.colab.kernel.accessAllowed ? 'block' : 'none';\n",
              "\n",
              "        async function convertToInteractive(key) {\n",
              "          const element = document.querySelector('#df-1307eecc-8e12-44e7-97f2-a7753f419470');\n",
              "          const dataTable =\n",
              "            await google.colab.kernel.invokeFunction('convertToInteractive',\n",
              "                                                     [key], {});\n",
              "          if (!dataTable) return;\n",
              "\n",
              "          const docLinkHtml = 'Like what you see? Visit the ' +\n",
              "            '<a target=\"_blank\" href=https://colab.research.google.com/notebooks/data_table.ipynb>data table notebook</a>'\n",
              "            + ' to learn more about interactive tables.';\n",
              "          element.innerHTML = '';\n",
              "          dataTable['output_type'] = 'display_data';\n",
              "          await google.colab.output.renderOutput(dataTable, element);\n",
              "          const docLink = document.createElement('div');\n",
              "          docLink.innerHTML = docLinkHtml;\n",
              "          element.appendChild(docLink);\n",
              "        }\n",
              "      </script>\n",
              "    </div>\n",
              "  </div>\n",
              "  "
            ]
          },
          "metadata": {},
          "execution_count": 8
        }
      ]
    },
    {
      "cell_type": "markdown",
      "source": [
        "**Data Pre-processing**"
      ],
      "metadata": {
        "id": "WrUV6kCOdihZ"
      }
    },
    {
      "cell_type": "code",
      "source": [
        "count=0\n",
        "for i in dataset.isnull().sum(axis=1):\n",
        "    if i>0:\n",
        "        count=count+1\n",
        "print('Total number of rows with missing values is ', count)\n",
        "print('Since the number of rows with missing values are only',round((count/len(dataset.index))*100), '% of the entire dataset given, we decide to drop the rows with the missing or NaN values.')"
      ],
      "metadata": {
        "colab": {
          "base_uri": "https://localhost:8080/"
        },
        "id": "lv-NDirXdGmZ",
        "outputId": "ad367d45-663f-49b5-98bb-b69f148d5ad4"
      },
      "execution_count": null,
      "outputs": [
        {
          "output_type": "stream",
          "name": "stdout",
          "text": [
            "Total number of rows with missing values is  582\n",
            "Since the number of rows with missing values are only 14 % of the entire dataset given, we decide to drop the rows with the missing or NaN values.\n"
          ]
        }
      ]
    },
    {
      "cell_type": "code",
      "source": [
        "dataset = dataset.dropna()"
      ],
      "metadata": {
        "id": "IOiEhd-jdGsJ"
      },
      "execution_count": null,
      "outputs": []
    },
    {
      "cell_type": "code",
      "source": [
        "dataset.isnull().sum()"
      ],
      "metadata": {
        "colab": {
          "base_uri": "https://localhost:8080/"
        },
        "id": "t_GFpO1TdGto",
        "outputId": "2e5e6990-9905-4678-eab8-46a0eb9263fa"
      },
      "execution_count": null,
      "outputs": [
        {
          "output_type": "execute_result",
          "data": {
            "text/plain": [
              "male               0\n",
              "age                0\n",
              "education          0\n",
              "currentSmoker      0\n",
              "cigsPerDay         0\n",
              "BPMeds             0\n",
              "prevalentStroke    0\n",
              "prevalentHyp       0\n",
              "diabetes           0\n",
              "totChol            0\n",
              "sysBP              0\n",
              "diaBP              0\n",
              "BMI                0\n",
              "heartRate          0\n",
              "glucose            0\n",
              "TenYearCHD         0\n",
              "dtype: int64"
            ]
          },
          "metadata": {},
          "execution_count": 11
        }
      ]
    },
    {
      "cell_type": "code",
      "source": [
        "dataset.shape"
      ],
      "metadata": {
        "colab": {
          "base_uri": "https://localhost:8080/"
        },
        "id": "8QZFeyu7ebpp",
        "outputId": "27c73e28-3249-4062-9ee7-5f97dee0b1a7"
      },
      "execution_count": null,
      "outputs": [
        {
          "output_type": "execute_result",
          "data": {
            "text/plain": [
              "(3656, 16)"
            ]
          },
          "metadata": {},
          "execution_count": 12
        }
      ]
    },
    {
      "cell_type": "code",
      "source": [
        "dataset.mean()"
      ],
      "metadata": {
        "colab": {
          "base_uri": "https://localhost:8080/"
        },
        "id": "_qj6u6SweiRs",
        "outputId": "37fb057f-8015-4b4d-f176-ab934fffbd09"
      },
      "execution_count": null,
      "outputs": [
        {
          "output_type": "execute_result",
          "data": {
            "text/plain": [
              "male                 0.443654\n",
              "age                 49.557440\n",
              "education            1.979759\n",
              "currentSmoker        0.489059\n",
              "cigsPerDay           9.022155\n",
              "BPMeds               0.030361\n",
              "prevalentStroke      0.005744\n",
              "prevalentHyp         0.311543\n",
              "diabetes             0.027079\n",
              "totChol            236.873085\n",
              "sysBP              132.368025\n",
              "diaBP               82.912062\n",
              "BMI                 25.784185\n",
              "heartRate           75.730580\n",
              "glucose             81.856127\n",
              "TenYearCHD           0.152352\n",
              "dtype: float64"
            ]
          },
          "metadata": {},
          "execution_count": 13
        }
      ]
    },
    {
      "cell_type": "markdown",
      "source": [
        "Removing outliers"
      ],
      "metadata": {
        "id": "bcmMImeeetkL"
      }
    },
    {
      "cell_type": "code",
      "source": [
        "dataset.boxplot(column='cigsPerDay')"
      ],
      "metadata": {
        "colab": {
          "base_uri": "https://localhost:8080/",
          "height": 282
        },
        "id": "zbJDK7NJenLv",
        "outputId": "b13e29ed-f818-4626-cf2a-305d5e614354"
      },
      "execution_count": null,
      "outputs": [
        {
          "output_type": "execute_result",
          "data": {
            "text/plain": [
              "<Axes: >"
            ]
          },
          "metadata": {},
          "execution_count": 14
        },
        {
          "output_type": "display_data",
          "data": {
            "text/plain": [
              "<Figure size 432x288 with 1 Axes>"
            ],
            "image/png": "[encoded data removed]"
          },
          "metadata": {
            "needs_background": "light"
          }
        }
      ]
    },
    {
      "cell_type": "code",
      "source": [
        "dataset.loc[dataset['cigsPerDay'] > 59, 'cigsPerDay'] = 9.02"
      ],
      "metadata": {
        "id": "XwwyLlgHenS7"
      },
      "execution_count": null,
      "outputs": []
    },
    {
      "cell_type": "code",
      "source": [
        "dataset.boxplot(column='cigsPerDay') #after removing outliers"
      ],
      "metadata": {
        "colab": {
          "base_uri": "https://localhost:8080/",
          "height": 282
        },
        "id": "4Q4IzX0ZencE",
        "outputId": "d8f51570-b12f-4276-ae63-ccaf609826f2"
      },
      "execution_count": null,
      "outputs": [
        {
          "output_type": "execute_result",
          "data": {
            "text/plain": [
              "<Axes: >"
            ]
          },
          "metadata": {},
          "execution_count": 16
        },
        {
          "output_type": "display_data",
          "data": {
            "text/plain": [
              "<Figure size 432x288 with 1 Axes>"
            ],
            "image/png": "[encoded data removed]"
          },
          "metadata": {
            "needs_background": "light"
          }
        }
      ]
    },
    {
      "cell_type": "code",
      "source": [
        "dataset['totChol'].describe()"
      ],
      "metadata": {
        "colab": {
          "base_uri": "https://localhost:8080/"
        },
        "id": "DQKQ41-senoB",
        "outputId": "1ed7181d-2eb5-41f9-b1ff-a9f307aa60d1"
      },
      "execution_count": null,
      "outputs": [
        {
          "output_type": "execute_result",
          "data": {
            "text/plain": [
              "count    3656.000000\n",
              "mean      236.873085\n",
              "std        44.096223\n",
              "min       113.000000\n",
              "25%       206.000000\n",
              "50%       234.000000\n",
              "75%       263.250000\n",
              "max       600.000000\n",
              "Name: totChol, dtype: float64"
            ]
          },
          "metadata": {},
          "execution_count": 17
        }
      ]
    },
    {
      "cell_type": "code",
      "source": [
        "dataset.boxplot(column='totChol')"
      ],
      "metadata": {
        "colab": {
          "base_uri": "https://localhost:8080/",
          "height": 282
        },
        "id": "nCryBm62gB6B",
        "outputId": "547479cb-09d0-4dbd-837e-e53795d26b8b"
      },
      "execution_count": null,
      "outputs": [
        {
          "output_type": "execute_result",
          "data": {
            "text/plain": [
              "<Axes: >"
            ]
          },
          "metadata": {},
          "execution_count": 18
        },
        {
          "output_type": "display_data",
          "data": {
            "text/plain": [
              "<Figure size 432x288 with 1 Axes>"
            ],
            "image/png": "[encoded data removed]"
          },
          "metadata": {
            "needs_background": "light"
          }
        }
      ]
    },
    {
      "cell_type": "code",
      "source": [
        "dataset.loc[dataset['totChol'] > 480, 'totChol'] = 237"
      ],
      "metadata": {
        "id": "ZBZW3pzdgJvN"
      },
      "execution_count": null,
      "outputs": []
    },
    {
      "cell_type": "code",
      "source": [
        "dataset.boxplot(column='totChol')"
      ],
      "metadata": {
        "colab": {
          "base_uri": "https://localhost:8080/",
          "height": 282
        },
        "id": "Femh2wlkgJ5t",
        "outputId": "f23332bc-cce3-462c-d6ba-3b4eebc7d560"
      },
      "execution_count": null,
      "outputs": [
        {
          "output_type": "execute_result",
          "data": {
            "text/plain": [
              "<Axes: >"
            ]
          },
          "metadata": {},
          "execution_count": 20
        },
        {
          "output_type": "display_data",
          "data": {
            "text/plain": [
              "<Figure size 432x288 with 1 Axes>"
            ],
            "image/png": "[encoded data removed]"
          },
          "metadata": {
            "needs_background": "light"
          }
        }
      ]
    },
    {
      "cell_type": "code",
      "source": [
        "dataset['sysBP'].describe()"
      ],
      "metadata": {
        "colab": {
          "base_uri": "https://localhost:8080/"
        },
        "id": "FnDP7l-JgJ7c",
        "outputId": "d82598c7-1aa2-411a-88bb-7c3fbe02e9ff"
      },
      "execution_count": null,
      "outputs": [
        {
          "output_type": "execute_result",
          "data": {
            "text/plain": [
              "count    3656.000000\n",
              "mean      132.368025\n",
              "std        22.092444\n",
              "min        83.500000\n",
              "25%       117.000000\n",
              "50%       128.000000\n",
              "75%       144.000000\n",
              "max       295.000000\n",
              "Name: sysBP, dtype: float64"
            ]
          },
          "metadata": {},
          "execution_count": 21
        }
      ]
    },
    {
      "cell_type": "code",
      "source": [
        "dataset.boxplot(column='sysBP')"
      ],
      "metadata": {
        "colab": {
          "base_uri": "https://localhost:8080/",
          "height": 282
        },
        "id": "8BNUttQXf8TT",
        "outputId": "7ed00788-f9d8-4880-81ab-6217ceae5d44"
      },
      "execution_count": null,
      "outputs": [
        {
          "output_type": "execute_result",
          "data": {
            "text/plain": [
              "<Axes: >"
            ]
          },
          "metadata": {},
          "execution_count": 22
        },
        {
          "output_type": "display_data",
          "data": {
            "text/plain": [
              "<Figure size 432x288 with 1 Axes>"
            ],
            "image/png": "[encoded data removed]"
          },
          "metadata": {
            "needs_background": "light"
          }
        }
      ]
    },
    {
      "cell_type": "code",
      "source": [
        "dataset.loc[dataset['sysBP'] > 270, 'sysBP'] = dataset['sysBP'].median()"
      ],
      "metadata": {
        "id": "zkQVES7thDNT"
      },
      "execution_count": null,
      "outputs": []
    },
    {
      "cell_type": "code",
      "source": [
        "dataset.boxplot(column='sysBP') #After removing the outliers"
      ],
      "metadata": {
        "colab": {
          "base_uri": "https://localhost:8080/",
          "height": 282
        },
        "id": "N1Eaf6ADhNu3",
        "outputId": "7f06a8de-3a7b-4fd2-9af0-79f4cce0c639"
      },
      "execution_count": null,
      "outputs": [
        {
          "output_type": "execute_result",
          "data": {
            "text/plain": [
              "<Axes: >"
            ]
          },
          "metadata": {},
          "execution_count": 24
        },
        {
          "output_type": "display_data",
          "data": {
            "text/plain": [
              "<Figure size 432x288 with 1 Axes>"
            ],
            "image/png": "[encoded data removed]"
          },
          "metadata": {
            "needs_background": "light"
          }
        }
      ]
    },
    {
      "cell_type": "code",
      "source": [
        "dataset['BMI'].describe()"
      ],
      "metadata": {
        "colab": {
          "base_uri": "https://localhost:8080/"
        },
        "id": "v3og-HRchVKl",
        "outputId": "73e10bc3-c7ba-43eb-ff04-e02dabf39a1c"
      },
      "execution_count": null,
      "outputs": [
        {
          "output_type": "execute_result",
          "data": {
            "text/plain": [
              "count    3656.000000\n",
              "mean       25.784185\n",
              "std         4.065913\n",
              "min        15.540000\n",
              "25%        23.080000\n",
              "50%        25.380000\n",
              "75%        28.040000\n",
              "max        56.800000\n",
              "Name: BMI, dtype: float64"
            ]
          },
          "metadata": {},
          "execution_count": 25
        }
      ]
    },
    {
      "cell_type": "code",
      "source": [
        "dataset.boxplot(column='BMI')"
      ],
      "metadata": {
        "colab": {
          "base_uri": "https://localhost:8080/",
          "height": 282
        },
        "id": "-P3UTdIkhlNm",
        "outputId": "8534a62d-784c-48df-a771-4541ebe6cbc1"
      },
      "execution_count": null,
      "outputs": [
        {
          "output_type": "execute_result",
          "data": {
            "text/plain": [
              "<Axes: >"
            ]
          },
          "metadata": {},
          "execution_count": 26
        },
        {
          "output_type": "display_data",
          "data": {
            "text/plain": [
              "<Figure size 432x288 with 1 Axes>"
            ],
            "image/png": "[encoded data removed]"
          },
          "metadata": {
            "needs_background": "light"
          }
        }
      ]
    },
    {
      "cell_type": "code",
      "source": [
        "dataset.loc[dataset['BMI'] > 49, 'BMI'] = dataset['BMI'].median()"
      ],
      "metadata": {
        "id": "zg8RCjIciBcV"
      },
      "execution_count": null,
      "outputs": []
    },
    {
      "cell_type": "code",
      "source": [
        "dataset.boxplot(column='BMI') #After removing the outliers"
      ],
      "metadata": {
        "colab": {
          "base_uri": "https://localhost:8080/",
          "height": 282
        },
        "id": "20IkkVIXiH9d",
        "outputId": "5de84a5f-9294-4f80-859c-a46acde05f86"
      },
      "execution_count": null,
      "outputs": [
        {
          "output_type": "execute_result",
          "data": {
            "text/plain": [
              "<Axes: >"
            ]
          },
          "metadata": {},
          "execution_count": 28
        },
        {
          "output_type": "display_data",
          "data": {
            "text/plain": [
              "<Figure size 432x288 with 1 Axes>"
            ],
            "image/png": "[encoded data removed]"
          },
          "metadata": {
            "needs_background": "light"
          }
        }
      ]
    },
    {
      "cell_type": "code",
      "source": [
        "dataset['heartRate'].describe()"
      ],
      "metadata": {
        "colab": {
          "base_uri": "https://localhost:8080/"
        },
        "id": "2YW20E-2iNgI",
        "outputId": "ff2dd3f9-396b-4a52-9f77-34e3d1a7fbdb"
      },
      "execution_count": null,
      "outputs": [
        {
          "output_type": "execute_result",
          "data": {
            "text/plain": [
              "count    3656.000000\n",
              "mean       75.730580\n",
              "std        11.982952\n",
              "min        44.000000\n",
              "25%        68.000000\n",
              "50%        75.000000\n",
              "75%        82.000000\n",
              "max       143.000000\n",
              "Name: heartRate, dtype: float64"
            ]
          },
          "metadata": {},
          "execution_count": 29
        }
      ]
    },
    {
      "cell_type": "code",
      "source": [
        "dataset.boxplot(column='heartRate')"
      ],
      "metadata": {
        "colab": {
          "base_uri": "https://localhost:8080/",
          "height": 282
        },
        "id": "uH9ICpkCidYS",
        "outputId": "62128710-16f3-4737-d556-1b53883e7095"
      },
      "execution_count": null,
      "outputs": [
        {
          "output_type": "execute_result",
          "data": {
            "text/plain": [
              "<Axes: >"
            ]
          },
          "metadata": {},
          "execution_count": 30
        },
        {
          "output_type": "display_data",
          "data": {
            "text/plain": [
              "<Figure size 432x288 with 1 Axes>"
            ],
            "image/png": "[encoded data removed]"
          },
          "metadata": {
            "needs_background": "light"
          }
        }
      ]
    },
    {
      "cell_type": "code",
      "source": [
        "dataset['glucose'].describe()"
      ],
      "metadata": {
        "colab": {
          "base_uri": "https://localhost:8080/"
        },
        "id": "yt5mv7W0idad",
        "outputId": "7a291c9d-4c86-4b24-f913-cb8e2f97440c"
      },
      "execution_count": null,
      "outputs": [
        {
          "output_type": "execute_result",
          "data": {
            "text/plain": [
              "count    3656.000000\n",
              "mean       81.856127\n",
              "std        23.910128\n",
              "min        40.000000\n",
              "25%        71.000000\n",
              "50%        78.000000\n",
              "75%        87.000000\n",
              "max       394.000000\n",
              "Name: glucose, dtype: float64"
            ]
          },
          "metadata": {},
          "execution_count": 31
        }
      ]
    },
    {
      "cell_type": "code",
      "source": [
        "dataset.boxplot(column='glucose')"
      ],
      "metadata": {
        "colab": {
          "base_uri": "https://localhost:8080/",
          "height": 282
        },
        "id": "1_IC-77Dide1",
        "outputId": "eff13fb3-d6e3-4e8e-95e1-f4623fa20881"
      },
      "execution_count": null,
      "outputs": [
        {
          "output_type": "execute_result",
          "data": {
            "text/plain": [
              "<Axes: >"
            ]
          },
          "metadata": {},
          "execution_count": 32
        },
        {
          "output_type": "display_data",
          "data": {
            "text/plain": [
              "<Figure size 432x288 with 1 Axes>"
            ],
            "image/png": "[encoded data removed]"
          },
          "metadata": {
            "needs_background": "light"
          }
        }
      ]
    },
    {
      "cell_type": "markdown",
      "source": [
        "Above we observed that the Glucose level and Heart Rate have not been changed although their boxplots show some outliers, i.e., becuase these levels differ variedly from person to person and can be too high or too low depending upon the person's health."
      ],
      "metadata": {
        "id": "yM25z8C9inlE"
      }
    },
    {
      "cell_type": "code",
      "source": [
        "dataset['TenYearCHD'].value_counts() #Return the count of unique elements in TenYearCHD column"
      ],
      "metadata": {
        "colab": {
          "base_uri": "https://localhost:8080/"
        },
        "id": "uBL_-_gGj3gO",
        "outputId": "9be9895c-5886-40c4-a6ec-4cd02b31a3ac"
      },
      "execution_count": null,
      "outputs": [
        {
          "output_type": "execute_result",
          "data": {
            "text/plain": [
              "0    3099\n",
              "1     557\n",
              "Name: TenYearCHD, dtype: int64"
            ]
          },
          "metadata": {},
          "execution_count": 33
        }
      ]
    },
    {
      "cell_type": "markdown",
      "source": [
        "**Forward Feature Selection for Classification Problem**\n"
      ],
      "metadata": {
        "id": "Pz4Y1_Ce4KXh"
      }
    },
    {
      "cell_type": "code",
      "source": [
        "from sklearn.preprocessing import LabelEncoder\n",
        "le = LabelEncoder()\n",
        "cols = dataset.columns.tolist()\n",
        "for column in cols:\n",
        "    if dataset[column].dtype == 'object':\n",
        "        dataset[column] = le.fit_transform(dataset[column])"
      ],
      "metadata": {
        "id": "-dEmerZJ4I_x"
      },
      "execution_count": null,
      "outputs": []
    },
    {
      "cell_type": "code",
      "source": [
        "X = dataset.iloc[:,0:-1]\n",
        "y = dataset[\"TenYearCHD\"]"
      ],
      "metadata": {
        "id": "RiCSCpx54Mq8"
      },
      "execution_count": null,
      "outputs": []
    },
    {
      "cell_type": "code",
      "source": [
        "feature_names = tuple(X.columns)\n",
        "feature_names"
      ],
      "metadata": {
        "colab": {
          "base_uri": "https://localhost:8080/"
        },
        "id": "oeFhcCbK4PYm",
        "outputId": "4dc9d4ff-6f63-4736-f47b-836acba55ecf"
      },
      "execution_count": null,
      "outputs": [
        {
          "output_type": "execute_result",
          "data": {
            "text/plain": [
              "('male',\n",
              " 'age',\n",
              " 'education',\n",
              " 'currentSmoker',\n",
              " 'cigsPerDay',\n",
              " 'BPMeds',\n",
              " 'prevalentStroke',\n",
              " 'prevalentHyp',\n",
              " 'diabetes',\n",
              " 'totChol',\n",
              " 'sysBP',\n",
              " 'diaBP',\n",
              " 'BMI',\n",
              " 'heartRate',\n",
              " 'glucose')"
            ]
          },
          "metadata": {},
          "execution_count": 36
        }
      ]
    },
    {
      "cell_type": "code",
      "source": [
        "!pip install mlxtend"
      ],
      "metadata": {
        "colab": {
          "base_uri": "https://localhost:8080/"
        },
        "id": "QrbA3PZA5kUJ",
        "outputId": "02e25f44-8faa-4a4a-dd72-aec8b62372b5"
      },
      "execution_count": null,
      "outputs": [
        {
          "output_type": "stream",
          "name": "stdout",
          "text": [
            "Looking in indexes: https://pypi.org/simple, https://us-python.pkg.dev/colab-wheels/public/simple/\n",
            "Requirement already satisfied: mlxtend in /usr/local/lib/python3.9/dist-packages (0.14.0)\n",
            "Requirement already satisfied: scipy>=0.17 in /usr/local/lib/python3.9/dist-packages (from mlxtend) (1.10.1)\n",
            "Requirement already satisfied: pandas>=0.17.1 in /usr/local/lib/python3.9/dist-packages (from mlxtend) (1.4.4)\n",
            "Requirement already satisfied: numpy>=1.10.4 in /usr/local/lib/python3.9/dist-packages (from mlxtend) (1.22.4)\n",
            "Requirement already satisfied: setuptools in /usr/local/lib/python3.9/dist-packages (from mlxtend) (67.6.0)\n",
            "Requirement already satisfied: matplotlib>=1.5.1 in /usr/local/lib/python3.9/dist-packages (from mlxtend) (3.7.1)\n",
            "Requirement already satisfied: scikit-learn>=0.18 in /usr/local/lib/python3.9/dist-packages (from mlxtend) (1.2.2)\n",
            "Requirement already satisfied: pyparsing>=2.3.1 in /usr/local/lib/python3.9/dist-packages (from matplotlib>=1.5.1->mlxtend) (3.0.9)\n",
            "Requirement already satisfied: importlib-resources>=3.2.0 in /usr/local/lib/python3.9/dist-packages (from matplotlib>=1.5.1->mlxtend) (5.12.0)\n",
            "Requirement already satisfied: fonttools>=4.22.0 in /usr/local/lib/python3.9/dist-packages (from matplotlib>=1.5.1->mlxtend) (4.39.2)\n",
            "Requirement already satisfied: packaging>=20.0 in /usr/local/lib/python3.9/dist-packages (from matplotlib>=1.5.1->mlxtend) (23.0)\n",
            "Requirement already satisfied: pillow>=6.2.0 in /usr/local/lib/python3.9/dist-packages (from matplotlib>=1.5.1->mlxtend) (8.4.0)\n",
            "Requirement already satisfied: python-dateutil>=2.7 in /usr/local/lib/python3.9/dist-packages (from matplotlib>=1.5.1->mlxtend) (2.8.2)\n",
            "Requirement already satisfied: contourpy>=1.0.1 in /usr/local/lib/python3.9/dist-packages (from matplotlib>=1.5.1->mlxtend) (1.0.7)\n",
            "Requirement already satisfied: kiwisolver>=1.0.1 in /usr/local/lib/python3.9/dist-packages (from matplotlib>=1.5.1->mlxtend) (1.4.4)\n",
            "Requirement already satisfied: cycler>=0.10 in /usr/local/lib/python3.9/dist-packages (from matplotlib>=1.5.1->mlxtend) (0.11.0)\n",
            "Requirement already satisfied: pytz>=2020.1 in /usr/local/lib/python3.9/dist-packages (from pandas>=0.17.1->mlxtend) (2022.7.1)\n",
            "Requirement already satisfied: threadpoolctl>=2.0.0 in /usr/local/lib/python3.9/dist-packages (from scikit-learn>=0.18->mlxtend) (3.1.0)\n",
            "Requirement already satisfied: joblib>=1.1.1 in /usr/local/lib/python3.9/dist-packages (from scikit-learn>=0.18->mlxtend) (1.1.1)\n",
            "Requirement already satisfied: zipp>=3.1.0 in /usr/local/lib/python3.9/dist-packages (from importlib-resources>=3.2.0->matplotlib>=1.5.1->mlxtend) (3.15.0)\n",
            "Requirement already satisfied: six>=1.5 in /usr/local/lib/python3.9/dist-packages (from python-dateutil>=2.7->matplotlib>=1.5.1->mlxtend) (1.16.0)\n"
          ]
        }
      ]
    },
    {
      "cell_type": "code",
      "source": [
        "import joblib\n",
        "import sys\n",
        "sys.modules['sklearn.externals.joblib'] = joblib\n",
        "from mlxtend.feature_selection import SequentialFeatureSelector as SFS"
      ],
      "metadata": {
        "id": "-Mebr_ZR4Q6F"
      },
      "execution_count": null,
      "outputs": []
    },
    {
      "cell_type": "code",
      "source": [
        "from mlxtend.feature_selection import SequentialFeatureSelector as SFS\n",
        "from sklearn.neighbors import KNeighborsClassifier as knn\n",
        "from sklearn.linear_model import LogisticRegression as LGR\n",
        "from sklearn.ensemble import RandomForestClassifier as rfc"
      ],
      "metadata": {
        "id": "lyFVRpR64TGW"
      },
      "execution_count": null,
      "outputs": []
    },
    {
      "cell_type": "code",
      "source": [
        "sfs1 = SFS(#knn(n_neighbors=3),\n",
        "           #rfc(n_jobs=8),\n",
        "           LGR(max_iter=1000),\n",
        "           k_features='best',\n",
        "           forward=True,\n",
        "           floating=False,\n",
        "           verbose=2, #to check how the model is fitting\n",
        "           #scoring = 'neg_mean_squared_error',  # sklearn regressors\n",
        "           scoring='accuracy',  # based on accuracy metric, select best features\n",
        "           cv=0)\n",
        "\n",
        "sfs1 = sfs1.fit(X, y,custom_feature_names=feature_names)"
      ],
      "metadata": {
        "colab": {
          "base_uri": "https://localhost:8080/"
        },
        "id": "lHRPtRcT4VaF",
        "outputId": "9f868270-1832-47f2-ed8c-cd0aac03a544"
      },
      "execution_count": null,
      "outputs": [
        {
          "output_type": "stream",
          "name": "stderr",
          "text": [
            "[Parallel(n_jobs=1)]: Using backend SequentialBackend with 1 concurrent workers.\n",
            "[Parallel(n_jobs=1)]: Done   1 out of   1 | elapsed:    0.0s remaining:    0.0s\n",
            "[Parallel(n_jobs=1)]: Done  15 out of  15 | elapsed:    0.3s finished\n",
            "\n",
            "[2023-03-28 07:17:18] Features: 1/15 -- score: 0.8492888402625821[Parallel(n_jobs=1)]: Using backend SequentialBackend with 1 concurrent workers.\n",
            "[Parallel(n_jobs=1)]: Done   1 out of   1 | elapsed:    0.0s remaining:    0.0s\n",
            "[Parallel(n_jobs=1)]: Done  14 out of  14 | elapsed:    0.3s finished\n",
            "\n",
            "[2023-03-28 07:17:18] Features: 2/15 -- score: 0.8498358862144421[Parallel(n_jobs=1)]: Using backend SequentialBackend with 1 concurrent workers.\n",
            "[Parallel(n_jobs=1)]: Done   1 out of   1 | elapsed:    0.1s remaining:    0.0s\n",
            "[Parallel(n_jobs=1)]: Done  13 out of  13 | elapsed:    1.4s finished\n",
            "\n",
            "[2023-03-28 07:17:20] Features: 3/15 -- score: 0.850109409190372[Parallel(n_jobs=1)]: Using backend SequentialBackend with 1 concurrent workers.\n",
            "[Parallel(n_jobs=1)]: Done   1 out of   1 | elapsed:    0.1s remaining:    0.0s\n",
            "[Parallel(n_jobs=1)]: Done  12 out of  12 | elapsed:    0.8s finished\n",
            "\n",
            "[2023-03-28 07:17:20] Features: 4/15 -- score: 0.850109409190372[Parallel(n_jobs=1)]: Using backend SequentialBackend with 1 concurrent workers.\n",
            "[Parallel(n_jobs=1)]: Done   1 out of   1 | elapsed:    0.1s remaining:    0.0s\n",
            "[Parallel(n_jobs=1)]: Done  11 out of  11 | elapsed:    0.8s finished\n",
            "\n",
            "[2023-03-28 07:17:21] Features: 5/15 -- score: 0.850109409190372[Parallel(n_jobs=1)]: Using backend SequentialBackend with 1 concurrent workers.\n",
            "[Parallel(n_jobs=1)]: Done   1 out of   1 | elapsed:    0.1s remaining:    0.0s\n",
            "[Parallel(n_jobs=1)]: Done  10 out of  10 | elapsed:    0.5s finished\n",
            "\n",
            "[2023-03-28 07:17:22] Features: 6/15 -- score: 0.850382932166302[Parallel(n_jobs=1)]: Using backend SequentialBackend with 1 concurrent workers.\n",
            "[Parallel(n_jobs=1)]: Done   1 out of   1 | elapsed:    0.1s remaining:    0.0s\n",
            "[Parallel(n_jobs=1)]: Done   9 out of   9 | elapsed:    0.4s finished\n",
            "\n",
            "[2023-03-28 07:17:22] Features: 7/15 -- score: 0.8520240700218819[Parallel(n_jobs=1)]: Using backend SequentialBackend with 1 concurrent workers.\n",
            "[Parallel(n_jobs=1)]: Done   1 out of   1 | elapsed:    0.0s remaining:    0.0s\n",
            "[Parallel(n_jobs=1)]: Done   8 out of   8 | elapsed:    0.5s finished\n",
            "\n",
            "[2023-03-28 07:17:23] Features: 8/15 -- score: 0.8536652078774617[Parallel(n_jobs=1)]: Using backend SequentialBackend with 1 concurrent workers.\n",
            "[Parallel(n_jobs=1)]: Done   1 out of   1 | elapsed:    0.1s remaining:    0.0s\n",
            "[Parallel(n_jobs=1)]: Done   7 out of   7 | elapsed:    0.8s finished\n",
            "\n",
            "[2023-03-28 07:17:23] Features: 9/15 -- score: 0.8555798687089715[Parallel(n_jobs=1)]: Using backend SequentialBackend with 1 concurrent workers.\n",
            "[Parallel(n_jobs=1)]: Done   1 out of   1 | elapsed:    0.2s remaining:    0.0s\n",
            "[Parallel(n_jobs=1)]: Done   6 out of   6 | elapsed:    1.2s finished\n",
            "\n",
            "[2023-03-28 07:17:25] Features: 10/15 -- score: 0.8564004376367614[Parallel(n_jobs=1)]: Using backend SequentialBackend with 1 concurrent workers.\n",
            "[Parallel(n_jobs=1)]: Done   1 out of   1 | elapsed:    0.3s remaining:    0.0s\n",
            "[Parallel(n_jobs=1)]: Done   5 out of   5 | elapsed:    1.2s finished\n",
            "\n",
            "[2023-03-28 07:17:26] Features: 11/15 -- score: 0.8566739606126915[Parallel(n_jobs=1)]: Using backend SequentialBackend with 1 concurrent workers.\n",
            "[Parallel(n_jobs=1)]: Done   1 out of   1 | elapsed:    0.5s remaining:    0.0s\n",
            "[Parallel(n_jobs=1)]: Done   4 out of   4 | elapsed:    1.6s finished\n",
            "\n",
            "[2023-03-28 07:17:27] Features: 12/15 -- score: 0.8564004376367614[Parallel(n_jobs=1)]: Using backend SequentialBackend with 1 concurrent workers.\n",
            "/usr/local/lib/python3.9/dist-packages/sklearn/linear_model/_logistic.py:458: ConvergenceWarning: lbfgs failed to converge (status=1):\n",
            "STOP: TOTAL NO. of ITERATIONS REACHED LIMIT.\n",
            "\n",
            "Increase the number of iterations (max_iter) or scale the data as shown in:\n",
            "    https://scikit-learn.org/stable/modules/preprocessing.html\n",
            "Please also refer to the documentation for alternative solver options:\n",
            "    https://scikit-learn.org/stable/modules/linear_model.html#logistic-regression\n",
            "  n_iter_i = _check_optimize_result(\n",
            "[Parallel(n_jobs=1)]: Done   1 out of   1 | elapsed:    0.6s remaining:    0.0s\n",
            "/usr/local/lib/python3.9/dist-packages/sklearn/linear_model/_logistic.py:458: ConvergenceWarning: lbfgs failed to converge (status=1):\n",
            "STOP: TOTAL NO. of ITERATIONS REACHED LIMIT.\n",
            "\n",
            "Increase the number of iterations (max_iter) or scale the data as shown in:\n",
            "    https://scikit-learn.org/stable/modules/preprocessing.html\n",
            "Please also refer to the documentation for alternative solver options:\n",
            "    https://scikit-learn.org/stable/modules/linear_model.html#logistic-regression\n",
            "  n_iter_i = _check_optimize_result(\n",
            "/usr/local/lib/python3.9/dist-packages/sklearn/linear_model/_logistic.py:458: ConvergenceWarning: lbfgs failed to converge (status=1):\n",
            "STOP: TOTAL NO. of ITERATIONS REACHED LIMIT.\n",
            "\n",
            "Increase the number of iterations (max_iter) or scale the data as shown in:\n",
            "    https://scikit-learn.org/stable/modules/preprocessing.html\n",
            "Please also refer to the documentation for alternative solver options:\n",
            "    https://scikit-learn.org/stable/modules/linear_model.html#logistic-regression\n",
            "  n_iter_i = _check_optimize_result(\n",
            "[Parallel(n_jobs=1)]: Done   3 out of   3 | elapsed:    1.6s finished\n",
            "\n",
            "[2023-03-28 07:17:29] Features: 13/15 -- score: 0.8564004376367614[Parallel(n_jobs=1)]: Using backend SequentialBackend with 1 concurrent workers.\n",
            "[Parallel(n_jobs=1)]: Done   1 out of   1 | elapsed:    1.2s remaining:    0.0s\n",
            "/usr/local/lib/python3.9/dist-packages/sklearn/linear_model/_logistic.py:458: ConvergenceWarning: lbfgs failed to converge (status=1):\n",
            "STOP: TOTAL NO. of ITERATIONS REACHED LIMIT.\n",
            "\n",
            "Increase the number of iterations (max_iter) or scale the data as shown in:\n",
            "    https://scikit-learn.org/stable/modules/preprocessing.html\n",
            "Please also refer to the documentation for alternative solver options:\n",
            "    https://scikit-learn.org/stable/modules/linear_model.html#logistic-regression\n",
            "  n_iter_i = _check_optimize_result(\n",
            "[Parallel(n_jobs=1)]: Done   2 out of   2 | elapsed:    3.1s finished\n",
            "\n",
            "[2023-03-28 07:17:32] Features: 14/15 -- score: 0.8550328227571116[Parallel(n_jobs=1)]: Using backend SequentialBackend with 1 concurrent workers.\n",
            "/usr/local/lib/python3.9/dist-packages/sklearn/linear_model/_logistic.py:458: ConvergenceWarning: lbfgs failed to converge (status=1):\n",
            "STOP: TOTAL NO. of ITERATIONS REACHED LIMIT.\n",
            "\n",
            "Increase the number of iterations (max_iter) or scale the data as shown in:\n",
            "    https://scikit-learn.org/stable/modules/preprocessing.html\n",
            "Please also refer to the documentation for alternative solver options:\n",
            "    https://scikit-learn.org/stable/modules/linear_model.html#logistic-regression\n",
            "  n_iter_i = _check_optimize_result(\n",
            "[Parallel(n_jobs=1)]: Done   1 out of   1 | elapsed:    2.2s remaining:    0.0s\n",
            "[Parallel(n_jobs=1)]: Done   1 out of   1 | elapsed:    2.2s finished\n",
            "\n",
            "[2023-03-28 07:17:34] Features: 15/15 -- score: 0.8561269146608315"
          ]
        }
      ]
    },
    {
      "cell_type": "code",
      "source": [
        "# Via the subsets_ attribute, we can take a look at the selected feature indices at each step:\n",
        "sfs1.subsets_"
      ],
      "metadata": {
        "id": "6Ewyd0ZF4W-G",
        "colab": {
          "base_uri": "https://localhost:8080/"
        },
        "outputId": "f11a456c-fa58-42bf-b07a-13269f1235b6"
      },
      "execution_count": null,
      "outputs": [
        {
          "output_type": "execute_result",
          "data": {
            "text/plain": [
              "{1: {'feature_idx': (14,),\n",
              "  'cv_scores': array([0.84928884]),\n",
              "  'avg_score': 0.8492888402625821,\n",
              "  'feature_names': ('glucose',)},\n",
              " 2: {'feature_idx': (5, 14),\n",
              "  'cv_scores': array([0.84983589]),\n",
              "  'avg_score': 0.8498358862144421,\n",
              "  'feature_names': ('BPMeds', 'glucose')},\n",
              " 3: {'feature_idx': (3, 5, 14),\n",
              "  'cv_scores': array([0.85010941]),\n",
              "  'avg_score': 0.850109409190372,\n",
              "  'feature_names': ('currentSmoker', 'BPMeds', 'glucose')},\n",
              " 4: {'feature_idx': (3, 4, 5, 14),\n",
              "  'cv_scores': array([0.85010941]),\n",
              "  'avg_score': 0.850109409190372,\n",
              "  'feature_names': ('currentSmoker', 'cigsPerDay', 'BPMeds', 'glucose')},\n",
              " 5: {'feature_idx': (3, 4, 5, 6, 14),\n",
              "  'cv_scores': array([0.85010941]),\n",
              "  'avg_score': 0.850109409190372,\n",
              "  'feature_names': ('currentSmoker',\n",
              "   'cigsPerDay',\n",
              "   'BPMeds',\n",
              "   'prevalentStroke',\n",
              "   'glucose')},\n",
              " 6: {'feature_idx': (3, 4, 5, 6, 11, 14),\n",
              "  'cv_scores': array([0.85038293]),\n",
              "  'avg_score': 0.850382932166302,\n",
              "  'feature_names': ('currentSmoker',\n",
              "   'cigsPerDay',\n",
              "   'BPMeds',\n",
              "   'prevalentStroke',\n",
              "   'diaBP',\n",
              "   'glucose')},\n",
              " 7: {'feature_idx': (1, 3, 4, 5, 6, 11, 14),\n",
              "  'cv_scores': array([0.85202407]),\n",
              "  'avg_score': 0.8520240700218819,\n",
              "  'feature_names': ('age',\n",
              "   'currentSmoker',\n",
              "   'cigsPerDay',\n",
              "   'BPMeds',\n",
              "   'prevalentStroke',\n",
              "   'diaBP',\n",
              "   'glucose')},\n",
              " 8: {'feature_idx': (1, 3, 4, 5, 6, 7, 11, 14),\n",
              "  'cv_scores': array([0.85366521]),\n",
              "  'avg_score': 0.8536652078774617,\n",
              "  'feature_names': ('age',\n",
              "   'currentSmoker',\n",
              "   'cigsPerDay',\n",
              "   'BPMeds',\n",
              "   'prevalentStroke',\n",
              "   'prevalentHyp',\n",
              "   'diaBP',\n",
              "   'glucose')},\n",
              " 9: {'feature_idx': (1, 3, 4, 5, 6, 7, 10, 11, 14),\n",
              "  'cv_scores': array([0.85557987]),\n",
              "  'avg_score': 0.8555798687089715,\n",
              "  'feature_names': ('age',\n",
              "   'currentSmoker',\n",
              "   'cigsPerDay',\n",
              "   'BPMeds',\n",
              "   'prevalentStroke',\n",
              "   'prevalentHyp',\n",
              "   'sysBP',\n",
              "   'diaBP',\n",
              "   'glucose')},\n",
              " 10: {'feature_idx': (1, 3, 4, 5, 6, 7, 10, 11, 13, 14),\n",
              "  'cv_scores': array([0.85640044]),\n",
              "  'avg_score': 0.8564004376367614,\n",
              "  'feature_names': ('age',\n",
              "   'currentSmoker',\n",
              "   'cigsPerDay',\n",
              "   'BPMeds',\n",
              "   'prevalentStroke',\n",
              "   'prevalentHyp',\n",
              "   'sysBP',\n",
              "   'diaBP',\n",
              "   'heartRate',\n",
              "   'glucose')},\n",
              " 11: {'feature_idx': (1, 3, 4, 5, 6, 7, 10, 11, 12, 13, 14),\n",
              "  'cv_scores': array([0.85667396]),\n",
              "  'avg_score': 0.8566739606126915,\n",
              "  'feature_names': ('age',\n",
              "   'currentSmoker',\n",
              "   'cigsPerDay',\n",
              "   'BPMeds',\n",
              "   'prevalentStroke',\n",
              "   'prevalentHyp',\n",
              "   'sysBP',\n",
              "   'diaBP',\n",
              "   'BMI',\n",
              "   'heartRate',\n",
              "   'glucose')},\n",
              " 12: {'feature_idx': (1, 3, 4, 5, 6, 7, 8, 10, 11, 12, 13, 14),\n",
              "  'cv_scores': array([0.85640044]),\n",
              "  'avg_score': 0.8564004376367614,\n",
              "  'feature_names': ('age',\n",
              "   'currentSmoker',\n",
              "   'cigsPerDay',\n",
              "   'BPMeds',\n",
              "   'prevalentStroke',\n",
              "   'prevalentHyp',\n",
              "   'diabetes',\n",
              "   'sysBP',\n",
              "   'diaBP',\n",
              "   'BMI',\n",
              "   'heartRate',\n",
              "   'glucose')},\n",
              " 13: {'feature_idx': (1, 2, 3, 4, 5, 6, 7, 8, 10, 11, 12, 13, 14),\n",
              "  'cv_scores': array([0.85640044]),\n",
              "  'avg_score': 0.8564004376367614,\n",
              "  'feature_names': ('age',\n",
              "   'education',\n",
              "   'currentSmoker',\n",
              "   'cigsPerDay',\n",
              "   'BPMeds',\n",
              "   'prevalentStroke',\n",
              "   'prevalentHyp',\n",
              "   'diabetes',\n",
              "   'sysBP',\n",
              "   'diaBP',\n",
              "   'BMI',\n",
              "   'heartRate',\n",
              "   'glucose')},\n",
              " 14: {'feature_idx': (0, 1, 2, 3, 4, 5, 6, 7, 8, 10, 11, 12, 13, 14),\n",
              "  'cv_scores': array([0.85503282]),\n",
              "  'avg_score': 0.8550328227571116,\n",
              "  'feature_names': ('male',\n",
              "   'age',\n",
              "   'education',\n",
              "   'currentSmoker',\n",
              "   'cigsPerDay',\n",
              "   'BPMeds',\n",
              "   'prevalentStroke',\n",
              "   'prevalentHyp',\n",
              "   'diabetes',\n",
              "   'sysBP',\n",
              "   'diaBP',\n",
              "   'BMI',\n",
              "   'heartRate',\n",
              "   'glucose')},\n",
              " 15: {'feature_idx': (0, 1, 2, 3, 4, 5, 6, 7, 8, 9, 10, 11, 12, 13, 14),\n",
              "  'cv_scores': array([0.85612691]),\n",
              "  'avg_score': 0.8561269146608315,\n",
              "  'feature_names': ('male',\n",
              "   'age',\n",
              "   'education',\n",
              "   'currentSmoker',\n",
              "   'cigsPerDay',\n",
              "   'BPMeds',\n",
              "   'prevalentStroke',\n",
              "   'prevalentHyp',\n",
              "   'diabetes',\n",
              "   'totChol',\n",
              "   'sysBP',\n",
              "   'diaBP',\n",
              "   'BMI',\n",
              "   'heartRate',\n",
              "   'glucose')}}"
            ]
          },
          "metadata": {},
          "execution_count": 41
        }
      ]
    },
    {
      "cell_type": "code",
      "source": [
        "sfs1.get_metric_dict()"
      ],
      "metadata": {
        "id": "uxn1_lrM4ZoZ",
        "colab": {
          "base_uri": "https://localhost:8080/"
        },
        "outputId": "0aabcffa-b126-4de5-b959-326f5778fc17"
      },
      "execution_count": null,
      "outputs": [
        {
          "output_type": "stream",
          "name": "stderr",
          "text": [
            "/usr/local/lib/python3.9/dist-packages/numpy/core/_methods.py:264: RuntimeWarning: Degrees of freedom <= 0 for slice\n",
            "  ret = _var(a, axis=axis, dtype=dtype, out=out, ddof=ddof,\n",
            "/usr/local/lib/python3.9/dist-packages/numpy/core/_methods.py:256: RuntimeWarning: invalid value encountered in double_scalars\n",
            "  ret = ret.dtype.type(ret / rcount)\n"
          ]
        },
        {
          "output_type": "execute_result",
          "data": {
            "text/plain": [
              "{1: {'feature_idx': (14,),\n",
              "  'cv_scores': array([0.84928884]),\n",
              "  'avg_score': 0.8492888402625821,\n",
              "  'feature_names': ('glucose',),\n",
              "  'ci_bound': nan,\n",
              "  'std_dev': 0.0,\n",
              "  'std_err': nan},\n",
              " 2: {'feature_idx': (5, 14),\n",
              "  'cv_scores': array([0.84983589]),\n",
              "  'avg_score': 0.8498358862144421,\n",
              "  'feature_names': ('BPMeds', 'glucose'),\n",
              "  'ci_bound': nan,\n",
              "  'std_dev': 0.0,\n",
              "  'std_err': nan},\n",
              " 3: {'feature_idx': (3, 5, 14),\n",
              "  'cv_scores': array([0.85010941]),\n",
              "  'avg_score': 0.850109409190372,\n",
              "  'feature_names': ('currentSmoker', 'BPMeds', 'glucose'),\n",
              "  'ci_bound': nan,\n",
              "  'std_dev': 0.0,\n",
              "  'std_err': nan},\n",
              " 4: {'feature_idx': (3, 4, 5, 14),\n",
              "  'cv_scores': array([0.85010941]),\n",
              "  'avg_score': 0.850109409190372,\n",
              "  'feature_names': ('currentSmoker', 'cigsPerDay', 'BPMeds', 'glucose'),\n",
              "  'ci_bound': nan,\n",
              "  'std_dev': 0.0,\n",
              "  'std_err': nan},\n",
              " 5: {'feature_idx': (3, 4, 5, 6, 14),\n",
              "  'cv_scores': array([0.85010941]),\n",
              "  'avg_score': 0.850109409190372,\n",
              "  'feature_names': ('currentSmoker',\n",
              "   'cigsPerDay',\n",
              "   'BPMeds',\n",
              "   'prevalentStroke',\n",
              "   'glucose'),\n",
              "  'ci_bound': nan,\n",
              "  'std_dev': 0.0,\n",
              "  'std_err': nan},\n",
              " 6: {'feature_idx': (3, 4, 5, 6, 11, 14),\n",
              "  'cv_scores': array([0.85038293]),\n",
              "  'avg_score': 0.850382932166302,\n",
              "  'feature_names': ('currentSmoker',\n",
              "   'cigsPerDay',\n",
              "   'BPMeds',\n",
              "   'prevalentStroke',\n",
              "   'diaBP',\n",
              "   'glucose'),\n",
              "  'ci_bound': nan,\n",
              "  'std_dev': 0.0,\n",
              "  'std_err': nan},\n",
              " 7: {'feature_idx': (1, 3, 4, 5, 6, 11, 14),\n",
              "  'cv_scores': array([0.85202407]),\n",
              "  'avg_score': 0.8520240700218819,\n",
              "  'feature_names': ('age',\n",
              "   'currentSmoker',\n",
              "   'cigsPerDay',\n",
              "   'BPMeds',\n",
              "   'prevalentStroke',\n",
              "   'diaBP',\n",
              "   'glucose'),\n",
              "  'ci_bound': nan,\n",
              "  'std_dev': 0.0,\n",
              "  'std_err': nan},\n",
              " 8: {'feature_idx': (1, 3, 4, 5, 6, 7, 11, 14),\n",
              "  'cv_scores': array([0.85366521]),\n",
              "  'avg_score': 0.8536652078774617,\n",
              "  'feature_names': ('age',\n",
              "   'currentSmoker',\n",
              "   'cigsPerDay',\n",
              "   'BPMeds',\n",
              "   'prevalentStroke',\n",
              "   'prevalentHyp',\n",
              "   'diaBP',\n",
              "   'glucose'),\n",
              "  'ci_bound': nan,\n",
              "  'std_dev': 0.0,\n",
              "  'std_err': nan},\n",
              " 9: {'feature_idx': (1, 3, 4, 5, 6, 7, 10, 11, 14),\n",
              "  'cv_scores': array([0.85557987]),\n",
              "  'avg_score': 0.8555798687089715,\n",
              "  'feature_names': ('age',\n",
              "   'currentSmoker',\n",
              "   'cigsPerDay',\n",
              "   'BPMeds',\n",
              "   'prevalentStroke',\n",
              "   'prevalentHyp',\n",
              "   'sysBP',\n",
              "   'diaBP',\n",
              "   'glucose'),\n",
              "  'ci_bound': nan,\n",
              "  'std_dev': 0.0,\n",
              "  'std_err': nan},\n",
              " 10: {'feature_idx': (1, 3, 4, 5, 6, 7, 10, 11, 13, 14),\n",
              "  'cv_scores': array([0.85640044]),\n",
              "  'avg_score': 0.8564004376367614,\n",
              "  'feature_names': ('age',\n",
              "   'currentSmoker',\n",
              "   'cigsPerDay',\n",
              "   'BPMeds',\n",
              "   'prevalentStroke',\n",
              "   'prevalentHyp',\n",
              "   'sysBP',\n",
              "   'diaBP',\n",
              "   'heartRate',\n",
              "   'glucose'),\n",
              "  'ci_bound': nan,\n",
              "  'std_dev': 0.0,\n",
              "  'std_err': nan},\n",
              " 11: {'feature_idx': (1, 3, 4, 5, 6, 7, 10, 11, 12, 13, 14),\n",
              "  'cv_scores': array([0.85667396]),\n",
              "  'avg_score': 0.8566739606126915,\n",
              "  'feature_names': ('age',\n",
              "   'currentSmoker',\n",
              "   'cigsPerDay',\n",
              "   'BPMeds',\n",
              "   'prevalentStroke',\n",
              "   'prevalentHyp',\n",
              "   'sysBP',\n",
              "   'diaBP',\n",
              "   'BMI',\n",
              "   'heartRate',\n",
              "   'glucose'),\n",
              "  'ci_bound': nan,\n",
              "  'std_dev': 0.0,\n",
              "  'std_err': nan},\n",
              " 12: {'feature_idx': (1, 3, 4, 5, 6, 7, 8, 10, 11, 12, 13, 14),\n",
              "  'cv_scores': array([0.85640044]),\n",
              "  'avg_score': 0.8564004376367614,\n",
              "  'feature_names': ('age',\n",
              "   'currentSmoker',\n",
              "   'cigsPerDay',\n",
              "   'BPMeds',\n",
              "   'prevalentStroke',\n",
              "   'prevalentHyp',\n",
              "   'diabetes',\n",
              "   'sysBP',\n",
              "   'diaBP',\n",
              "   'BMI',\n",
              "   'heartRate',\n",
              "   'glucose'),\n",
              "  'ci_bound': nan,\n",
              "  'std_dev': 0.0,\n",
              "  'std_err': nan},\n",
              " 13: {'feature_idx': (1, 2, 3, 4, 5, 6, 7, 8, 10, 11, 12, 13, 14),\n",
              "  'cv_scores': array([0.85640044]),\n",
              "  'avg_score': 0.8564004376367614,\n",
              "  'feature_names': ('age',\n",
              "   'education',\n",
              "   'currentSmoker',\n",
              "   'cigsPerDay',\n",
              "   'BPMeds',\n",
              "   'prevalentStroke',\n",
              "   'prevalentHyp',\n",
              "   'diabetes',\n",
              "   'sysBP',\n",
              "   'diaBP',\n",
              "   'BMI',\n",
              "   'heartRate',\n",
              "   'glucose'),\n",
              "  'ci_bound': nan,\n",
              "  'std_dev': 0.0,\n",
              "  'std_err': nan},\n",
              " 14: {'feature_idx': (0, 1, 2, 3, 4, 5, 6, 7, 8, 10, 11, 12, 13, 14),\n",
              "  'cv_scores': array([0.85503282]),\n",
              "  'avg_score': 0.8550328227571116,\n",
              "  'feature_names': ('male',\n",
              "   'age',\n",
              "   'education',\n",
              "   'currentSmoker',\n",
              "   'cigsPerDay',\n",
              "   'BPMeds',\n",
              "   'prevalentStroke',\n",
              "   'prevalentHyp',\n",
              "   'diabetes',\n",
              "   'sysBP',\n",
              "   'diaBP',\n",
              "   'BMI',\n",
              "   'heartRate',\n",
              "   'glucose'),\n",
              "  'ci_bound': nan,\n",
              "  'std_dev': 0.0,\n",
              "  'std_err': nan},\n",
              " 15: {'feature_idx': (0, 1, 2, 3, 4, 5, 6, 7, 8, 9, 10, 11, 12, 13, 14),\n",
              "  'cv_scores': array([0.85612691]),\n",
              "  'avg_score': 0.8561269146608315,\n",
              "  'feature_names': ('male',\n",
              "   'age',\n",
              "   'education',\n",
              "   'currentSmoker',\n",
              "   'cigsPerDay',\n",
              "   'BPMeds',\n",
              "   'prevalentStroke',\n",
              "   'prevalentHyp',\n",
              "   'diabetes',\n",
              "   'totChol',\n",
              "   'sysBP',\n",
              "   'diaBP',\n",
              "   'BMI',\n",
              "   'heartRate',\n",
              "   'glucose'),\n",
              "  'ci_bound': nan,\n",
              "  'std_dev': 0.0,\n",
              "  'std_err': nan}}"
            ]
          },
          "metadata": {},
          "execution_count": 42
        }
      ]
    },
    {
      "cell_type": "code",
      "source": [
        "from mlxtend.plotting import plot_sequential_feature_selection as plot_sfs\n",
        "fig1 = plot_sfs(sfs1.get_metric_dict(confidence_interval=0.95), kind='std_err')\n",
        "\n",
        "plt.title('Sequential Forward Selection')\n",
        "plt.grid()\n",
        "plt.show()"
      ],
      "metadata": {
        "id": "LFE93qgQ4Zqj",
        "colab": {
          "base_uri": "https://localhost:8080/",
          "height": 295
        },
        "outputId": "cae46b5a-483b-4333-f3ca-a1ec7ccb5a94"
      },
      "execution_count": null,
      "outputs": [
        {
          "output_type": "display_data",
          "data": {
            "text/plain": [
              "<Figure size 432x288 with 1 Axes>"
            ],
            "image/png": "[encoded data removed]"
          },
          "metadata": {
            "needs_background": "light"
          }
        }
      ]
    },
    {
      "cell_type": "code",
      "source": [
        "# Get access the indices of the best features directly via the k_feature_idx_ attribute:\n",
        "sfs1.k_feature_names_, sfs1.k_feature_idx_"
      ],
      "metadata": {
        "id": "Lx8dWr4j4fj7",
        "colab": {
          "base_uri": "https://localhost:8080/"
        },
        "outputId": "3ed40660-fd5e-4232-ad31-a15e56c15399"
      },
      "execution_count": null,
      "outputs": [
        {
          "output_type": "execute_result",
          "data": {
            "text/plain": [
              "(('age',\n",
              "  'currentSmoker',\n",
              "  'cigsPerDay',\n",
              "  'BPMeds',\n",
              "  'prevalentStroke',\n",
              "  'prevalentHyp',\n",
              "  'sysBP',\n",
              "  'diaBP',\n",
              "  'BMI',\n",
              "  'heartRate',\n",
              "  'glucose'),\n",
              " (1, 3, 4, 5, 6, 7, 10, 11, 12, 13, 14))"
            ]
          },
          "metadata": {},
          "execution_count": 44
        }
      ]
    },
    {
      "cell_type": "code",
      "source": [
        "df = pd.DataFrame.from_dict(sfs1.get_metric_dict()).T\n",
        "df[[\"feature_idx\",\"avg_score\"]]"
      ],
      "metadata": {
        "id": "Rw_f3Cyv4flh",
        "colab": {
          "base_uri": "https://localhost:8080/",
          "height": 520
        },
        "outputId": "de27d676-14a5-46ad-8d35-8dd8b47ec930"
      },
      "execution_count": null,
      "outputs": [
        {
          "output_type": "execute_result",
          "data": {
            "text/plain": [
              "                                          feature_idx avg_score\n",
              "1                                               (14,)  0.849289\n",
              "2                                             (5, 14)  0.849836\n",
              "3                                          (3, 5, 14)  0.850109\n",
              "4                                       (3, 4, 5, 14)  0.850109\n",
              "5                                    (3, 4, 5, 6, 14)  0.850109\n",
              "6                                (3, 4, 5, 6, 11, 14)  0.850383\n",
              "7                             (1, 3, 4, 5, 6, 11, 14)  0.852024\n",
              "8                          (1, 3, 4, 5, 6, 7, 11, 14)  0.853665\n",
              "9                      (1, 3, 4, 5, 6, 7, 10, 11, 14)   0.85558\n",
              "10                 (1, 3, 4, 5, 6, 7, 10, 11, 13, 14)    0.8564\n",
              "11             (1, 3, 4, 5, 6, 7, 10, 11, 12, 13, 14)  0.856674\n",
              "12          (1, 3, 4, 5, 6, 7, 8, 10, 11, 12, 13, 14)    0.8564\n",
              "13       (1, 2, 3, 4, 5, 6, 7, 8, 10, 11, 12, 13, 14)    0.8564\n",
              "14    (0, 1, 2, 3, 4, 5, 6, 7, 8, 10, 11, 12, 13, 14)  0.855033\n",
              "15  (0, 1, 2, 3, 4, 5, 6, 7, 8, 9, 10, 11, 12, 13,...  0.856127"
            ],
            "text/html": [
              "\n",
              "  <div id=\"df-d8df3e3d-872b-4bce-ba78-41e1693a0c26\">\n",
              "    <div class=\"colab-df-container\">\n",
              "      <div>\n",
              "<style scoped>\n",
              "    .dataframe tbody tr th:only-of-type {\n",
              "        vertical-align: middle;\n",
              "    }\n",
              "\n",
              "    .dataframe tbody tr th {\n",
              "        vertical-align: top;\n",
              "    }\n",
              "\n",
              "    .dataframe thead th {\n",
              "        text-align: right;\n",
              "    }\n",
              "</style>\n",
              "<table border=\"1\" class=\"dataframe\">\n",
              "  <thead>\n",
              "    <tr style=\"text-align: right;\">\n",
              "      <th></th>\n",
              "      <th>feature_idx</th>\n",
              "      <th>avg_score</th>\n",
              "    </tr>\n",
              "  </thead>\n",
              "  <tbody>\n",
              "    <tr>\n",
              "      <th>1</th>\n",
              "      <td>(14,)</td>\n",
              "      <td>0.849289</td>\n",
              "    </tr>\n",
              "    <tr>\n",
              "      <th>2</th>\n",
              "      <td>(5, 14)</td>\n",
              "      <td>0.849836</td>\n",
              "    </tr>\n",
              "    <tr>\n",
              "      <th>3</th>\n",
              "      <td>(3, 5, 14)</td>\n",
              "      <td>0.850109</td>\n",
              "    </tr>\n",
              "    <tr>\n",
              "      <th>4</th>\n",
              "      <td>(3, 4, 5, 14)</td>\n",
              "      <td>0.850109</td>\n",
              "    </tr>\n",
              "    <tr>\n",
              "      <th>5</th>\n",
              "      <td>(3, 4, 5, 6, 14)</td>\n",
              "      <td>0.850109</td>\n",
              "    </tr>\n",
              "    <tr>\n",
              "      <th>6</th>\n",
              "      <td>(3, 4, 5, 6, 11, 14)</td>\n",
              "      <td>0.850383</td>\n",
              "    </tr>\n",
              "    <tr>\n",
              "      <th>7</th>\n",
              "      <td>(1, 3, 4, 5, 6, 11, 14)</td>\n",
              "      <td>0.852024</td>\n",
              "    </tr>\n",
              "    <tr>\n",
              "      <th>8</th>\n",
              "      <td>(1, 3, 4, 5, 6, 7, 11, 14)</td>\n",
              "      <td>0.853665</td>\n",
              "    </tr>\n",
              "    <tr>\n",
              "      <th>9</th>\n",
              "      <td>(1, 3, 4, 5, 6, 7, 10, 11, 14)</td>\n",
              "      <td>0.85558</td>\n",
              "    </tr>\n",
              "    <tr>\n",
              "      <th>10</th>\n",
              "      <td>(1, 3, 4, 5, 6, 7, 10, 11, 13, 14)</td>\n",
              "      <td>0.8564</td>\n",
              "    </tr>\n",
              "    <tr>\n",
              "      <th>11</th>\n",
              "      <td>(1, 3, 4, 5, 6, 7, 10, 11, 12, 13, 14)</td>\n",
              "      <td>0.856674</td>\n",
              "    </tr>\n",
              "    <tr>\n",
              "      <th>12</th>\n",
              "      <td>(1, 3, 4, 5, 6, 7, 8, 10, 11, 12, 13, 14)</td>\n",
              "      <td>0.8564</td>\n",
              "    </tr>\n",
              "    <tr>\n",
              "      <th>13</th>\n",
              "      <td>(1, 2, 3, 4, 5, 6, 7, 8, 10, 11, 12, 13, 14)</td>\n",
              "      <td>0.8564</td>\n",
              "    </tr>\n",
              "    <tr>\n",
              "      <th>14</th>\n",
              "      <td>(0, 1, 2, 3, 4, 5, 6, 7, 8, 10, 11, 12, 13, 14)</td>\n",
              "      <td>0.855033</td>\n",
              "    </tr>\n",
              "    <tr>\n",
              "      <th>15</th>\n",
              "      <td>(0, 1, 2, 3, 4, 5, 6, 7, 8, 9, 10, 11, 12, 13,...</td>\n",
              "      <td>0.856127</td>\n",
              "    </tr>\n",
              "  </tbody>\n",
              "</table>\n",
              "</div>\n",
              "      <button class=\"colab-df-convert\" onclick=\"convertToInteractive('df-d8df3e3d-872b-4bce-ba78-41e1693a0c26')\"\n",
              "              title=\"Convert this dataframe to an interactive table.\"\n",
              "              style=\"display:none;\">\n",
              "        \n",
              "  <svg xmlns=\"http://www.w3.org/2000/svg\" height=\"24px\"viewBox=\"0 0 24 24\"\n",
              "       width=\"24px\">\n",
              "    <path d=\"M0 0h24v24H0V0z\" fill=\"none\"/>\n",
              "    <path d=\"M18.56 5.44l.94 2.06.94-2.06 2.06-.94-2.06-.94-.94-2.06-.94 2.06-2.06.94zm-11 1L8.5 8.5l.94-2.06 2.06-.94-2.06-.94L8.5 2.5l-.94 2.06-2.06.94zm10 10l.94 2.06.94-2.06 2.06-.94-2.06-.94-.94-2.06-.94 2.06-2.06.94z\"/><path d=\"M17.41 7.96l-1.37-1.37c-.4-.4-.92-.59-1.43-.59-.52 0-1.04.2-1.43.59L10.3 9.45l-7.72 7.72c-.78.78-.78 2.05 0 2.83L4 21.41c.39.39.9.59 1.41.59.51 0 1.02-.2 1.41-.59l7.78-7.78 2.81-2.81c.8-.78.8-2.07 0-2.86zM5.41 20L4 18.59l7.72-7.72 1.47 1.35L5.41 20z\"/>\n",
              "  </svg>\n",
              "      </button>\n",
              "      \n",
              "  <style>\n",
              "    .colab-df-container {\n",
              "      display:flex;\n",
              "      flex-wrap:wrap;\n",
              "      gap: 12px;\n",
              "    }\n",
              "\n",
              "    .colab-df-convert {\n",
              "      background-color: #E8F0FE;\n",
              "      border: none;\n",
              "      border-radius: 50%;\n",
              "      cursor: pointer;\n",
              "      display: none;\n",
              "      fill: #1967D2;\n",
              "      height: 32px;\n",
              "      padding: 0 0 0 0;\n",
              "      width: 32px;\n",
              "    }\n",
              "\n",
              "    .colab-df-convert:hover {\n",
              "      background-color: #E2EBFA;\n",
              "      box-shadow: 0px 1px 2px rgba(60, 64, 67, 0.3), 0px 1px 3px 1px rgba(60, 64, 67, 0.15);\n",
              "      fill: #174EA6;\n",
              "    }\n",
              "\n",
              "    [theme=dark] .colab-df-convert {\n",
              "      background-color: #3B4455;\n",
              "      fill: #D2E3FC;\n",
              "    }\n",
              "\n",
              "    [theme=dark] .colab-df-convert:hover {\n",
              "      background-color: #434B5C;\n",
              "      box-shadow: 0px 1px 3px 1px rgba(0, 0, 0, 0.15);\n",
              "      filter: drop-shadow(0px 1px 2px rgba(0, 0, 0, 0.3));\n",
              "      fill: #FFFFFF;\n",
              "    }\n",
              "  </style>\n",
              "\n",
              "      <script>\n",
              "        const buttonEl =\n",
              "          document.querySelector('#df-d8df3e3d-872b-4bce-ba78-41e1693a0c26 button.colab-df-convert');\n",
              "        buttonEl.style.display =\n",
              "          google.colab.kernel.accessAllowed ? 'block' : 'none';\n",
              "\n",
              "        async function convertToInteractive(key) {\n",
              "          const element = document.querySelector('#df-d8df3e3d-872b-4bce-ba78-41e1693a0c26');\n",
              "          const dataTable =\n",
              "            await google.colab.kernel.invokeFunction('convertToInteractive',\n",
              "                                                     [key], {});\n",
              "          if (!dataTable) return;\n",
              "\n",
              "          const docLinkHtml = 'Like what you see? Visit the ' +\n",
              "            '<a target=\"_blank\" href=https://colab.research.google.com/notebooks/data_table.ipynb>data table notebook</a>'\n",
              "            + ' to learn more about interactive tables.';\n",
              "          element.innerHTML = '';\n",
              "          dataTable['output_type'] = 'display_data';\n",
              "          await google.colab.output.renderOutput(dataTable, element);\n",
              "          const docLink = document.createElement('div');\n",
              "          docLink.innerHTML = docLinkHtml;\n",
              "          element.appendChild(docLink);\n",
              "        }\n",
              "      </script>\n",
              "    </div>\n",
              "  </div>\n",
              "  "
            ]
          },
          "metadata": {},
          "execution_count": 45
        }
      ]
    },
    {
      "cell_type": "code",
      "source": [
        "data2=dataset[['age','education','currentSmoker','cigsPerDay',\n",
        "  'prevalentStroke',\n",
        "  'prevalentHyp',\n",
        "  'sysBP',\n",
        "  'BMI',\n",
        "  'heartRate',\n",
        "  'glucose','TenYearCHD']]\n",
        "data2.head()"
      ],
      "metadata": {
        "id": "ZW26XSSy4kNx",
        "colab": {
          "base_uri": "https://localhost:8080/",
          "height": 206
        },
        "outputId": "92bdffe1-c905-4fa3-dabb-34d29af4762a"
      },
      "execution_count": null,
      "outputs": [
        {
          "output_type": "execute_result",
          "data": {
            "text/plain": [
              "   age  education  currentSmoker  cigsPerDay  prevalentStroke  prevalentHyp  \\\n",
              "0   39        4.0              0         0.0                0             0   \n",
              "1   46        2.0              0         0.0                0             0   \n",
              "2   48        1.0              1        20.0                0             0   \n",
              "3   61        3.0              1        30.0                0             1   \n",
              "4   46        3.0              1        23.0                0             0   \n",
              "\n",
              "   sysBP    BMI  heartRate  glucose  TenYearCHD  \n",
              "0  106.0  26.97       80.0     77.0           0  \n",
              "1  121.0  28.73       95.0     76.0           0  \n",
              "2  127.5  25.34       75.0     70.0           0  \n",
              "3  150.0  28.58       65.0    103.0           1  \n",
              "4  130.0  23.10       85.0     85.0           0  "
            ],
            "text/html": [
              "\n",
              "  <div id=\"df-bbeac50e-57b2-49c0-b188-8db1bf006de0\">\n",
              "    <div class=\"colab-df-container\">\n",
              "      <div>\n",
              "<style scoped>\n",
              "    .dataframe tbody tr th:only-of-type {\n",
              "        vertical-align: middle;\n",
              "    }\n",
              "\n",
              "    .dataframe tbody tr th {\n",
              "        vertical-align: top;\n",
              "    }\n",
              "\n",
              "    .dataframe thead th {\n",
              "        text-align: right;\n",
              "    }\n",
              "</style>\n",
              "<table border=\"1\" class=\"dataframe\">\n",
              "  <thead>\n",
              "    <tr style=\"text-align: right;\">\n",
              "      <th></th>\n",
              "      <th>age</th>\n",
              "      <th>education</th>\n",
              "      <th>currentSmoker</th>\n",
              "      <th>cigsPerDay</th>\n",
              "      <th>prevalentStroke</th>\n",
              "      <th>prevalentHyp</th>\n",
              "      <th>sysBP</th>\n",
              "      <th>BMI</th>\n",
              "      <th>heartRate</th>\n",
              "      <th>glucose</th>\n",
              "      <th>TenYearCHD</th>\n",
              "    </tr>\n",
              "  </thead>\n",
              "  <tbody>\n",
              "    <tr>\n",
              "      <th>0</th>\n",
              "      <td>39</td>\n",
              "      <td>4.0</td>\n",
              "      <td>0</td>\n",
              "      <td>0.0</td>\n",
              "      <td>0</td>\n",
              "      <td>0</td>\n",
              "      <td>106.0</td>\n",
              "      <td>26.97</td>\n",
              "      <td>80.0</td>\n",
              "      <td>77.0</td>\n",
              "      <td>0</td>\n",
              "    </tr>\n",
              "    <tr>\n",
              "      <th>1</th>\n",
              "      <td>46</td>\n",
              "      <td>2.0</td>\n",
              "      <td>0</td>\n",
              "      <td>0.0</td>\n",
              "      <td>0</td>\n",
              "      <td>0</td>\n",
              "      <td>121.0</td>\n",
              "      <td>28.73</td>\n",
              "      <td>95.0</td>\n",
              "      <td>76.0</td>\n",
              "      <td>0</td>\n",
              "    </tr>\n",
              "    <tr>\n",
              "      <th>2</th>\n",
              "      <td>48</td>\n",
              "      <td>1.0</td>\n",
              "      <td>1</td>\n",
              "      <td>20.0</td>\n",
              "      <td>0</td>\n",
              "      <td>0</td>\n",
              "      <td>127.5</td>\n",
              "      <td>25.34</td>\n",
              "      <td>75.0</td>\n",
              "      <td>70.0</td>\n",
              "      <td>0</td>\n",
              "    </tr>\n",
              "    <tr>\n",
              "      <th>3</th>\n",
              "      <td>61</td>\n",
              "      <td>3.0</td>\n",
              "      <td>1</td>\n",
              "      <td>30.0</td>\n",
              "      <td>0</td>\n",
              "      <td>1</td>\n",
              "      <td>150.0</td>\n",
              "      <td>28.58</td>\n",
              "      <td>65.0</td>\n",
              "      <td>103.0</td>\n",
              "      <td>1</td>\n",
              "    </tr>\n",
              "    <tr>\n",
              "      <th>4</th>\n",
              "      <td>46</td>\n",
              "      <td>3.0</td>\n",
              "      <td>1</td>\n",
              "      <td>23.0</td>\n",
              "      <td>0</td>\n",
              "      <td>0</td>\n",
              "      <td>130.0</td>\n",
              "      <td>23.10</td>\n",
              "      <td>85.0</td>\n",
              "      <td>85.0</td>\n",
              "      <td>0</td>\n",
              "    </tr>\n",
              "  </tbody>\n",
              "</table>\n",
              "</div>\n",
              "      <button class=\"colab-df-convert\" onclick=\"convertToInteractive('df-bbeac50e-57b2-49c0-b188-8db1bf006de0')\"\n",
              "              title=\"Convert this dataframe to an interactive table.\"\n",
              "              style=\"display:none;\">\n",
              "        \n",
              "  <svg xmlns=\"http://www.w3.org/2000/svg\" height=\"24px\"viewBox=\"0 0 24 24\"\n",
              "       width=\"24px\">\n",
              "    <path d=\"M0 0h24v24H0V0z\" fill=\"none\"/>\n",
              "    <path d=\"M18.56 5.44l.94 2.06.94-2.06 2.06-.94-2.06-.94-.94-2.06-.94 2.06-2.06.94zm-11 1L8.5 8.5l.94-2.06 2.06-.94-2.06-.94L8.5 2.5l-.94 2.06-2.06.94zm10 10l.94 2.06.94-2.06 2.06-.94-2.06-.94-.94-2.06-.94 2.06-2.06.94z\"/><path d=\"M17.41 7.96l-1.37-1.37c-.4-.4-.92-.59-1.43-.59-.52 0-1.04.2-1.43.59L10.3 9.45l-7.72 7.72c-.78.78-.78 2.05 0 2.83L4 21.41c.39.39.9.59 1.41.59.51 0 1.02-.2 1.41-.59l7.78-7.78 2.81-2.81c.8-.78.8-2.07 0-2.86zM5.41 20L4 18.59l7.72-7.72 1.47 1.35L5.41 20z\"/>\n",
              "  </svg>\n",
              "      </button>\n",
              "      \n",
              "  <style>\n",
              "    .colab-df-container {\n",
              "      display:flex;\n",
              "      flex-wrap:wrap;\n",
              "      gap: 12px;\n",
              "    }\n",
              "\n",
              "    .colab-df-convert {\n",
              "      background-color: #E8F0FE;\n",
              "      border: none;\n",
              "      border-radius: 50%;\n",
              "      cursor: pointer;\n",
              "      display: none;\n",
              "      fill: #1967D2;\n",
              "      height: 32px;\n",
              "      padding: 0 0 0 0;\n",
              "      width: 32px;\n",
              "    }\n",
              "\n",
              "    .colab-df-convert:hover {\n",
              "      background-color: #E2EBFA;\n",
              "      box-shadow: 0px 1px 2px rgba(60, 64, 67, 0.3), 0px 1px 3px 1px rgba(60, 64, 67, 0.15);\n",
              "      fill: #174EA6;\n",
              "    }\n",
              "\n",
              "    [theme=dark] .colab-df-convert {\n",
              "      background-color: #3B4455;\n",
              "      fill: #D2E3FC;\n",
              "    }\n",
              "\n",
              "    [theme=dark] .colab-df-convert:hover {\n",
              "      background-color: #434B5C;\n",
              "      box-shadow: 0px 1px 3px 1px rgba(0, 0, 0, 0.15);\n",
              "      filter: drop-shadow(0px 1px 2px rgba(0, 0, 0, 0.3));\n",
              "      fill: #FFFFFF;\n",
              "    }\n",
              "  </style>\n",
              "\n",
              "      <script>\n",
              "        const buttonEl =\n",
              "          document.querySelector('#df-bbeac50e-57b2-49c0-b188-8db1bf006de0 button.colab-df-convert');\n",
              "        buttonEl.style.display =\n",
              "          google.colab.kernel.accessAllowed ? 'block' : 'none';\n",
              "\n",
              "        async function convertToInteractive(key) {\n",
              "          const element = document.querySelector('#df-bbeac50e-57b2-49c0-b188-8db1bf006de0');\n",
              "          const dataTable =\n",
              "            await google.colab.kernel.invokeFunction('convertToInteractive',\n",
              "                                                     [key], {});\n",
              "          if (!dataTable) return;\n",
              "\n",
              "          const docLinkHtml = 'Like what you see? Visit the ' +\n",
              "            '<a target=\"_blank\" href=https://colab.research.google.com/notebooks/data_table.ipynb>data table notebook</a>'\n",
              "            + ' to learn more about interactive tables.';\n",
              "          element.innerHTML = '';\n",
              "          dataTable['output_type'] = 'display_data';\n",
              "          await google.colab.output.renderOutput(dataTable, element);\n",
              "          const docLink = document.createElement('div');\n",
              "          docLink.innerHTML = docLinkHtml;\n",
              "          element.appendChild(docLink);\n",
              "        }\n",
              "      </script>\n",
              "    </div>\n",
              "  </div>\n",
              "  "
            ]
          },
          "metadata": {},
          "execution_count": 46
        }
      ]
    },
    {
      "cell_type": "code",
      "source": [
        "Y2 = data2['TenYearCHD']\n",
        "X2 = data2.drop(['TenYearCHD'], axis=1)\n",
        "\n",
        "from imblearn.over_sampling import SMOTE\n",
        "# Perform SMOTE oversampling\n",
        "smote = SMOTE()\n",
        "X_resampled, y_resampled = smote.fit_resample(X2, Y2)\n",
        "\n",
        "# Split the dataset into training and testing sets\n",
        "train_x2, test_x2, train_y2, test_y2 = train_test_split(X_resampled, y_resampled, test_size=0.2, random_state=42)"
      ],
      "metadata": {
        "id": "GTNzwiDu4kPf"
      },
      "execution_count": null,
      "outputs": []
    },
    {
      "cell_type": "code",
      "source": [
        "from sklearn.preprocessing import MinMaxScaler\n",
        "scaler = MinMaxScaler()\n",
        "train_x2 = scaler.fit_transform(train_x2)\n",
        "test_x2 = scaler.transform(test_x2)"
      ],
      "metadata": {
        "id": "mg-P7pLv4piR"
      },
      "execution_count": null,
      "outputs": []
    },
    {
      "cell_type": "markdown",
      "source": [
        "**Classification Algorithms**"
      ],
      "metadata": {
        "id": "9br_EPTokD0w"
      }
    },
    {
      "cell_type": "markdown",
      "source": [
        "**Extra Trees Classifier**"
      ],
      "metadata": {
        "id": "8e2NbfLOjKGX"
      }
    },
    {
      "cell_type": "code",
      "source": [
        "# Train the Extra Trees Classifier on the training data\n",
        "from sklearn.ensemble import ExtraTreesClassifier\n",
        "clf1 = ExtraTreesClassifier(n_estimators=100, random_state=42)\n",
        "clf1.fit(train_x2, train_y2)\n",
        "\n",
        "# Predict on the test data\n",
        "y_pred1 = clf1.predict(test_x2)\n",
        "\n",
        "from sklearn.metrics import accuracy_score\n",
        "# Calculate the accuracy of the model\n",
        "acc1 = accuracy_score(test_y2, y_pred1)\n",
        "print('Accuracy:', acc1)\n",
        "\n",
        "# Calculate the precision, recall, and F1-score\n",
        "from sklearn.metrics import accuracy_score, precision_score, recall_score, f1_score\n",
        "precision1 = precision_score(test_y2, y_pred1)\n",
        "recall1 = recall_score(test_y2, y_pred1)\n",
        "f1_1 = f1_score(test_y2, y_pred1)\n",
        "\n",
        "# Print the results\n",
        "print(\"Precision:\", precision1)\n",
        "print(\"Recall:\", recall1)\n",
        "print(\"F1-score:\", f1_1)\n",
        "\n",
        "conf_mat1 = confusion_matrix(test_y2, y_pred1)\n",
        "print('Confusion Matrix: \\n', conf_mat1)\n",
        "\n",
        "#Plotting the confusion matrix\n",
        "conf_matrix1 = pd.DataFrame(data = conf_mat1,\n",
        "                           columns = ['Predicted:0', 'Predicted:1'],\n",
        "                           index =['Actual:0', 'Actual:1'])\n",
        "plt.figure(figsize = (10, 6))\n",
        "sns.heatmap(conf_matrix1, annot = True, fmt = 'd', cmap = \"Greens\", linecolor=\"Blue\", linewidths=1.5)\n",
        "plt.show()\n",
        "\n"
      ],
      "metadata": {
        "colab": {
          "base_uri": "https://localhost:8080/",
          "height": 496
        },
        "id": "lDCmqsD_S0EK",
        "outputId": "94ac2c5a-1970-402d-f595-5abbc2d8dc0f"
      },
      "execution_count": null,
      "outputs": [
        {
          "output_type": "stream",
          "name": "stdout",
          "text": [
            "Accuracy: 0.9064516129032258\n",
            "Precision: 0.9150326797385621\n",
            "Recall: 0.8974358974358975\n",
            "F1-score: 0.9061488673139159\n",
            "Confusion Matrix: \n",
            " [[564  52]\n",
            " [ 64 560]]\n"
          ]
        },
        {
          "output_type": "display_data",
          "data": {
            "text/plain": [
              "<Figure size 720x432 with 2 Axes>"
            ],
            "image/png": "[encoded data removed]"
          },
          "metadata": {
            "needs_background": "light"
          }
        }
      ]
    },
    {
      "cell_type": "markdown",
      "source": [
        "**Bagging Classifier**"
      ],
      "metadata": {
        "id": "olYTuRE1jGRJ"
      }
    },
    {
      "cell_type": "code",
      "source": [
        "from sklearn.ensemble import BaggingClassifier\n",
        "from sklearn.tree import DecisionTreeClassifier\n",
        "from sklearn.model_selection import train_test_split\n",
        "from sklearn.metrics import accuracy_score, precision_score, recall_score, f1_score\n",
        "\n",
        "# Define the base estimator\n",
        "base_estimator = DecisionTreeClassifier(max_depth=4)\n",
        "\n",
        "# Define the Bagging Classifier\n",
        "bagging_clf = BaggingClassifier(base_estimator=base_estimator, n_estimators=50, random_state=42)\n",
        "\n",
        "# Fit the Bagging Classifier to the training data\n",
        "bagging_clf.fit(train_x2, train_y2)\n",
        "\n",
        "# Predict the target on the test data\n",
        "y_pred2 = bagging_clf.predict(test_x2)\n",
        "\n",
        "# Calculate the accuracy, precision, recall, and F1-score\n",
        "accuracy2 = accuracy_score(test_y2, y_pred2)\n",
        "precision2 = precision_score(test_y2, y_pred2)\n",
        "recall2 = recall_score(test_y2, y_pred2)\n",
        "f1_2 = f1_score(test_y2, y_pred2)\n",
        "\n",
        "# Print the results\n",
        "print(\"Accuracy:\", accuracy2)\n",
        "print(\"Precision:\", precision2)\n",
        "print(\"Recall:\", recall2)\n",
        "print(\"F1-score:\", f1_2)\n",
        "\n",
        "conf_mat2 = confusion_matrix(test_y2, y_pred2)\n",
        "print('Confusion Matrix: \\n', conf_mat2)\n",
        "\n",
        "#Plotting the confusion matrix\n",
        "conf_matrix2 = pd.DataFrame(data = conf_mat2,\n",
        "                           columns = ['Predicted:0', 'Predicted:1'],\n",
        "                           index =['Actual:0', 'Actual:1'])\n",
        "plt.figure(figsize = (10, 6))\n",
        "sns.heatmap(conf_matrix2, annot = True, fmt = 'd', cmap = \"Greens\", linecolor=\"Blue\", linewidths=1.5)\n",
        "plt.show()\n",
        "\n"
      ],
      "metadata": {
        "colab": {
          "base_uri": "https://localhost:8080/",
          "height": 550
        },
        "id": "Ff8FilzJTS03",
        "outputId": "56f9ac35-ac45-4b5e-9f1e-be9092725097"
      },
      "execution_count": null,
      "outputs": [
        {
          "output_type": "stream",
          "name": "stderr",
          "text": [
            "/usr/local/lib/python3.9/dist-packages/sklearn/ensemble/_base.py:166: FutureWarning: `base_estimator` was renamed to `estimator` in version 1.2 and will be removed in 1.4.\n",
            "  warnings.warn(\n"
          ]
        },
        {
          "output_type": "stream",
          "name": "stdout",
          "text": [
            "Accuracy: 0.7290322580645161\n",
            "Precision: 0.7136498516320475\n",
            "Recall: 0.7708333333333334\n",
            "F1-score: 0.741140215716487\n",
            "Confusion Matrix: \n",
            " [[423 193]\n",
            " [143 481]]\n"
          ]
        },
        {
          "output_type": "display_data",
          "data": {
            "text/plain": [
              "<Figure size 720x432 with 2 Axes>"
            ],
            "image/png": "[encoded data removed]"
          },
          "metadata": {
            "needs_background": "light"
          }
        }
      ]
    },
    {
      "cell_type": "markdown",
      "source": [
        "**CNN**"
      ],
      "metadata": {
        "id": "naR9zgb2jD5V"
      }
    },
    {
      "cell_type": "code",
      "source": [
        "model3 = keras.Sequential([\n",
        "    #keras.layers.Flatten(input_shape =(13,)),\n",
        "    keras.layers.Dense(60, activation = 'relu', input_shape= (10,)),\n",
        "    keras.layers.Dense(50, activation = 'relu'),\n",
        "    keras.layers.Dense(50, activation = 'relu'),\n",
        "    keras.layers.Dense(40, activation = 'relu'),\n",
        "    keras.layers.Dense(40, activation = 'relu'),\n",
        "    keras.layers.Dense(30, activation = 'relu'),\n",
        "    keras.layers.Dense(2,activation = 'sigmoid' )\n",
        "])\n",
        "\n",
        "#compiling the network\n",
        "\n",
        "model3.compile(\n",
        "        optimizer = 'adam',\n",
        "        loss = 'sparse_categorical_crossentropy',\n",
        "        metrics = ['accuracy']\n",
        ")\n",
        "\n",
        "#training the neural network\n",
        "history = model3.fit(train_x2, train_y2, validation_split=0.2, epochs = 10)\n",
        "\n",
        "#Visualizing Accuracy and Losses\n",
        "plt.plot(history.history['accuracy'])\n",
        "plt.plot(history.history['val_accuracy'])\n",
        "\n",
        "plt.title('Model Accuracy')\n",
        "plt.ylabel('accuracy')\n",
        "plt.xlabel('epochs')\n",
        "\n",
        "plt.legend(['Training Data', 'validation Data'], loc= 'lower right')\n",
        "\n",
        "plt.plot(history.history['loss'])\n",
        "plt.plot(history.history['val_loss'])\n",
        "\n",
        "plt.title('Model Loss graph')\n",
        "plt.ylabel('Loss')\n",
        "plt.xlabel('Epochs')\n",
        "\n",
        "plt.legend(['Training Data', 'validation Data'], loc= 'upper right')\n",
        "\n",
        "#model evaluation\n",
        "loss, accuracy3 = model3.evaluate(test_x2, test_y2)\n",
        "print(accuracy3)\n",
        "\n",
        "from sklearn.metrics import classification_report, confusion_matrix\n",
        "# Predict labels for test set\n",
        "y_pred3 = model3.predict(test_x2)\n",
        "y_pred3 = np.argmax(y_pred3, axis=1)\n",
        "\n",
        "# Calculate precision, recall, F1 score, and support\n",
        "target_names = ['class 0', 'class 1']\n",
        "print(classification_report(test_y2, y_pred3, target_names=target_names))\n",
        "\n",
        "# Calculate confusion matrix\n",
        "print(confusion_matrix(test_y2, y_pred3))\n",
        "\n"
      ],
      "metadata": {
        "colab": {
          "base_uri": "https://localhost:8080/",
          "height": 885
        },
        "id": "O0l7U5VwToLK",
        "outputId": "ce9e6063-4746-4f77-9bc9-391c5e78218d"
      },
      "execution_count": null,
      "outputs": [
        {
          "output_type": "stream",
          "name": "stdout",
          "text": [
            "Epoch 1/10\n",
            "124/124 [==============================] - 2s 6ms/step - loss: 0.6663 - accuracy: 0.5877 - val_loss: 0.6049 - val_accuracy: 0.6825\n",
            "Epoch 2/10\n",
            "124/124 [==============================] - 0s 3ms/step - loss: 0.5996 - accuracy: 0.6828 - val_loss: 0.5668 - val_accuracy: 0.7107\n",
            "Epoch 3/10\n",
            "124/124 [==============================] - 0s 3ms/step - loss: 0.5886 - accuracy: 0.6921 - val_loss: 0.5834 - val_accuracy: 0.6875\n",
            "Epoch 4/10\n",
            "124/124 [==============================] - 0s 3ms/step - loss: 0.5792 - accuracy: 0.7032 - val_loss: 0.5857 - val_accuracy: 0.6865\n",
            "Epoch 5/10\n",
            "124/124 [==============================] - 0s 3ms/step - loss: 0.5693 - accuracy: 0.7103 - val_loss: 0.5594 - val_accuracy: 0.7117\n",
            "Epoch 6/10\n",
            "124/124 [==============================] - 0s 4ms/step - loss: 0.5677 - accuracy: 0.7173 - val_loss: 0.5648 - val_accuracy: 0.7117\n",
            "Epoch 7/10\n",
            "124/124 [==============================] - 0s 3ms/step - loss: 0.5620 - accuracy: 0.7186 - val_loss: 0.5987 - val_accuracy: 0.6724\n",
            "Epoch 8/10\n",
            "124/124 [==============================] - 0s 3ms/step - loss: 0.5625 - accuracy: 0.7189 - val_loss: 0.5610 - val_accuracy: 0.7026\n",
            "Epoch 9/10\n",
            "124/124 [==============================] - 0s 3ms/step - loss: 0.5556 - accuracy: 0.7234 - val_loss: 0.5469 - val_accuracy: 0.7127\n",
            "Epoch 10/10\n",
            "124/124 [==============================] - 0s 4ms/step - loss: 0.5546 - accuracy: 0.7221 - val_loss: 0.5420 - val_accuracy: 0.7198\n",
            "39/39 [==============================] - 1s 5ms/step - loss: 0.5776 - accuracy: 0.7008\n",
            "0.7008064389228821\n",
            "39/39 [==============================] - 1s 4ms/step\n",
            "              precision    recall  f1-score   support\n",
            "\n",
            "     class 0       0.71      0.67      0.69       616\n",
            "     class 1       0.69      0.73      0.71       624\n",
            "\n",
            "    accuracy                           0.70      1240\n",
            "   macro avg       0.70      0.70      0.70      1240\n",
            "weighted avg       0.70      0.70      0.70      1240\n",
            "\n",
            "[[411 205]\n",
            " [166 458]]\n"
          ]
        },
        {
          "output_type": "display_data",
          "data": {
            "text/plain": [
              "<Figure size 432x288 with 1 Axes>"
            ],
            "image/png": "[encoded data removed]"
          },
          "metadata": {
            "needs_background": "light"
          }
        }
      ]
    },
    {
      "cell_type": "markdown",
      "source": [
        "**Logistic Regression**"
      ],
      "metadata": {
        "id": "QZvZzOxLi-ue"
      }
    },
    {
      "cell_type": "code",
      "source": [
        "# Train the logistic regression model\n",
        "from sklearn.linear_model import LogisticRegression\n",
        "model4 = LogisticRegression()\n",
        "model4.fit(train_x2, train_y2) #Training the data\n",
        "\n",
        "from sklearn.metrics import accuracy_score\n",
        "# Evaluate the model on the training set\n",
        "train_preds4 = model4.predict(train_x2)\n",
        "train_acc4 = accuracy_score(train_y2, train_preds4)\n",
        "\n",
        "# Evaluate the model on the testing set\n",
        "test_preds4 = model4.predict(test_x2)\n",
        "test_acc4 = accuracy_score(test_y2, test_preds4)\n",
        "\n",
        "# Print the training and testing accuracies\n",
        "print(\"Training accuracy:\", train_acc4)\n",
        "print(\"Testing accuracy:\", test_acc4)\n",
        "\n",
        "# Make predictions on the testing data\n",
        "y_pred4 = model4.predict(test_x2)\n",
        "\n",
        "# Evaluate the model's performance\n",
        "from sklearn.metrics import accuracy_score\n",
        "conf_mat4 = confusion_matrix(test_y2, y_pred4)\n",
        "acc4 = accuracy_score(test_y2, y_pred4)\n",
        "print('Confusion Matrix: \\n', conf_mat4)\n",
        "print('Accuracy: ', acc4)\n",
        "\n",
        "# Calculate the precision, recall, and F1-score\n",
        "from sklearn.metrics import accuracy_score, precision_score, recall_score, f1_score\n",
        "precision4 = precision_score(test_y2, y_pred4)\n",
        "recall4 = recall_score(test_y2, y_pred4)\n",
        "f1_4 = f1_score(test_y2, y_pred4)\n",
        "\n",
        "# Print the results\n",
        "print(\"Precision:\", precision4)\n",
        "print(\"Recall:\", recall4)\n",
        "print(\"F1-score:\", f1_4)\n",
        "\n",
        "from sklearn.metrics import confusion_matrix, classification_report\n",
        "print(\"Classification Report is:\\n\\n\",classification_report(test_y2,y_pred4))  #classification report\n",
        "\n",
        "#Plotting the confusion matrix\n",
        "conf_matrix4 = pd.DataFrame(data = conf_mat4,\n",
        "                           columns = ['Predicted:0', 'Predicted:1'],\n",
        "                           index =['Actual:0', 'Actual:1'])\n",
        "plt.figure(figsize = (10, 6))\n",
        "sns.heatmap(conf_matrix4, annot = True, fmt = 'd', cmap = \"Greens\", linecolor=\"Blue\", linewidths=1.5)\n",
        "plt.show()\n"
      ],
      "metadata": {
        "colab": {
          "base_uri": "https://localhost:8080/",
          "height": 721
        },
        "id": "-v2uyIEpT4uE",
        "outputId": "07888fe0-32a6-454a-d985-2df3864124ba"
      },
      "execution_count": null,
      "outputs": [
        {
          "output_type": "stream",
          "name": "stdout",
          "text": [
            "Training accuracy: 0.681726502622025\n",
            "Testing accuracy: 0.675\n",
            "Confusion Matrix: \n",
            " [[419 197]\n",
            " [206 418]]\n",
            "Accuracy:  0.675\n",
            "Precision: 0.6796747967479675\n",
            "Recall: 0.6698717948717948\n",
            "F1-score: 0.6747376916868443\n",
            "Classification Report is:\n",
            "\n",
            "               precision    recall  f1-score   support\n",
            "\n",
            "           0       0.67      0.68      0.68       616\n",
            "           1       0.68      0.67      0.67       624\n",
            "\n",
            "    accuracy                           0.68      1240\n",
            "   macro avg       0.68      0.68      0.67      1240\n",
            "weighted avg       0.68      0.68      0.67      1240\n",
            "\n"
          ]
        },
        {
          "output_type": "display_data",
          "data": {
            "text/plain": [
              "<Figure size 720x432 with 2 Axes>"
            ],
            "image/png": "[encoded data removed]"
          },
          "metadata": {
            "needs_background": "light"
          }
        }
      ]
    },
    {
      "cell_type": "markdown",
      "source": [
        "**Decision Tree**"
      ],
      "metadata": {
        "id": "ygz8BpfsjStg"
      }
    },
    {
      "cell_type": "code",
      "source": [
        "m5 = 'DecisionTreeClassifier'\n",
        "dt = DecisionTreeClassifier(criterion = 'entropy',random_state=0,max_depth = 30)\n",
        "dt.fit(train_x2,train_y2)\n",
        "dt_predicted = dt.predict(test_x2)\n",
        "dt_conf_matrix = confusion_matrix(test_y2, dt_predicted)\n",
        "dt_acc_score = accuracy_score(test_y2, dt_predicted)\n",
        "print(\"confussion matrix\")\n",
        "print(dt_conf_matrix)\n",
        "print(\"\\n\")\n",
        "print(\"Accuracy of DecisionTreeClassifier:\",dt_acc_score*100,'\\n')\n",
        "print(classification_report(test_y2,dt_predicted))\n",
        "\n",
        "# Calculate the precision, recall, and F1-score\n",
        "from sklearn.metrics import accuracy_score, precision_score, recall_score, f1_score\n",
        "precision5 = precision_score(test_y2, dt_predicted)\n",
        "recall5 = recall_score(test_y2, dt_predicted)\n",
        "f1_5 = f1_score(test_y2, dt_predicted)\n",
        "\n",
        "# Print the results\n",
        "print(\"Precision:\", precision5)\n",
        "print(\"Recall:\", recall5)\n",
        "print(\"F1-score:\", f1_5)"
      ],
      "metadata": {
        "colab": {
          "base_uri": "https://localhost:8080/"
        },
        "id": "SG4fhm2ojYgy",
        "outputId": "267263f5-3969-4172-c329-d8ca80c1c8a5"
      },
      "execution_count": null,
      "outputs": [
        {
          "output_type": "stream",
          "name": "stdout",
          "text": [
            "confussion matrix\n",
            "[[491 125]\n",
            " [108 516]]\n",
            "\n",
            "\n",
            "Accuracy of DecisionTreeClassifier: 81.20967741935485 \n",
            "\n",
            "              precision    recall  f1-score   support\n",
            "\n",
            "           0       0.82      0.80      0.81       616\n",
            "           1       0.80      0.83      0.82       624\n",
            "\n",
            "    accuracy                           0.81      1240\n",
            "   macro avg       0.81      0.81      0.81      1240\n",
            "weighted avg       0.81      0.81      0.81      1240\n",
            "\n",
            "Precision: 0.8049921996879875\n",
            "Recall: 0.8269230769230769\n",
            "F1-score: 0.8158102766798419\n"
          ]
        }
      ]
    },
    {
      "cell_type": "markdown",
      "source": [
        "**Gradient Boosting**"
      ],
      "metadata": {
        "id": "9gaG1woAjox-"
      }
    },
    {
      "cell_type": "code",
      "source": [
        "from sklearn.ensemble import GradientBoostingClassifier\n",
        "m6 = 'Gradient Boosting Classifier'\n",
        "gvc =  GradientBoostingClassifier()\n",
        "gvc.fit(train_x2,train_y2)\n",
        "gvc_predicted = gvc.predict(test_x2)\n",
        "gvc_conf_matrix = confusion_matrix(test_y2, gvc_predicted)\n",
        "gvc_acc_score = accuracy_score(test_y2, gvc_predicted)\n",
        "print(\"confussion matrix\")\n",
        "print(gvc_conf_matrix)\n",
        "print(\"\\n\")\n",
        "print(\"Accuracy of Gradient Boosting Classifier:\",gvc_acc_score*100,'\\n')\n",
        "print(classification_report(test_y2,gvc_predicted))\n",
        "\n",
        "\n",
        "# Calculate the precision, recall, and F1-score\n",
        "from sklearn.metrics import accuracy_score, precision_score, recall_score, f1_score\n",
        "precision6 = precision_score(test_y2, gvc_predicted)\n",
        "recall6 = recall_score(test_y2, gvc_predicted)\n",
        "f1_6 = f1_score(test_y2, gvc_predicted)\n",
        "\n",
        "# Print the results\n",
        "print(\"Precision:\", precision6)\n",
        "print(\"Recall:\", recall6)\n",
        "print(\"F1-score:\", f1_6)"
      ],
      "metadata": {
        "colab": {
          "base_uri": "https://localhost:8080/"
        },
        "id": "egtFE1IHjrKz",
        "outputId": "2ac1ac57-7136-44a0-aee9-2834cb8e8c07"
      },
      "execution_count": null,
      "outputs": [
        {
          "output_type": "stream",
          "name": "stdout",
          "text": [
            "confussion matrix\n",
            "[[565  51]\n",
            " [157 467]]\n",
            "\n",
            "\n",
            "Accuracy of Gradient Boosting Classifier: 83.22580645161291 \n",
            "\n",
            "              precision    recall  f1-score   support\n",
            "\n",
            "           0       0.78      0.92      0.84       616\n",
            "           1       0.90      0.75      0.82       624\n",
            "\n",
            "    accuracy                           0.83      1240\n",
            "   macro avg       0.84      0.83      0.83      1240\n",
            "weighted avg       0.84      0.83      0.83      1240\n",
            "\n",
            "Precision: 0.9015444015444015\n",
            "Recall: 0.7483974358974359\n",
            "F1-score: 0.8178633975481612\n"
          ]
        }
      ]
    },
    {
      "cell_type": "markdown",
      "source": [
        "**XGBOOST**"
      ],
      "metadata": {
        "id": "jHpMzBw0j07s"
      }
    },
    {
      "cell_type": "code",
      "source": [
        "import xgboost as xgb\n",
        "# Create an XGBoost classifier\n",
        "clf7 = xgb.XGBClassifier(learning_rate=0.1, n_estimators=1000, max_depth=6, subsample=0.8, colsample_bytree=0.8, objective='binary:logistic')\n",
        "\n",
        "# Train the classifier\n",
        "clf7.fit(train_x2, train_y2)\n",
        "\n",
        "# Make predictions on the test set\n",
        "y_pred7 = clf7.predict(test_x2)\n",
        "\n",
        "# Evaluate the performance of the classifier\n",
        "accuracy7 = accuracy_score(test_y2, y_pred7)\n",
        "print('Accuracy:', accuracy7)\n",
        "\n",
        "cm7 = confusion_matrix(test_y2, y_pred7)\n",
        "print('Confusion matrix:\\n', cm7)\n",
        "\n",
        "cr7 = classification_report(test_y2, y_pred7)\n",
        "print('Classification report:\\n', cr7)\n",
        "\n",
        "# Calculate the precision, recall, and F1-score\n",
        "from sklearn.metrics import accuracy_score, precision_score, recall_score, f1_score\n",
        "precision7 = precision_score(test_y2, y_pred7)\n",
        "recall7 = recall_score(test_y2, y_pred7)\n",
        "f1_7 = f1_score(test_y2, y_pred7)\n",
        "\n",
        "# Print the results\n",
        "print(\"Precision:\", precision7)\n",
        "print(\"Recall:\", recall7)\n",
        "print(\"F1-score:\", f1_7)"
      ],
      "metadata": {
        "colab": {
          "base_uri": "https://localhost:8080/"
        },
        "id": "IS0loDSUi0_C",
        "outputId": "34c75b41-c412-4905-e24f-9fee16e54025"
      },
      "execution_count": null,
      "outputs": [
        {
          "output_type": "stream",
          "name": "stdout",
          "text": [
            "Accuracy: 0.8701612903225806\n",
            "Confusion matrix:\n",
            " [[555  61]\n",
            " [100 524]]\n",
            "Classification report:\n",
            "               precision    recall  f1-score   support\n",
            "\n",
            "           0       0.85      0.90      0.87       616\n",
            "           1       0.90      0.84      0.87       624\n",
            "\n",
            "    accuracy                           0.87      1240\n",
            "   macro avg       0.87      0.87      0.87      1240\n",
            "weighted avg       0.87      0.87      0.87      1240\n",
            "\n",
            "Precision: 0.8957264957264958\n",
            "Recall: 0.8397435897435898\n",
            "F1-score: 0.8668320926385442\n"
          ]
        }
      ]
    },
    {
      "cell_type": "markdown",
      "source": [
        "**Random Forest**"
      ],
      "metadata": {
        "id": "zPROT58wkAkZ"
      }
    },
    {
      "cell_type": "code",
      "source": [
        "from sklearn.ensemble import RandomForestClassifier\n",
        "# Create a random forest classifier with 100 trees\n",
        "clf8 = RandomForestClassifier(n_estimators=100, random_state=42)\n",
        "\n",
        "# Train the classifier\n",
        "clf8.fit(train_x2, train_y2)\n",
        "\n",
        "# Make predictions on the test set\n",
        "y_pred8 = clf8.predict(test_x2)\n",
        "\n",
        "# Evaluate the performance of the classifier\n",
        "accuracy8 = accuracy_score(test_y2, y_pred8)\n",
        "print('Accuracy:', accuracy8)\n",
        "\n",
        "cm8 = confusion_matrix(test_y2, y_pred8)\n",
        "print('Confusion matrix:\\n', cm8)\n",
        "\n",
        "cr8 = classification_report(test_y2, y_pred8)\n",
        "print('Classification report:\\n', cr8)\n",
        "\n",
        "\n",
        "# Calculate the precision, recall, and F1-score\n",
        "from sklearn.metrics import accuracy_score, precision_score, recall_score, f1_score\n",
        "precision8 = precision_score(test_y2, y_pred8)\n",
        "recall8 = recall_score(test_y2, y_pred8)\n",
        "f1_8 = f1_score(test_y2, y_pred8)\n",
        "\n",
        "# Print the results\n",
        "print(\"Precision:\", precision8)\n",
        "print(\"Recall:\", recall8)\n",
        "print(\"F1-score:\", f1_8)"
      ],
      "metadata": {
        "colab": {
          "base_uri": "https://localhost:8080/"
        },
        "id": "e5G8D5v1kCku",
        "outputId": "54eb24e5-95f3-474c-8b60-412c8271d38c"
      },
      "execution_count": null,
      "outputs": [
        {
          "output_type": "stream",
          "name": "stdout",
          "text": [
            "Accuracy: 0.8951612903225806\n",
            "Confusion matrix:\n",
            " [[573  43]\n",
            " [ 87 537]]\n",
            "Classification report:\n",
            "               precision    recall  f1-score   support\n",
            "\n",
            "           0       0.87      0.93      0.90       616\n",
            "           1       0.93      0.86      0.89       624\n",
            "\n",
            "    accuracy                           0.90      1240\n",
            "   macro avg       0.90      0.90      0.90      1240\n",
            "weighted avg       0.90      0.90      0.90      1240\n",
            "\n",
            "Precision: 0.9258620689655173\n",
            "Recall: 0.8605769230769231\n",
            "F1-score: 0.8920265780730897\n"
          ]
        }
      ]
    },
    {
      "cell_type": "code",
      "source": [
        "pip install lazypredict"
      ],
      "metadata": {
        "id": "iCInV-t0kaMI",
        "colab": {
          "base_uri": "https://localhost:8080/"
        },
        "outputId": "816a6cd7-351d-4264-eb25-0a4b4ce46697"
      },
      "execution_count": null,
      "outputs": [
        {
          "output_type": "stream",
          "name": "stdout",
          "text": [
            "Looking in indexes: https://pypi.org/simple, https://us-python.pkg.dev/colab-wheels/public/simple/\n",
            "Collecting lazypredict\n",
            "  Downloading lazypredict-0.2.12-py2.py3-none-any.whl (12 kB)\n",
            "Requirement already satisfied: tqdm in /usr/local/lib/python3.9/dist-packages (from lazypredict) (4.65.0)\n",
            "Requirement already satisfied: click in /usr/local/lib/python3.9/dist-packages (from lazypredict) (8.1.3)\n",
            "Requirement already satisfied: joblib in /usr/local/lib/python3.9/dist-packages (from lazypredict) (1.1.1)\n",
            "Requirement already satisfied: scikit-learn in /usr/local/lib/python3.9/dist-packages (from lazypredict) (1.2.2)\n",
            "Requirement already satisfied: xgboost in /usr/local/lib/python3.9/dist-packages (from lazypredict) (1.7.4)\n",
            "Requirement already satisfied: lightgbm in /usr/local/lib/python3.9/dist-packages (from lazypredict) (3.3.5)\n",
            "Requirement already satisfied: pandas in /usr/local/lib/python3.9/dist-packages (from lazypredict) (1.4.4)\n",
            "Requirement already satisfied: numpy in /usr/local/lib/python3.9/dist-packages (from lightgbm->lazypredict) (1.22.4)\n",
            "Requirement already satisfied: wheel in /usr/local/lib/python3.9/dist-packages (from lightgbm->lazypredict) (0.40.0)\n",
            "Requirement already satisfied: scipy in /usr/local/lib/python3.9/dist-packages (from lightgbm->lazypredict) (1.10.1)\n",
            "Requirement already satisfied: threadpoolctl>=2.0.0 in /usr/local/lib/python3.9/dist-packages (from scikit-learn->lazypredict) (3.1.0)\n",
            "Requirement already satisfied: python-dateutil>=2.8.1 in /usr/local/lib/python3.9/dist-packages (from pandas->lazypredict) (2.8.2)\n",
            "Requirement already satisfied: pytz>=2020.1 in /usr/local/lib/python3.9/dist-packages (from pandas->lazypredict) (2022.7.1)\n",
            "Requirement already satisfied: six>=1.5 in /usr/local/lib/python3.9/dist-packages (from python-dateutil>=2.8.1->pandas->lazypredict) (1.16.0)\n",
            "Installing collected packages: lazypredict\n",
            "Successfully installed lazypredict-0.2.12\n"
          ]
        }
      ]
    },
    {
      "cell_type": "code",
      "source": [
        "import lazypredict\n",
        "\n",
        "### importing lazypredict library\n",
        "import lazypredict\n",
        "### importing LazyClassifier for classification problem\n",
        "from lazypredict.Supervised import LazyClassifier\n",
        "### importing LazyClassifier for classification problem because here we are solving Classification use case.\n",
        "from lazypredict.Supervised import LazyClassifier\n",
        "### importing breast Cancer Dataset from sklearn\n",
        "from sklearn.datasets import load_breast_cancer\n",
        "### spliting dataset into training and testing part\n",
        "from sklearn.model_selection import train_test_split"
      ],
      "metadata": {
        "id": "5_2Z39I-kKb0"
      },
      "execution_count": null,
      "outputs": []
    },
    {
      "cell_type": "code",
      "source": [
        "clf = LazyClassifier(verbose=0,ignore_warnings=True, custom_metric=None)\n",
        "\n",
        "models,predictions = clf.fit(train_x2, test_x2, train_y2, test_y2)"
      ],
      "metadata": {
        "id": "egCWggJjkMns",
        "colab": {
          "base_uri": "https://localhost:8080/"
        },
        "outputId": "d091cea4-4bc3-48e2-a7d7-436bb89277a9"
      },
      "execution_count": null,
      "outputs": [
        {
          "output_type": "stream",
          "name": "stderr",
          "text": [
            "100%|██████████| 29/29 [00:30<00:00,  1.06s/it]\n"
          ]
        }
      ]
    },
    {
      "cell_type": "code",
      "source": [
        "models # Results using all the features"
      ],
      "metadata": {
        "id": "HFpiLMVhkh2z",
        "colab": {
          "base_uri": "https://localhost:8080/",
          "height": 927
        },
        "outputId": "9f99b598-fcf0-416f-f448-77ce25e1bef3"
      },
      "execution_count": null,
      "outputs": [
        {
          "output_type": "execute_result",
          "data": {
            "text/plain": [
              "                               Accuracy  Balanced Accuracy  ROC AUC  F1 Score  \\\n",
              "Model                                                                           \n",
              "ExtraTreesClassifier               0.91               0.91     0.91      0.91   \n",
              "RandomForestClassifier             0.89               0.89     0.89      0.89   \n",
              "XGBClassifier                      0.88               0.88     0.88      0.88   \n",
              "LGBMClassifier                     0.88               0.88     0.88      0.88   \n",
              "BaggingClassifier                  0.87               0.87     0.87      0.87   \n",
              "LabelPropagation                   0.84               0.84     0.84      0.84   \n",
              "LabelSpreading                     0.84               0.84     0.84      0.84   \n",
              "DecisionTreeClassifier             0.81               0.81     0.81      0.81   \n",
              "AdaBoostClassifier                 0.79               0.79     0.79      0.79   \n",
              "ExtraTreeClassifier                0.77               0.77     0.77      0.77   \n",
              "KNeighborsClassifier               0.77               0.77     0.77      0.76   \n",
              "NuSVC                              0.76               0.76     0.76      0.76   \n",
              "SVC                                0.72               0.72     0.72      0.72   \n",
              "CalibratedClassifierCV             0.67               0.67     0.67      0.67   \n",
              "LinearDiscriminantAnalysis         0.67               0.67     0.67      0.67   \n",
              "RidgeClassifier                    0.67               0.67     0.67      0.67   \n",
              "LinearSVC                          0.67               0.67     0.67      0.67   \n",
              "RidgeClassifierCV                  0.67               0.67     0.67      0.67   \n",
              "SGDClassifier                      0.67               0.67     0.67      0.67   \n",
              "LogisticRegression                 0.67               0.67     0.67      0.67   \n",
              "QuadraticDiscriminantAnalysis      0.65               0.65     0.65      0.64   \n",
              "BernoulliNB                        0.64               0.64     0.64      0.64   \n",
              "NearestCentroid                    0.63               0.63     0.63      0.63   \n",
              "GaussianNB                         0.63               0.63     0.63      0.62   \n",
              "PassiveAggressiveClassifier        0.58               0.58     0.58      0.58   \n",
              "Perceptron                         0.56               0.56     0.56      0.54   \n",
              "DummyClassifier                    0.50               0.50     0.50      0.33   \n",
              "\n",
              "                               Time Taken  \n",
              "Model                                      \n",
              "ExtraTreesClassifier                 0.67  \n",
              "RandomForestClassifier               2.01  \n",
              "XGBClassifier                       10.42  \n",
              "LGBMClassifier                       2.93  \n",
              "BaggingClassifier                    0.31  \n",
              "LabelPropagation                     1.22  \n",
              "LabelSpreading                       1.81  \n",
              "DecisionTreeClassifier               0.06  \n",
              "AdaBoostClassifier                   0.51  \n",
              "ExtraTreeClassifier                  0.03  \n",
              "KNeighborsClassifier                 0.15  \n",
              "NuSVC                                2.59  \n",
              "SVC                                  4.07  \n",
              "CalibratedClassifierCV               2.54  \n",
              "LinearDiscriminantAnalysis           0.09  \n",
              "RidgeClassifier                      0.05  \n",
              "LinearSVC                            0.42  \n",
              "RidgeClassifierCV                    0.11  \n",
              "SGDClassifier                        0.21  \n",
              "LogisticRegression                   0.03  \n",
              "QuadraticDiscriminantAnalysis        0.08  \n",
              "BernoulliNB                          0.03  \n",
              "NearestCentroid                      0.02  \n",
              "GaussianNB                           0.02  \n",
              "PassiveAggressiveClassifier          0.06  \n",
              "Perceptron                           0.07  \n",
              "DummyClassifier                      0.02  "
            ],
            "text/html": [
              "\n",
              "  <div id=\"df-8e009b64-90c0-4044-891d-d37813153636\">\n",
              "    <div class=\"colab-df-container\">\n",
              "      <div>\n",
              "<style scoped>\n",
              "    .dataframe tbody tr th:only-of-type {\n",
              "        vertical-align: middle;\n",
              "    }\n",
              "\n",
              "    .dataframe tbody tr th {\n",
              "        vertical-align: top;\n",
              "    }\n",
              "\n",
              "    .dataframe thead th {\n",
              "        text-align: right;\n",
              "    }\n",
              "</style>\n",
              "<table border=\"1\" class=\"dataframe\">\n",
              "  <thead>\n",
              "    <tr style=\"text-align: right;\">\n",
              "      <th></th>\n",
              "      <th>Accuracy</th>\n",
              "      <th>Balanced Accuracy</th>\n",
              "      <th>ROC AUC</th>\n",
              "      <th>F1 Score</th>\n",
              "      <th>Time Taken</th>\n",
              "    </tr>\n",
              "    <tr>\n",
              "      <th>Model</th>\n",
              "      <th></th>\n",
              "      <th></th>\n",
              "      <th></th>\n",
              "      <th></th>\n",
              "      <th></th>\n",
              "    </tr>\n",
              "  </thead>\n",
              "  <tbody>\n",
              "    <tr>\n",
              "      <th>ExtraTreesClassifier</th>\n",
              "      <td>0.91</td>\n",
              "      <td>0.91</td>\n",
              "      <td>0.91</td>\n",
              "      <td>0.91</td>\n",
              "      <td>0.67</td>\n",
              "    </tr>\n",
              "    <tr>\n",
              "      <th>RandomForestClassifier</th>\n",
              "      <td>0.89</td>\n",
              "      <td>0.89</td>\n",
              "      <td>0.89</td>\n",
              "      <td>0.89</td>\n",
              "      <td>2.01</td>\n",
              "    </tr>\n",
              "    <tr>\n",
              "      <th>XGBClassifier</th>\n",
              "      <td>0.88</td>\n",
              "      <td>0.88</td>\n",
              "      <td>0.88</td>\n",
              "      <td>0.88</td>\n",
              "      <td>10.42</td>\n",
              "    </tr>\n",
              "    <tr>\n",
              "      <th>LGBMClassifier</th>\n",
              "      <td>0.88</td>\n",
              "      <td>0.88</td>\n",
              "      <td>0.88</td>\n",
              "      <td>0.88</td>\n",
              "      <td>2.93</td>\n",
              "    </tr>\n",
              "    <tr>\n",
              "      <th>BaggingClassifier</th>\n",
              "      <td>0.87</td>\n",
              "      <td>0.87</td>\n",
              "      <td>0.87</td>\n",
              "      <td>0.87</td>\n",
              "      <td>0.31</td>\n",
              "    </tr>\n",
              "    <tr>\n",
              "      <th>LabelPropagation</th>\n",
              "      <td>0.84</td>\n",
              "      <td>0.84</td>\n",
              "      <td>0.84</td>\n",
              "      <td>0.84</td>\n",
              "      <td>1.22</td>\n",
              "    </tr>\n",
              "    <tr>\n",
              "      <th>LabelSpreading</th>\n",
              "      <td>0.84</td>\n",
              "      <td>0.84</td>\n",
              "      <td>0.84</td>\n",
              "      <td>0.84</td>\n",
              "      <td>1.81</td>\n",
              "    </tr>\n",
              "    <tr>\n",
              "      <th>DecisionTreeClassifier</th>\n",
              "      <td>0.81</td>\n",
              "      <td>0.81</td>\n",
              "      <td>0.81</td>\n",
              "      <td>0.81</td>\n",
              "      <td>0.06</td>\n",
              "    </tr>\n",
              "    <tr>\n",
              "      <th>AdaBoostClassifier</th>\n",
              "      <td>0.79</td>\n",
              "      <td>0.79</td>\n",
              "      <td>0.79</td>\n",
              "      <td>0.79</td>\n",
              "      <td>0.51</td>\n",
              "    </tr>\n",
              "    <tr>\n",
              "      <th>ExtraTreeClassifier</th>\n",
              "      <td>0.77</td>\n",
              "      <td>0.77</td>\n",
              "      <td>0.77</td>\n",
              "      <td>0.77</td>\n",
              "      <td>0.03</td>\n",
              "    </tr>\n",
              "    <tr>\n",
              "      <th>KNeighborsClassifier</th>\n",
              "      <td>0.77</td>\n",
              "      <td>0.77</td>\n",
              "      <td>0.77</td>\n",
              "      <td>0.76</td>\n",
              "      <td>0.15</td>\n",
              "    </tr>\n",
              "    <tr>\n",
              "      <th>NuSVC</th>\n",
              "      <td>0.76</td>\n",
              "      <td>0.76</td>\n",
              "      <td>0.76</td>\n",
              "      <td>0.76</td>\n",
              "      <td>2.59</td>\n",
              "    </tr>\n",
              "    <tr>\n",
              "      <th>SVC</th>\n",
              "      <td>0.72</td>\n",
              "      <td>0.72</td>\n",
              "      <td>0.72</td>\n",
              "      <td>0.72</td>\n",
              "      <td>4.07</td>\n",
              "    </tr>\n",
              "    <tr>\n",
              "      <th>CalibratedClassifierCV</th>\n",
              "      <td>0.67</td>\n",
              "      <td>0.67</td>\n",
              "      <td>0.67</td>\n",
              "      <td>0.67</td>\n",
              "      <td>2.54</td>\n",
              "    </tr>\n",
              "    <tr>\n",
              "      <th>LinearDiscriminantAnalysis</th>\n",
              "      <td>0.67</td>\n",
              "      <td>0.67</td>\n",
              "      <td>0.67</td>\n",
              "      <td>0.67</td>\n",
              "      <td>0.09</td>\n",
              "    </tr>\n",
              "    <tr>\n",
              "      <th>RidgeClassifier</th>\n",
              "      <td>0.67</td>\n",
              "      <td>0.67</td>\n",
              "      <td>0.67</td>\n",
              "      <td>0.67</td>\n",
              "      <td>0.05</td>\n",
              "    </tr>\n",
              "    <tr>\n",
              "      <th>LinearSVC</th>\n",
              "      <td>0.67</td>\n",
              "      <td>0.67</td>\n",
              "      <td>0.67</td>\n",
              "      <td>0.67</td>\n",
              "      <td>0.42</td>\n",
              "    </tr>\n",
              "    <tr>\n",
              "      <th>RidgeClassifierCV</th>\n",
              "      <td>0.67</td>\n",
              "      <td>0.67</td>\n",
              "      <td>0.67</td>\n",
              "      <td>0.67</td>\n",
              "      <td>0.11</td>\n",
              "    </tr>\n",
              "    <tr>\n",
              "      <th>SGDClassifier</th>\n",
              "      <td>0.67</td>\n",
              "      <td>0.67</td>\n",
              "      <td>0.67</td>\n",
              "      <td>0.67</td>\n",
              "      <td>0.21</td>\n",
              "    </tr>\n",
              "    <tr>\n",
              "      <th>LogisticRegression</th>\n",
              "      <td>0.67</td>\n",
              "      <td>0.67</td>\n",
              "      <td>0.67</td>\n",
              "      <td>0.67</td>\n",
              "      <td>0.03</td>\n",
              "    </tr>\n",
              "    <tr>\n",
              "      <th>QuadraticDiscriminantAnalysis</th>\n",
              "      <td>0.65</td>\n",
              "      <td>0.65</td>\n",
              "      <td>0.65</td>\n",
              "      <td>0.64</td>\n",
              "      <td>0.08</td>\n",
              "    </tr>\n",
              "    <tr>\n",
              "      <th>BernoulliNB</th>\n",
              "      <td>0.64</td>\n",
              "      <td>0.64</td>\n",
              "      <td>0.64</td>\n",
              "      <td>0.64</td>\n",
              "      <td>0.03</td>\n",
              "    </tr>\n",
              "    <tr>\n",
              "      <th>NearestCentroid</th>\n",
              "      <td>0.63</td>\n",
              "      <td>0.63</td>\n",
              "      <td>0.63</td>\n",
              "      <td>0.63</td>\n",
              "      <td>0.02</td>\n",
              "    </tr>\n",
              "    <tr>\n",
              "      <th>GaussianNB</th>\n",
              "      <td>0.63</td>\n",
              "      <td>0.63</td>\n",
              "      <td>0.63</td>\n",
              "      <td>0.62</td>\n",
              "      <td>0.02</td>\n",
              "    </tr>\n",
              "    <tr>\n",
              "      <th>PassiveAggressiveClassifier</th>\n",
              "      <td>0.58</td>\n",
              "      <td>0.58</td>\n",
              "      <td>0.58</td>\n",
              "      <td>0.58</td>\n",
              "      <td>0.06</td>\n",
              "    </tr>\n",
              "    <tr>\n",
              "      <th>Perceptron</th>\n",
              "      <td>0.56</td>\n",
              "      <td>0.56</td>\n",
              "      <td>0.56</td>\n",
              "      <td>0.54</td>\n",
              "      <td>0.07</td>\n",
              "    </tr>\n",
              "    <tr>\n",
              "      <th>DummyClassifier</th>\n",
              "      <td>0.50</td>\n",
              "      <td>0.50</td>\n",
              "      <td>0.50</td>\n",
              "      <td>0.33</td>\n",
              "      <td>0.02</td>\n",
              "    </tr>\n",
              "  </tbody>\n",
              "</table>\n",
              "</div>\n",
              "      <button class=\"colab-df-convert\" onclick=\"convertToInteractive('df-8e009b64-90c0-4044-891d-d37813153636')\"\n",
              "              title=\"Convert this dataframe to an interactive table.\"\n",
              "              style=\"display:none;\">\n",
              "        \n",
              "  <svg xmlns=\"http://www.w3.org/2000/svg\" height=\"24px\"viewBox=\"0 0 24 24\"\n",
              "       width=\"24px\">\n",
              "    <path d=\"M0 0h24v24H0V0z\" fill=\"none\"/>\n",
              "    <path d=\"M18.56 5.44l.94 2.06.94-2.06 2.06-.94-2.06-.94-.94-2.06-.94 2.06-2.06.94zm-11 1L8.5 8.5l.94-2.06 2.06-.94-2.06-.94L8.5 2.5l-.94 2.06-2.06.94zm10 10l.94 2.06.94-2.06 2.06-.94-2.06-.94-.94-2.06-.94 2.06-2.06.94z\"/><path d=\"M17.41 7.96l-1.37-1.37c-.4-.4-.92-.59-1.43-.59-.52 0-1.04.2-1.43.59L10.3 9.45l-7.72 7.72c-.78.78-.78 2.05 0 2.83L4 21.41c.39.39.9.59 1.41.59.51 0 1.02-.2 1.41-.59l7.78-7.78 2.81-2.81c.8-.78.8-2.07 0-2.86zM5.41 20L4 18.59l7.72-7.72 1.47 1.35L5.41 20z\"/>\n",
              "  </svg>\n",
              "      </button>\n",
              "      \n",
              "  <style>\n",
              "    .colab-df-container {\n",
              "      display:flex;\n",
              "      flex-wrap:wrap;\n",
              "      gap: 12px;\n",
              "    }\n",
              "\n",
              "    .colab-df-convert {\n",
              "      background-color: #E8F0FE;\n",
              "      border: none;\n",
              "      border-radius: 50%;\n",
              "      cursor: pointer;\n",
              "      display: none;\n",
              "      fill: #1967D2;\n",
              "      height: 32px;\n",
              "      padding: 0 0 0 0;\n",
              "      width: 32px;\n",
              "    }\n",
              "\n",
              "    .colab-df-convert:hover {\n",
              "      background-color: #E2EBFA;\n",
              "      box-shadow: 0px 1px 2px rgba(60, 64, 67, 0.3), 0px 1px 3px 1px rgba(60, 64, 67, 0.15);\n",
              "      fill: #174EA6;\n",
              "    }\n",
              "\n",
              "    [theme=dark] .colab-df-convert {\n",
              "      background-color: #3B4455;\n",
              "      fill: #D2E3FC;\n",
              "    }\n",
              "\n",
              "    [theme=dark] .colab-df-convert:hover {\n",
              "      background-color: #434B5C;\n",
              "      box-shadow: 0px 1px 3px 1px rgba(0, 0, 0, 0.15);\n",
              "      filter: drop-shadow(0px 1px 2px rgba(0, 0, 0, 0.3));\n",
              "      fill: #FFFFFF;\n",
              "    }\n",
              "  </style>\n",
              "\n",
              "      <script>\n",
              "        const buttonEl =\n",
              "          document.querySelector('#df-8e009b64-90c0-4044-891d-d37813153636 button.colab-df-convert');\n",
              "        buttonEl.style.display =\n",
              "          google.colab.kernel.accessAllowed ? 'block' : 'none';\n",
              "\n",
              "        async function convertToInteractive(key) {\n",
              "          const element = document.querySelector('#df-8e009b64-90c0-4044-891d-d37813153636');\n",
              "          const dataTable =\n",
              "            await google.colab.kernel.invokeFunction('convertToInteractive',\n",
              "                                                     [key], {});\n",
              "          if (!dataTable) return;\n",
              "\n",
              "          const docLinkHtml = 'Like what you see? Visit the ' +\n",
              "            '<a target=\"_blank\" href=https://colab.research.google.com/notebooks/data_table.ipynb>data table notebook</a>'\n",
              "            + ' to learn more about interactive tables.';\n",
              "          element.innerHTML = '';\n",
              "          dataTable['output_type'] = 'display_data';\n",
              "          await google.colab.output.renderOutput(dataTable, element);\n",
              "          const docLink = document.createElement('div');\n",
              "          docLink.innerHTML = docLinkHtml;\n",
              "          element.appendChild(docLink);\n",
              "        }\n",
              "      </script>\n",
              "    </div>\n",
              "  </div>\n",
              "  "
            ]
          },
          "metadata": {},
          "execution_count": 60
        }
      ]
    }
  ]
}