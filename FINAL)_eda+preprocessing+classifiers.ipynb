{
  "nbformat": 4,
  "nbformat_minor": 0,
  "metadata": {
    "colab": {
      "provenance": []
    },
    "kernelspec": {
      "name": "python3",
      "display_name": "Python 3"
    },
    "language_info": {
      "name": "python"
    }
  },
  "cells": [
    {
      "cell_type": "code",
      "execution_count": null,
      "metadata": {
        "id": "C25g8EvRc_XB"
      },
      "outputs": [],
      "source": [
        "import numpy as np\n",
        "import pandas as pd\n",
        "import matplotlib.pyplot as plt\n",
        "%matplotlib inline\n",
        "import seaborn as sns\n",
        "from sklearn.model_selection import train_test_split\n",
        "from sklearn.preprocessing import StandardScaler\n",
        "from sklearn.metrics import confusion_matrix\n",
        "import itertools\n",
        "\n",
        "import keras\n",
        "from keras.models import Sequential\n",
        "from keras.layers import Dense\n",
        "\n",
        "import tensorflow as tf\n",
        "tf.random.set_seed(4)\n",
        "from tensorflow import keras"
      ]
    },
    {
      "cell_type": "code",
      "source": [
        "from google.colab import files\n",
        "upload = files.upload()"
      ],
      "metadata": {
        "colab": {
          "base_uri": "https://localhost:8080/",
          "height": 73
        },
        "id": "YkxmIUbtdEaS",
        "outputId": "7df6d5c9-fb3f-4d2a-c86e-0e47e56d945f"
      },
      "execution_count": null,
      "outputs": [
        {
          "output_type": "display_data",
          "data": {
            "text/plain": [
              "<IPython.core.display.HTML object>"
            ],
            "text/html": [
              "\n",
              "     <input type=\"file\" id=\"files-c114ae33-6e8d-449d-b37f-d638e78bb692\" name=\"files[]\" multiple disabled\n",
              "        style=\"border:none\" />\n",
              "     <output id=\"result-c114ae33-6e8d-449d-b37f-d638e78bb692\">\n",
              "      Upload widget is only available when the cell has been executed in the\n",
              "      current browser session. Please rerun this cell to enable.\n",
              "      </output>\n",
              "      <script>// Copyright 2017 Google LLC\n",
              "//\n",
              "// Licensed under the Apache License, Version 2.0 (the \"License\");\n",
              "// you may not use this file except in compliance with the License.\n",
              "// You may obtain a copy of the License at\n",
              "//\n",
              "//      http://www.apache.org/licenses/LICENSE-2.0\n",
              "//\n",
              "// Unless required by applicable law or agreed to in writing, software\n",
              "// distributed under the License is distributed on an \"AS IS\" BASIS,\n",
              "// WITHOUT WARRANTIES OR CONDITIONS OF ANY KIND, either express or implied.\n",
              "// See the License for the specific language governing permissions and\n",
              "// limitations under the License.\n",
              "\n",
              "/**\n",
              " * @fileoverview Helpers for google.colab Python module.\n",
              " */\n",
              "(function(scope) {\n",
              "function span(text, styleAttributes = {}) {\n",
              "  const element = document.createElement('span');\n",
              "  element.textContent = text;\n",
              "  for (const key of Object.keys(styleAttributes)) {\n",
              "    element.style[key] = styleAttributes[key];\n",
              "  }\n",
              "  return element;\n",
              "}\n",
              "\n",
              "// Max number of bytes which will be uploaded at a time.\n",
              "const MAX_PAYLOAD_SIZE = 100 * 1024;\n",
              "\n",
              "function _uploadFiles(inputId, outputId) {\n",
              "  const steps = uploadFilesStep(inputId, outputId);\n",
              "  const outputElement = document.getElementById(outputId);\n",
              "  // Cache steps on the outputElement to make it available for the next call\n",
              "  // to uploadFilesContinue from Python.\n",
              "  outputElement.steps = steps;\n",
              "\n",
              "  return _uploadFilesContinue(outputId);\n",
              "}\n",
              "\n",
              "// This is roughly an async generator (not supported in the browser yet),\n",
              "// where there are multiple asynchronous steps and the Python side is going\n",
              "// to poll for completion of each step.\n",
              "// This uses a Promise to block the python side on completion of each step,\n",
              "// then passes the result of the previous step as the input to the next step.\n",
              "function _uploadFilesContinue(outputId) {\n",
              "  const outputElement = document.getElementById(outputId);\n",
              "  const steps = outputElement.steps;\n",
              "\n",
              "  const next = steps.next(outputElement.lastPromiseValue);\n",
              "  return Promise.resolve(next.value.promise).then((value) => {\n",
              "    // Cache the last promise value to make it available to the next\n",
              "    // step of the generator.\n",
              "    outputElement.lastPromiseValue = value;\n",
              "    return next.value.response;\n",
              "  });\n",
              "}\n",
              "\n",
              "/**\n",
              " * Generator function which is called between each async step of the upload\n",
              " * process.\n",
              " * @param {string} inputId Element ID of the input file picker element.\n",
              " * @param {string} outputId Element ID of the output display.\n",
              " * @return {!Iterable<!Object>} Iterable of next steps.\n",
              " */\n",
              "function* uploadFilesStep(inputId, outputId) {\n",
              "  const inputElement = document.getElementById(inputId);\n",
              "  inputElement.disabled = false;\n",
              "\n",
              "  const outputElement = document.getElementById(outputId);\n",
              "  outputElement.innerHTML = '';\n",
              "\n",
              "  const pickedPromise = new Promise((resolve) => {\n",
              "    inputElement.addEventListener('change', (e) => {\n",
              "      resolve(e.target.files);\n",
              "    });\n",
              "  });\n",
              "\n",
              "  const cancel = document.createElement('button');\n",
              "  inputElement.parentElement.appendChild(cancel);\n",
              "  cancel.textContent = 'Cancel upload';\n",
              "  const cancelPromise = new Promise((resolve) => {\n",
              "    cancel.onclick = () => {\n",
              "      resolve(null);\n",
              "    };\n",
              "  });\n",
              "\n",
              "  // Wait for the user to pick the files.\n",
              "  const files = yield {\n",
              "    promise: Promise.race([pickedPromise, cancelPromise]),\n",
              "    response: {\n",
              "      action: 'starting',\n",
              "    }\n",
              "  };\n",
              "\n",
              "  cancel.remove();\n",
              "\n",
              "  // Disable the input element since further picks are not allowed.\n",
              "  inputElement.disabled = true;\n",
              "\n",
              "  if (!files) {\n",
              "    return {\n",
              "      response: {\n",
              "        action: 'complete',\n",
              "      }\n",
              "    };\n",
              "  }\n",
              "\n",
              "  for (const file of files) {\n",
              "    const li = document.createElement('li');\n",
              "    li.append(span(file.name, {fontWeight: 'bold'}));\n",
              "    li.append(span(\n",
              "        `(${file.type || 'n/a'}) - ${file.size} bytes, ` +\n",
              "        `last modified: ${\n",
              "            file.lastModifiedDate ? file.lastModifiedDate.toLocaleDateString() :\n",
              "                                    'n/a'} - `));\n",
              "    const percent = span('0% done');\n",
              "    li.appendChild(percent);\n",
              "\n",
              "    outputElement.appendChild(li);\n",
              "\n",
              "    const fileDataPromise = new Promise((resolve) => {\n",
              "      const reader = new FileReader();\n",
              "      reader.onload = (e) => {\n",
              "        resolve(e.target.result);\n",
              "      };\n",
              "      reader.readAsArrayBuffer(file);\n",
              "    });\n",
              "    // Wait for the data to be ready.\n",
              "    let fileData = yield {\n",
              "      promise: fileDataPromise,\n",
              "      response: {\n",
              "        action: 'continue',\n",
              "      }\n",
              "    };\n",
              "\n",
              "    // Use a chunked sending to avoid message size limits. See b/62115660.\n",
              "    let position = 0;\n",
              "    do {\n",
              "      const length = Math.min(fileData.byteLength - position, MAX_PAYLOAD_SIZE);\n",
              "      const chunk = new Uint8Array(fileData, position, length);\n",
              "      position += length;\n",
              "\n",
              "      const base64 = btoa(String.fromCharCode.apply(null, chunk));\n",
              "      yield {\n",
              "        response: {\n",
              "          action: 'append',\n",
              "          file: file.name,\n",
              "          data: base64,\n",
              "        },\n",
              "      };\n",
              "\n",
              "      let percentDone = fileData.byteLength === 0 ?\n",
              "          100 :\n",
              "          Math.round((position / fileData.byteLength) * 100);\n",
              "      percent.textContent = `${percentDone}% done`;\n",
              "\n",
              "    } while (position < fileData.byteLength);\n",
              "  }\n",
              "\n",
              "  // All done.\n",
              "  yield {\n",
              "    response: {\n",
              "      action: 'complete',\n",
              "    }\n",
              "  };\n",
              "}\n",
              "\n",
              "scope.google = scope.google || {};\n",
              "scope.google.colab = scope.google.colab || {};\n",
              "scope.google.colab._files = {\n",
              "  _uploadFiles,\n",
              "  _uploadFilesContinue,\n",
              "};\n",
              "})(self);\n",
              "</script> "
            ]
          },
          "metadata": {}
        },
        {
          "output_type": "stream",
          "name": "stdout",
          "text": [
            "Saving framingham.csv to framingham (2).csv\n"
          ]
        }
      ]
    },
    {
      "cell_type": "code",
      "source": [
        "dataset= pd.read_csv('framingham.csv')"
      ],
      "metadata": {
        "id": "LB3M8JcidGFb"
      },
      "execution_count": null,
      "outputs": []
    },
    {
      "cell_type": "code",
      "source": [
        "dataset.isnull().sum()"
      ],
      "metadata": {
        "colab": {
          "base_uri": "https://localhost:8080/"
        },
        "id": "xDMSSeiodGOw",
        "outputId": "d6963918-1f93-4832-df76-f272c8599723"
      },
      "execution_count": null,
      "outputs": [
        {
          "output_type": "execute_result",
          "data": {
            "text/plain": [
              "male                 0\n",
              "age                  0\n",
              "education          105\n",
              "currentSmoker        0\n",
              "cigsPerDay          29\n",
              "BPMeds              53\n",
              "prevalentStroke      0\n",
              "prevalentHyp         0\n",
              "diabetes             0\n",
              "totChol             50\n",
              "sysBP                0\n",
              "diaBP                0\n",
              "BMI                 19\n",
              "heartRate            1\n",
              "glucose            388\n",
              "TenYearCHD           0\n",
              "dtype: int64"
            ]
          },
          "metadata": {},
          "execution_count": 92
        }
      ]
    },
    {
      "cell_type": "code",
      "source": [
        "dataset.isna().sum()"
      ],
      "metadata": {
        "colab": {
          "base_uri": "https://localhost:8080/"
        },
        "id": "A3JXoYkadGQK",
        "outputId": "893c3084-485b-4dd3-cabf-c333e528cad5"
      },
      "execution_count": null,
      "outputs": [
        {
          "output_type": "execute_result",
          "data": {
            "text/plain": [
              "male                 0\n",
              "age                  0\n",
              "education          105\n",
              "currentSmoker        0\n",
              "cigsPerDay          29\n",
              "BPMeds              53\n",
              "prevalentStroke      0\n",
              "prevalentHyp         0\n",
              "diabetes             0\n",
              "totChol             50\n",
              "sysBP                0\n",
              "diaBP                0\n",
              "BMI                 19\n",
              "heartRate            1\n",
              "glucose            388\n",
              "TenYearCHD           0\n",
              "dtype: int64"
            ]
          },
          "metadata": {},
          "execution_count": 93
        }
      ]
    },
    {
      "cell_type": "code",
      "source": [
        "dataset.shape"
      ],
      "metadata": {
        "colab": {
          "base_uri": "https://localhost:8080/"
        },
        "id": "WQX4F_-JdGVJ",
        "outputId": "2d1d2bbb-de49-437d-ed35-869d98b1d162"
      },
      "execution_count": null,
      "outputs": [
        {
          "output_type": "execute_result",
          "data": {
            "text/plain": [
              "(4238, 16)"
            ]
          },
          "metadata": {},
          "execution_count": 94
        }
      ]
    },
    {
      "cell_type": "code",
      "source": [
        "dataset.info()"
      ],
      "metadata": {
        "colab": {
          "base_uri": "https://localhost:8080/"
        },
        "id": "jmXgPKyPdGWq",
        "outputId": "171bea00-b3d2-41d2-bddc-5d43fdabfbca"
      },
      "execution_count": null,
      "outputs": [
        {
          "output_type": "stream",
          "name": "stdout",
          "text": [
            "<class 'pandas.core.frame.DataFrame'>\n",
            "RangeIndex: 4238 entries, 0 to 4237\n",
            "Data columns (total 16 columns):\n",
            " #   Column           Non-Null Count  Dtype  \n",
            "---  ------           --------------  -----  \n",
            " 0   male             4238 non-null   int64  \n",
            " 1   age              4238 non-null   int64  \n",
            " 2   education        4133 non-null   float64\n",
            " 3   currentSmoker    4238 non-null   int64  \n",
            " 4   cigsPerDay       4209 non-null   float64\n",
            " 5   BPMeds           4185 non-null   float64\n",
            " 6   prevalentStroke  4238 non-null   int64  \n",
            " 7   prevalentHyp     4238 non-null   int64  \n",
            " 8   diabetes         4238 non-null   int64  \n",
            " 9   totChol          4188 non-null   float64\n",
            " 10  sysBP            4238 non-null   float64\n",
            " 11  diaBP            4238 non-null   float64\n",
            " 12  BMI              4219 non-null   float64\n",
            " 13  heartRate        4237 non-null   float64\n",
            " 14  glucose          3850 non-null   float64\n",
            " 15  TenYearCHD       4238 non-null   int64  \n",
            "dtypes: float64(9), int64(7)\n",
            "memory usage: 529.9 KB\n"
          ]
        }
      ]
    },
    {
      "cell_type": "code",
      "source": [
        "dataset.describe()"
      ],
      "metadata": {
        "colab": {
          "base_uri": "https://localhost:8080/",
          "height": 364
        },
        "id": "rzXoRRwgdGez",
        "outputId": "5661c3c1-df7c-4c21-9a54-cdf6e3f7ecd1"
      },
      "execution_count": null,
      "outputs": [
        {
          "output_type": "execute_result",
          "data": {
            "text/plain": [
              "         male     age  education  currentSmoker  cigsPerDay  BPMeds  \\\n",
              "count 4238.00 4238.00    4133.00        4238.00     4209.00 4185.00   \n",
              "mean     0.43   49.58       1.98           0.49        9.00    0.03   \n",
              "std      0.50    8.57       1.02           0.50       11.92    0.17   \n",
              "min      0.00   32.00       1.00           0.00        0.00    0.00   \n",
              "25%      0.00   42.00       1.00           0.00        0.00    0.00   \n",
              "50%      0.00   49.00       2.00           0.00        0.00    0.00   \n",
              "75%      1.00   56.00       3.00           1.00       20.00    0.00   \n",
              "max      1.00   70.00       4.00           1.00       70.00    1.00   \n",
              "\n",
              "       prevalentStroke  prevalentHyp  diabetes  totChol   sysBP   diaBP  \\\n",
              "count          4238.00       4238.00   4238.00  4188.00 4238.00 4238.00   \n",
              "mean              0.01          0.31      0.03   236.72  132.35   82.89   \n",
              "std               0.08          0.46      0.16    44.59   22.04   11.91   \n",
              "min               0.00          0.00      0.00   107.00   83.50   48.00   \n",
              "25%               0.00          0.00      0.00   206.00  117.00   75.00   \n",
              "50%               0.00          0.00      0.00   234.00  128.00   82.00   \n",
              "75%               0.00          1.00      0.00   263.00  144.00   89.88   \n",
              "max               1.00          1.00      1.00   696.00  295.00  142.50   \n",
              "\n",
              "          BMI  heartRate  glucose  TenYearCHD  \n",
              "count 4219.00    4237.00  3850.00     4238.00  \n",
              "mean    25.80      75.88    81.97        0.15  \n",
              "std      4.08      12.03    23.96        0.36  \n",
              "min     15.54      44.00    40.00        0.00  \n",
              "25%     23.07      68.00    71.00        0.00  \n",
              "50%     25.40      75.00    78.00        0.00  \n",
              "75%     28.04      83.00    87.00        0.00  \n",
              "max     56.80     143.00   394.00        1.00  "
            ],
            "text/html": [
              "\n",
              "  <div id=\"df-bba40251-cb3d-4c9b-a29f-126c69fac1bd\">\n",
              "    <div class=\"colab-df-container\">\n",
              "      <div>\n",
              "<style scoped>\n",
              "    .dataframe tbody tr th:only-of-type {\n",
              "        vertical-align: middle;\n",
              "    }\n",
              "\n",
              "    .dataframe tbody tr th {\n",
              "        vertical-align: top;\n",
              "    }\n",
              "\n",
              "    .dataframe thead th {\n",
              "        text-align: right;\n",
              "    }\n",
              "</style>\n",
              "<table border=\"1\" class=\"dataframe\">\n",
              "  <thead>\n",
              "    <tr style=\"text-align: right;\">\n",
              "      <th></th>\n",
              "      <th>male</th>\n",
              "      <th>age</th>\n",
              "      <th>education</th>\n",
              "      <th>currentSmoker</th>\n",
              "      <th>cigsPerDay</th>\n",
              "      <th>BPMeds</th>\n",
              "      <th>prevalentStroke</th>\n",
              "      <th>prevalentHyp</th>\n",
              "      <th>diabetes</th>\n",
              "      <th>totChol</th>\n",
              "      <th>sysBP</th>\n",
              "      <th>diaBP</th>\n",
              "      <th>BMI</th>\n",
              "      <th>heartRate</th>\n",
              "      <th>glucose</th>\n",
              "      <th>TenYearCHD</th>\n",
              "    </tr>\n",
              "  </thead>\n",
              "  <tbody>\n",
              "    <tr>\n",
              "      <th>count</th>\n",
              "      <td>4238.00</td>\n",
              "      <td>4238.00</td>\n",
              "      <td>4133.00</td>\n",
              "      <td>4238.00</td>\n",
              "      <td>4209.00</td>\n",
              "      <td>4185.00</td>\n",
              "      <td>4238.00</td>\n",
              "      <td>4238.00</td>\n",
              "      <td>4238.00</td>\n",
              "      <td>4188.00</td>\n",
              "      <td>4238.00</td>\n",
              "      <td>4238.00</td>\n",
              "      <td>4219.00</td>\n",
              "      <td>4237.00</td>\n",
              "      <td>3850.00</td>\n",
              "      <td>4238.00</td>\n",
              "    </tr>\n",
              "    <tr>\n",
              "      <th>mean</th>\n",
              "      <td>0.43</td>\n",
              "      <td>49.58</td>\n",
              "      <td>1.98</td>\n",
              "      <td>0.49</td>\n",
              "      <td>9.00</td>\n",
              "      <td>0.03</td>\n",
              "      <td>0.01</td>\n",
              "      <td>0.31</td>\n",
              "      <td>0.03</td>\n",
              "      <td>236.72</td>\n",
              "      <td>132.35</td>\n",
              "      <td>82.89</td>\n",
              "      <td>25.80</td>\n",
              "      <td>75.88</td>\n",
              "      <td>81.97</td>\n",
              "      <td>0.15</td>\n",
              "    </tr>\n",
              "    <tr>\n",
              "      <th>std</th>\n",
              "      <td>0.50</td>\n",
              "      <td>8.57</td>\n",
              "      <td>1.02</td>\n",
              "      <td>0.50</td>\n",
              "      <td>11.92</td>\n",
              "      <td>0.17</td>\n",
              "      <td>0.08</td>\n",
              "      <td>0.46</td>\n",
              "      <td>0.16</td>\n",
              "      <td>44.59</td>\n",
              "      <td>22.04</td>\n",
              "      <td>11.91</td>\n",
              "      <td>4.08</td>\n",
              "      <td>12.03</td>\n",
              "      <td>23.96</td>\n",
              "      <td>0.36</td>\n",
              "    </tr>\n",
              "    <tr>\n",
              "      <th>min</th>\n",
              "      <td>0.00</td>\n",
              "      <td>32.00</td>\n",
              "      <td>1.00</td>\n",
              "      <td>0.00</td>\n",
              "      <td>0.00</td>\n",
              "      <td>0.00</td>\n",
              "      <td>0.00</td>\n",
              "      <td>0.00</td>\n",
              "      <td>0.00</td>\n",
              "      <td>107.00</td>\n",
              "      <td>83.50</td>\n",
              "      <td>48.00</td>\n",
              "      <td>15.54</td>\n",
              "      <td>44.00</td>\n",
              "      <td>40.00</td>\n",
              "      <td>0.00</td>\n",
              "    </tr>\n",
              "    <tr>\n",
              "      <th>25%</th>\n",
              "      <td>0.00</td>\n",
              "      <td>42.00</td>\n",
              "      <td>1.00</td>\n",
              "      <td>0.00</td>\n",
              "      <td>0.00</td>\n",
              "      <td>0.00</td>\n",
              "      <td>0.00</td>\n",
              "      <td>0.00</td>\n",
              "      <td>0.00</td>\n",
              "      <td>206.00</td>\n",
              "      <td>117.00</td>\n",
              "      <td>75.00</td>\n",
              "      <td>23.07</td>\n",
              "      <td>68.00</td>\n",
              "      <td>71.00</td>\n",
              "      <td>0.00</td>\n",
              "    </tr>\n",
              "    <tr>\n",
              "      <th>50%</th>\n",
              "      <td>0.00</td>\n",
              "      <td>49.00</td>\n",
              "      <td>2.00</td>\n",
              "      <td>0.00</td>\n",
              "      <td>0.00</td>\n",
              "      <td>0.00</td>\n",
              "      <td>0.00</td>\n",
              "      <td>0.00</td>\n",
              "      <td>0.00</td>\n",
              "      <td>234.00</td>\n",
              "      <td>128.00</td>\n",
              "      <td>82.00</td>\n",
              "      <td>25.40</td>\n",
              "      <td>75.00</td>\n",
              "      <td>78.00</td>\n",
              "      <td>0.00</td>\n",
              "    </tr>\n",
              "    <tr>\n",
              "      <th>75%</th>\n",
              "      <td>1.00</td>\n",
              "      <td>56.00</td>\n",
              "      <td>3.00</td>\n",
              "      <td>1.00</td>\n",
              "      <td>20.00</td>\n",
              "      <td>0.00</td>\n",
              "      <td>0.00</td>\n",
              "      <td>1.00</td>\n",
              "      <td>0.00</td>\n",
              "      <td>263.00</td>\n",
              "      <td>144.00</td>\n",
              "      <td>89.88</td>\n",
              "      <td>28.04</td>\n",
              "      <td>83.00</td>\n",
              "      <td>87.00</td>\n",
              "      <td>0.00</td>\n",
              "    </tr>\n",
              "    <tr>\n",
              "      <th>max</th>\n",
              "      <td>1.00</td>\n",
              "      <td>70.00</td>\n",
              "      <td>4.00</td>\n",
              "      <td>1.00</td>\n",
              "      <td>70.00</td>\n",
              "      <td>1.00</td>\n",
              "      <td>1.00</td>\n",
              "      <td>1.00</td>\n",
              "      <td>1.00</td>\n",
              "      <td>696.00</td>\n",
              "      <td>295.00</td>\n",
              "      <td>142.50</td>\n",
              "      <td>56.80</td>\n",
              "      <td>143.00</td>\n",
              "      <td>394.00</td>\n",
              "      <td>1.00</td>\n",
              "    </tr>\n",
              "  </tbody>\n",
              "</table>\n",
              "</div>\n",
              "      <button class=\"colab-df-convert\" onclick=\"convertToInteractive('df-bba40251-cb3d-4c9b-a29f-126c69fac1bd')\"\n",
              "              title=\"Convert this dataframe to an interactive table.\"\n",
              "              style=\"display:none;\">\n",
              "        \n",
              "  <svg xmlns=\"http://www.w3.org/2000/svg\" height=\"24px\"viewBox=\"0 0 24 24\"\n",
              "       width=\"24px\">\n",
              "    <path d=\"M0 0h24v24H0V0z\" fill=\"none\"/>\n",
              "    <path d=\"M18.56 5.44l.94 2.06.94-2.06 2.06-.94-2.06-.94-.94-2.06-.94 2.06-2.06.94zm-11 1L8.5 8.5l.94-2.06 2.06-.94-2.06-.94L8.5 2.5l-.94 2.06-2.06.94zm10 10l.94 2.06.94-2.06 2.06-.94-2.06-.94-.94-2.06-.94 2.06-2.06.94z\"/><path d=\"M17.41 7.96l-1.37-1.37c-.4-.4-.92-.59-1.43-.59-.52 0-1.04.2-1.43.59L10.3 9.45l-7.72 7.72c-.78.78-.78 2.05 0 2.83L4 21.41c.39.39.9.59 1.41.59.51 0 1.02-.2 1.41-.59l7.78-7.78 2.81-2.81c.8-.78.8-2.07 0-2.86zM5.41 20L4 18.59l7.72-7.72 1.47 1.35L5.41 20z\"/>\n",
              "  </svg>\n",
              "      </button>\n",
              "      \n",
              "  <style>\n",
              "    .colab-df-container {\n",
              "      display:flex;\n",
              "      flex-wrap:wrap;\n",
              "      gap: 12px;\n",
              "    }\n",
              "\n",
              "    .colab-df-convert {\n",
              "      background-color: #E8F0FE;\n",
              "      border: none;\n",
              "      border-radius: 50%;\n",
              "      cursor: pointer;\n",
              "      display: none;\n",
              "      fill: #1967D2;\n",
              "      height: 32px;\n",
              "      padding: 0 0 0 0;\n",
              "      width: 32px;\n",
              "    }\n",
              "\n",
              "    .colab-df-convert:hover {\n",
              "      background-color: #E2EBFA;\n",
              "      box-shadow: 0px 1px 2px rgba(60, 64, 67, 0.3), 0px 1px 3px 1px rgba(60, 64, 67, 0.15);\n",
              "      fill: #174EA6;\n",
              "    }\n",
              "\n",
              "    [theme=dark] .colab-df-convert {\n",
              "      background-color: #3B4455;\n",
              "      fill: #D2E3FC;\n",
              "    }\n",
              "\n",
              "    [theme=dark] .colab-df-convert:hover {\n",
              "      background-color: #434B5C;\n",
              "      box-shadow: 0px 1px 3px 1px rgba(0, 0, 0, 0.15);\n",
              "      filter: drop-shadow(0px 1px 2px rgba(0, 0, 0, 0.3));\n",
              "      fill: #FFFFFF;\n",
              "    }\n",
              "  </style>\n",
              "\n",
              "      <script>\n",
              "        const buttonEl =\n",
              "          document.querySelector('#df-bba40251-cb3d-4c9b-a29f-126c69fac1bd button.colab-df-convert');\n",
              "        buttonEl.style.display =\n",
              "          google.colab.kernel.accessAllowed ? 'block' : 'none';\n",
              "\n",
              "        async function convertToInteractive(key) {\n",
              "          const element = document.querySelector('#df-bba40251-cb3d-4c9b-a29f-126c69fac1bd');\n",
              "          const dataTable =\n",
              "            await google.colab.kernel.invokeFunction('convertToInteractive',\n",
              "                                                     [key], {});\n",
              "          if (!dataTable) return;\n",
              "\n",
              "          const docLinkHtml = 'Like what you see? Visit the ' +\n",
              "            '<a target=\"_blank\" href=https://colab.research.google.com/notebooks/data_table.ipynb>data table notebook</a>'\n",
              "            + ' to learn more about interactive tables.';\n",
              "          element.innerHTML = '';\n",
              "          dataTable['output_type'] = 'display_data';\n",
              "          await google.colab.output.renderOutput(dataTable, element);\n",
              "          const docLink = document.createElement('div');\n",
              "          docLink.innerHTML = docLinkHtml;\n",
              "          element.appendChild(docLink);\n",
              "        }\n",
              "      </script>\n",
              "    </div>\n",
              "  </div>\n",
              "  "
            ]
          },
          "metadata": {},
          "execution_count": 96
        }
      ]
    },
    {
      "cell_type": "markdown",
      "source": [
        "**Data Pre-processing**"
      ],
      "metadata": {
        "id": "WrUV6kCOdihZ"
      }
    },
    {
      "cell_type": "code",
      "source": [
        "count=0\n",
        "for i in dataset.isnull().sum(axis=1):\n",
        "    if i>0:\n",
        "        count=count+1\n",
        "print('Total number of rows with missing values is ', count)\n",
        "print('Since the number of rows with missing values are only',round((count/len(dataset.index))*100), '% of the entire dataset given, we decide to drop the rows with the missing or NaN values.')"
      ],
      "metadata": {
        "colab": {
          "base_uri": "https://localhost:8080/"
        },
        "id": "lv-NDirXdGmZ",
        "outputId": "8329e5a4-15cd-4d33-b29d-9b2e11f6b94d"
      },
      "execution_count": null,
      "outputs": [
        {
          "output_type": "stream",
          "name": "stdout",
          "text": [
            "Total number of rows with missing values is  582\n",
            "Since the number of rows with missing values are only 14 % of the entire dataset given, we decide to drop the rows with the missing or NaN values.\n"
          ]
        }
      ]
    },
    {
      "cell_type": "code",
      "source": [
        "dataset = dataset.dropna()"
      ],
      "metadata": {
        "id": "IOiEhd-jdGsJ"
      },
      "execution_count": null,
      "outputs": []
    },
    {
      "cell_type": "code",
      "source": [
        "dataset.isnull().sum()"
      ],
      "metadata": {
        "colab": {
          "base_uri": "https://localhost:8080/"
        },
        "id": "t_GFpO1TdGto",
        "outputId": "0ca82866-da71-4216-d0a7-440e27dba3dd"
      },
      "execution_count": null,
      "outputs": [
        {
          "output_type": "execute_result",
          "data": {
            "text/plain": [
              "male               0\n",
              "age                0\n",
              "education          0\n",
              "currentSmoker      0\n",
              "cigsPerDay         0\n",
              "BPMeds             0\n",
              "prevalentStroke    0\n",
              "prevalentHyp       0\n",
              "diabetes           0\n",
              "totChol            0\n",
              "sysBP              0\n",
              "diaBP              0\n",
              "BMI                0\n",
              "heartRate          0\n",
              "glucose            0\n",
              "TenYearCHD         0\n",
              "dtype: int64"
            ]
          },
          "metadata": {},
          "execution_count": 99
        }
      ]
    },
    {
      "cell_type": "code",
      "source": [
        "dataset.shape"
      ],
      "metadata": {
        "colab": {
          "base_uri": "https://localhost:8080/"
        },
        "id": "8QZFeyu7ebpp",
        "outputId": "071db4b4-b479-4920-baf7-f85ebc713ecf"
      },
      "execution_count": null,
      "outputs": [
        {
          "output_type": "execute_result",
          "data": {
            "text/plain": [
              "(3656, 16)"
            ]
          },
          "metadata": {},
          "execution_count": 100
        }
      ]
    },
    {
      "cell_type": "code",
      "source": [
        "dataset.mean()"
      ],
      "metadata": {
        "colab": {
          "base_uri": "https://localhost:8080/"
        },
        "id": "_qj6u6SweiRs",
        "outputId": "774cac2a-2b81-4ecf-cbc9-4f12a80bcb2f"
      },
      "execution_count": null,
      "outputs": [
        {
          "output_type": "execute_result",
          "data": {
            "text/plain": [
              "male                0.44\n",
              "age                49.56\n",
              "education           1.98\n",
              "currentSmoker       0.49\n",
              "cigsPerDay          9.02\n",
              "BPMeds              0.03\n",
              "prevalentStroke     0.01\n",
              "prevalentHyp        0.31\n",
              "diabetes            0.03\n",
              "totChol           236.87\n",
              "sysBP             132.37\n",
              "diaBP              82.91\n",
              "BMI                25.78\n",
              "heartRate          75.73\n",
              "glucose            81.86\n",
              "TenYearCHD          0.15\n",
              "dtype: float64"
            ]
          },
          "metadata": {},
          "execution_count": 101
        }
      ]
    },
    {
      "cell_type": "markdown",
      "source": [
        "**Removing outliers**"
      ],
      "metadata": {
        "id": "bcmMImeeetkL"
      }
    },
    {
      "cell_type": "code",
      "source": [
        "dataset.boxplot(column='cigsPerDay')"
      ],
      "metadata": {
        "colab": {
          "base_uri": "https://localhost:8080/",
          "height": 282
        },
        "id": "zbJDK7NJenLv",
        "outputId": "dbb1705d-09fb-4dae-e201-594de8cbaa1e"
      },
      "execution_count": null,
      "outputs": [
        {
          "output_type": "execute_result",
          "data": {
            "text/plain": [
              "<Axes: >"
            ]
          },
          "metadata": {},
          "execution_count": 102
        },
        {
          "output_type": "display_data",
          "data": {
            "text/plain": [
              "<Figure size 432x288 with 1 Axes>"
            ],
            "image/png": "[encoded data removed]"
          },
          "metadata": {
            "needs_background": "light"
          }
        }
      ]
    },
    {
      "cell_type": "code",
      "source": [
        "dataset.loc[dataset['cigsPerDay'] > 59, 'cigsPerDay'] = 9.02"
      ],
      "metadata": {
        "id": "XwwyLlgHenS7"
      },
      "execution_count": null,
      "outputs": []
    },
    {
      "cell_type": "code",
      "source": [
        "dataset.boxplot(column='cigsPerDay') #after removing outliers"
      ],
      "metadata": {
        "colab": {
          "base_uri": "https://localhost:8080/",
          "height": 282
        },
        "id": "4Q4IzX0ZencE",
        "outputId": "f2bd0b1a-9dee-435c-f33d-d7a057ce944f"
      },
      "execution_count": null,
      "outputs": [
        {
          "output_type": "execute_result",
          "data": {
            "text/plain": [
              "<Axes: >"
            ]
          },
          "metadata": {},
          "execution_count": 104
        },
        {
          "output_type": "display_data",
          "data": {
            "text/plain": [
              "<Figure size 432x288 with 1 Axes>"
            ],
            "image/png": "[encoded data removed]"
          },
          "metadata": {
            "needs_background": "light"
          }
        }
      ]
    },
    {
      "cell_type": "code",
      "source": [
        "dataset['totChol'].describe()"
      ],
      "metadata": {
        "colab": {
          "base_uri": "https://localhost:8080/"
        },
        "id": "DQKQ41-senoB",
        "outputId": "9d4c20ac-6478-4d76-938f-e154cb1e6cf6"
      },
      "execution_count": null,
      "outputs": [
        {
          "output_type": "execute_result",
          "data": {
            "text/plain": [
              "count   3656.00\n",
              "mean     236.87\n",
              "std       44.10\n",
              "min      113.00\n",
              "25%      206.00\n",
              "50%      234.00\n",
              "75%      263.25\n",
              "max      600.00\n",
              "Name: totChol, dtype: float64"
            ]
          },
          "metadata": {},
          "execution_count": 105
        }
      ]
    },
    {
      "cell_type": "code",
      "source": [
        "dataset.boxplot(column='totChol')"
      ],
      "metadata": {
        "colab": {
          "base_uri": "https://localhost:8080/",
          "height": 282
        },
        "id": "nCryBm62gB6B",
        "outputId": "843bfd81-d653-46df-f8fa-d1b157b0c2ef"
      },
      "execution_count": null,
      "outputs": [
        {
          "output_type": "execute_result",
          "data": {
            "text/plain": [
              "<Axes: >"
            ]
          },
          "metadata": {},
          "execution_count": 106
        },
        {
          "output_type": "display_data",
          "data": {
            "text/plain": [
              "<Figure size 432x288 with 1 Axes>"
            ],
            "image/png": "[encoded data removed]"
          },
          "metadata": {
            "needs_background": "light"
          }
        }
      ]
    },
    {
      "cell_type": "code",
      "source": [
        "dataset.loc[dataset['totChol'] > 480, 'totChol'] = 237"
      ],
      "metadata": {
        "id": "ZBZW3pzdgJvN"
      },
      "execution_count": null,
      "outputs": []
    },
    {
      "cell_type": "code",
      "source": [
        "dataset.boxplot(column='totChol')"
      ],
      "metadata": {
        "colab": {
          "base_uri": "https://localhost:8080/",
          "height": 282
        },
        "id": "Femh2wlkgJ5t",
        "outputId": "6df273e1-a586-4e21-fda2-0e52c759b85c"
      },
      "execution_count": null,
      "outputs": [
        {
          "output_type": "execute_result",
          "data": {
            "text/plain": [
              "<Axes: >"
            ]
          },
          "metadata": {},
          "execution_count": 108
        },
        {
          "output_type": "display_data",
          "data": {
            "text/plain": [
              "<Figure size 432x288 with 1 Axes>"
            ],
            "image/png": "[encoded data removed]"
          },
          "metadata": {
            "needs_background": "light"
          }
        }
      ]
    },
    {
      "cell_type": "code",
      "source": [
        "dataset['sysBP'].describe()"
      ],
      "metadata": {
        "colab": {
          "base_uri": "https://localhost:8080/"
        },
        "id": "FnDP7l-JgJ7c",
        "outputId": "edb040e3-ee20-4582-de1b-e5ec4dc439a2"
      },
      "execution_count": null,
      "outputs": [
        {
          "output_type": "execute_result",
          "data": {
            "text/plain": [
              "count   3656.00\n",
              "mean     132.37\n",
              "std       22.09\n",
              "min       83.50\n",
              "25%      117.00\n",
              "50%      128.00\n",
              "75%      144.00\n",
              "max      295.00\n",
              "Name: sysBP, dtype: float64"
            ]
          },
          "metadata": {},
          "execution_count": 109
        }
      ]
    },
    {
      "cell_type": "code",
      "source": [
        "dataset.boxplot(column='sysBP')"
      ],
      "metadata": {
        "colab": {
          "base_uri": "https://localhost:8080/",
          "height": 282
        },
        "id": "8BNUttQXf8TT",
        "outputId": "835fa159-7ff8-4816-d564-df2c194840a7"
      },
      "execution_count": null,
      "outputs": [
        {
          "output_type": "execute_result",
          "data": {
            "text/plain": [
              "<Axes: >"
            ]
          },
          "metadata": {},
          "execution_count": 110
        },
        {
          "output_type": "display_data",
          "data": {
            "text/plain": [
              "<Figure size 432x288 with 1 Axes>"
            ],
            "image/png": "[encoded data removed]"
          },
          "metadata": {
            "needs_background": "light"
          }
        }
      ]
    },
    {
      "cell_type": "code",
      "source": [
        "dataset.loc[dataset['sysBP'] > 270, 'sysBP'] = dataset['sysBP'].median()"
      ],
      "metadata": {
        "id": "zkQVES7thDNT"
      },
      "execution_count": null,
      "outputs": []
    },
    {
      "cell_type": "code",
      "source": [
        "dataset.boxplot(column='sysBP') #After removing the outliers"
      ],
      "metadata": {
        "colab": {
          "base_uri": "https://localhost:8080/",
          "height": 282
        },
        "id": "N1Eaf6ADhNu3",
        "outputId": "86da9921-f8da-4e21-f02c-c8f5fcdcde4a"
      },
      "execution_count": null,
      "outputs": [
        {
          "output_type": "execute_result",
          "data": {
            "text/plain": [
              "<Axes: >"
            ]
          },
          "metadata": {},
          "execution_count": 112
        },
        {
          "output_type": "display_data",
          "data": {
            "text/plain": [
              "<Figure size 432x288 with 1 Axes>"
            ],
            "image/png": "[encoded data removed]"
          },
          "metadata": {
            "needs_background": "light"
          }
        }
      ]
    },
    {
      "cell_type": "code",
      "source": [
        "dataset['BMI'].describe()"
      ],
      "metadata": {
        "colab": {
          "base_uri": "https://localhost:8080/"
        },
        "id": "v3og-HRchVKl",
        "outputId": "a8581da0-6d4d-4976-8e38-380d330f7729"
      },
      "execution_count": null,
      "outputs": [
        {
          "output_type": "execute_result",
          "data": {
            "text/plain": [
              "count   3656.00\n",
              "mean      25.78\n",
              "std        4.07\n",
              "min       15.54\n",
              "25%       23.08\n",
              "50%       25.38\n",
              "75%       28.04\n",
              "max       56.80\n",
              "Name: BMI, dtype: float64"
            ]
          },
          "metadata": {},
          "execution_count": 113
        }
      ]
    },
    {
      "cell_type": "code",
      "source": [
        "dataset.boxplot(column='BMI')"
      ],
      "metadata": {
        "colab": {
          "base_uri": "https://localhost:8080/",
          "height": 282
        },
        "id": "-P3UTdIkhlNm",
        "outputId": "bffa1b2a-41ab-45a0-8568-3e949d52c428"
      },
      "execution_count": null,
      "outputs": [
        {
          "output_type": "execute_result",
          "data": {
            "text/plain": [
              "<Axes: >"
            ]
          },
          "metadata": {},
          "execution_count": 114
        },
        {
          "output_type": "display_data",
          "data": {
            "text/plain": [
              "<Figure size 432x288 with 1 Axes>"
            ],
            "image/png": "[encoded data removed]"
          },
          "metadata": {
            "needs_background": "light"
          }
        }
      ]
    },
    {
      "cell_type": "code",
      "source": [
        "dataset.loc[dataset['BMI'] > 49, 'BMI'] = dataset['BMI'].median()"
      ],
      "metadata": {
        "id": "zg8RCjIciBcV"
      },
      "execution_count": null,
      "outputs": []
    },
    {
      "cell_type": "code",
      "source": [
        "dataset.boxplot(column='BMI') #After removing the outliers"
      ],
      "metadata": {
        "colab": {
          "base_uri": "https://localhost:8080/",
          "height": 282
        },
        "id": "20IkkVIXiH9d",
        "outputId": "e546949c-b889-4de1-83c9-f34f33afbcbb"
      },
      "execution_count": null,
      "outputs": [
        {
          "output_type": "execute_result",
          "data": {
            "text/plain": [
              "<Axes: >"
            ]
          },
          "metadata": {},
          "execution_count": 116
        },
        {
          "output_type": "display_data",
          "data": {
            "text/plain": [
              "<Figure size 432x288 with 1 Axes>"
            ],
            "image/png": "[encoded data removed]"
          },
          "metadata": {
            "needs_background": "light"
          }
        }
      ]
    },
    {
      "cell_type": "code",
      "source": [
        "dataset['heartRate'].describe()"
      ],
      "metadata": {
        "colab": {
          "base_uri": "https://localhost:8080/"
        },
        "id": "2YW20E-2iNgI",
        "outputId": "970e9e75-ba06-463a-87f5-e9c94f4ac720"
      },
      "execution_count": null,
      "outputs": [
        {
          "output_type": "execute_result",
          "data": {
            "text/plain": [
              "count   3656.00\n",
              "mean      75.73\n",
              "std       11.98\n",
              "min       44.00\n",
              "25%       68.00\n",
              "50%       75.00\n",
              "75%       82.00\n",
              "max      143.00\n",
              "Name: heartRate, dtype: float64"
            ]
          },
          "metadata": {},
          "execution_count": 117
        }
      ]
    },
    {
      "cell_type": "code",
      "source": [
        "dataset.boxplot(column='heartRate')"
      ],
      "metadata": {
        "colab": {
          "base_uri": "https://localhost:8080/",
          "height": 282
        },
        "id": "uH9ICpkCidYS",
        "outputId": "a704d6cd-3b47-4311-f862-04d3e5aff8eb"
      },
      "execution_count": null,
      "outputs": [
        {
          "output_type": "execute_result",
          "data": {
            "text/plain": [
              "<Axes: >"
            ]
          },
          "metadata": {},
          "execution_count": 118
        },
        {
          "output_type": "display_data",
          "data": {
            "text/plain": [
              "<Figure size 432x288 with 1 Axes>"
            ],
            "image/png": "[encoded data removed]"
          },
          "metadata": {
            "needs_background": "light"
          }
        }
      ]
    },
    {
      "cell_type": "code",
      "source": [
        "dataset['glucose'].describe()"
      ],
      "metadata": {
        "colab": {
          "base_uri": "https://localhost:8080/"
        },
        "id": "yt5mv7W0idad",
        "outputId": "2062b9d3-d229-4ca1-afee-a2d26e388530"
      },
      "execution_count": null,
      "outputs": [
        {
          "output_type": "execute_result",
          "data": {
            "text/plain": [
              "count   3656.00\n",
              "mean      81.86\n",
              "std       23.91\n",
              "min       40.00\n",
              "25%       71.00\n",
              "50%       78.00\n",
              "75%       87.00\n",
              "max      394.00\n",
              "Name: glucose, dtype: float64"
            ]
          },
          "metadata": {},
          "execution_count": 119
        }
      ]
    },
    {
      "cell_type": "code",
      "source": [
        "dataset.boxplot(column='glucose')"
      ],
      "metadata": {
        "colab": {
          "base_uri": "https://localhost:8080/",
          "height": 282
        },
        "id": "1_IC-77Dide1",
        "outputId": "403b49d9-78f9-4bc3-e590-98452cf92233"
      },
      "execution_count": null,
      "outputs": [
        {
          "output_type": "execute_result",
          "data": {
            "text/plain": [
              "<Axes: >"
            ]
          },
          "metadata": {},
          "execution_count": 120
        },
        {
          "output_type": "display_data",
          "data": {
            "text/plain": [
              "<Figure size 432x288 with 1 Axes>"
            ],
            "image/png": "[encoded data removed]"
          },
          "metadata": {
            "needs_background": "light"
          }
        }
      ]
    },
    {
      "cell_type": "markdown",
      "source": [
        "Above we observed that the Glucose level and Heart Rate have not been changed although their boxplots show some outliers, i.e., becuase these levels differ variedly from person to person and can be too high or too low depending upon the person's health."
      ],
      "metadata": {
        "id": "yM25z8C9inlE"
      }
    },
    {
      "cell_type": "markdown",
      "source": [
        "**EDA PROCESS**"
      ],
      "metadata": {
        "id": "toBPZxnZjLi2"
      }
    },
    {
      "cell_type": "markdown",
      "source": [
        "EDA is the process of investigating the dataset to discover patterns, and anomalies (outliers), and form hypotheses based on our understanding of the dataset. EDA involves generating summary statistics for numerical data in the dataset and creating various graphical representations to understand the data better."
      ],
      "metadata": {
        "id": "V-chh7f0jVIm"
      }
    },
    {
      "cell_type": "code",
      "source": [
        "for i in range(len(dataset.columns[:-1])):\n",
        "    label = dataset.columns[i]\n",
        "    plt.hist(dataset[dataset['TenYearCHD'] == 1][label], color = 'blue', label= 'Person has Heart Disease' ,alpha = 0.4, bins=15)\n",
        "    plt.hist(dataset[dataset['TenYearCHD'] == 0][label], color = 'red', label= 'Person doesnt have Heart Disease', alpha = 0.4, bins=15)\n",
        "    plt.title(label)\n",
        "    plt.ylabel('Probability')\n",
        "    plt.xlabel(label)\n",
        "    plt.legend()\n",
        "    plt.show()"
      ],
      "metadata": {
        "colab": {
          "base_uri": "https://localhost:8080/",
          "height": 1000
        },
        "id": "UDaIeh6DjKoq",
        "outputId": "a64c60ac-6cb2-4ab5-fd0b-4f9bb2f406ad"
      },
      "execution_count": null,
      "outputs": [
        {
          "output_type": "display_data",
          "data": {
            "text/plain": [
              "<Figure size 432x288 with 1 Axes>"
            ],
            "image/png": "[encoded data removed]"
          },
          "metadata": {
            "needs_background": "light"
          }
        },
        {
          "output_type": "display_data",
          "data": {
            "text/plain": [
              "<Figure size 432x288 with 1 Axes>"
            ],
            "image/png": "[encoded data removed]"
          },
          "metadata": {
            "needs_background": "light"
          }
        },
        {
          "output_type": "display_data",
          "data": {
            "text/plain": [
              "<Figure size 432x288 with 1 Axes>"
            ],
            "image/png": "[encoded data removed]"
          },
          "metadata": {
            "needs_background": "light"
          }
        },
        {
          "output_type": "display_data",
          "data": {
            "text/plain": [
              "<Figure size 432x288 with 1 Axes>"
            ],
            "image/png": "[encoded data removed]"
          },
          "metadata": {
            "needs_background": "light"
          }
        },
        {
          "output_type": "display_data",
          "data": {
            "text/plain": [
              "<Figure size 432x288 with 1 Axes>"
            ],
            "image/png": "[encoded data removed]"
          },
          "metadata": {
            "needs_background": "light"
          }
        },
        {
          "output_type": "display_data",
          "data": {
            "text/plain": [
              "<Figure size 432x288 with 1 Axes>"
            ],
            "image/png": "[encoded data removed]"
          },
          "metadata": {
            "needs_background": "light"
          }
        },
        {
          "output_type": "display_data",
          "data": {
            "text/plain": [
              "<Figure size 432x288 with 1 Axes>"
            ],
            "image/png": "[encoded data removed]"
          },
          "metadata": {
            "needs_background": "light"
          }
        },
        {
          "output_type": "display_data",
          "data": {
            "text/plain": [
              "<Figure size 432x288 with 1 Axes>"
            ],
            "image/png": "[encoded data removed]"
          },
          "metadata": {
            "needs_background": "light"
          }
        },
        {
          "output_type": "display_data",
          "data": {
            "text/plain": [
              "<Figure size 432x288 with 1 Axes>"
            ],
            "image/png": "[encoded data removed]"
          },
          "metadata": {
            "needs_background": "light"
          }
        },
        {
          "output_type": "display_data",
          "data": {
            "text/plain": [
              "<Figure size 432x288 with 1 Axes>"
            ],
            "image/png": "[encoded data removed]"
          },
          "metadata": {
            "needs_background": "light"
          }
        },
        {
          "output_type": "display_data",
          "data": {
            "text/plain": [
              "<Figure size 432x288 with 1 Axes>"
            ],
            "image/png": "[encoded data removed]"
          },
          "metadata": {
            "needs_background": "light"
          }
        },
        {
          "output_type": "display_data",
          "data": {
            "text/plain": [
              "<Figure size 432x288 with 1 Axes>"
            ],
            "image/png": "[encoded data removed]"
          },
          "metadata": {
            "needs_background": "light"
          }
        },
        {
          "output_type": "display_data",
          "data": {
            "text/plain": [
              "<Figure size 432x288 with 1 Axes>"
            ],
            "image/png": "[encoded data removed]"
          },
          "metadata": {
            "needs_background": "light"
          }
        },
        {
          "output_type": "display_data",
          "data": {
            "text/plain": [
              "<Figure size 432x288 with 1 Axes>"
            ],
            "image/png": "[encoded data removed]"
          },
          "metadata": {
            "needs_background": "light"
          }
        },
        {
          "output_type": "display_data",
          "data": {
            "text/plain": [
              "<Figure size 432x288 with 1 Axes>"
            ],
            "image/png": "[encoded data removed]"
          },
          "metadata": {
            "needs_background": "light"
          }
        }
      ]
    },
    {
      "cell_type": "code",
      "source": [
        "import seaborn as sns\n",
        "cor=dataset.corr()\n",
        "plt.figure(figsize=(20,10), facecolor='w')\n",
        "sns.heatmap(cor,xticklabels=cor.columns,yticklabels=cor.columns,annot=True)\n",
        "plt.title(\"Correlation among all the Variables of the Dataset\", size=20)\n",
        "cor"
      ],
      "metadata": {
        "colab": {
          "base_uri": "https://localhost:8080/",
          "height": 1000
        },
        "id": "NjdKQKAfidsq",
        "outputId": "8e3aa16d-6d7e-434e-9e69-af39cdbe34c5"
      },
      "execution_count": null,
      "outputs": [
        {
          "output_type": "execute_result",
          "data": {
            "text/plain": [
              "                 male   age  education  currentSmoker  cigsPerDay  BPMeds  \\\n",
              "male             1.00 -0.02       0.02           0.21        0.33   -0.05   \n",
              "age             -0.02  1.00      -0.16          -0.21       -0.19    0.13   \n",
              "education        0.02 -0.16       1.00           0.03        0.02   -0.01   \n",
              "currentSmoker    0.21 -0.21       0.03           1.00        0.78   -0.05   \n",
              "cigsPerDay       0.33 -0.19       0.02           0.78        1.00   -0.05   \n",
              "BPMeds          -0.05  0.13      -0.01          -0.05       -0.05    1.00   \n",
              "prevalentStroke -0.00  0.05      -0.03          -0.04       -0.04    0.11   \n",
              "prevalentHyp     0.00  0.31      -0.08          -0.11       -0.08    0.26   \n",
              "diabetes         0.01  0.11      -0.04          -0.04       -0.04    0.05   \n",
              "totChol         -0.07  0.27      -0.01          -0.05       -0.04    0.10   \n",
              "sysBP           -0.04  0.39      -0.12          -0.13       -0.10    0.27   \n",
              "diaBP            0.05  0.21      -0.06          -0.12       -0.06    0.20   \n",
              "BMI              0.08  0.14      -0.14          -0.16       -0.09    0.10   \n",
              "heartRate       -0.11 -0.00      -0.06           0.05        0.06    0.01   \n",
              "glucose          0.00  0.12      -0.03          -0.05       -0.05    0.05   \n",
              "TenYearCHD       0.09  0.23      -0.06           0.02        0.06    0.09   \n",
              "\n",
              "                 prevalentStroke  prevalentHyp  diabetes  totChol  sysBP  \\\n",
              "male                       -0.00          0.00      0.01    -0.07  -0.04   \n",
              "age                         0.05          0.31      0.11     0.27   0.39   \n",
              "education                  -0.03         -0.08     -0.04    -0.01  -0.12   \n",
              "currentSmoker              -0.04         -0.11     -0.04    -0.05  -0.13   \n",
              "cigsPerDay                 -0.04         -0.08     -0.04    -0.04  -0.10   \n",
              "BPMeds                      0.11          0.26      0.05     0.10   0.27   \n",
              "prevalentStroke             1.00          0.07      0.01     0.01   0.06   \n",
              "prevalentHyp                0.07          1.00      0.08     0.17   0.70   \n",
              "diabetes                    0.01          0.08      1.00     0.04   0.10   \n",
              "totChol                     0.01          0.17      0.04     1.00   0.22   \n",
              "sysBP                       0.06          0.70      0.10     0.22   1.00   \n",
              "diaBP                       0.06          0.62      0.05     0.17   0.78   \n",
              "BMI                         0.01          0.30      0.09     0.12   0.32   \n",
              "heartRate                  -0.02          0.15      0.06     0.09   0.18   \n",
              "glucose                     0.02          0.09      0.61     0.04   0.14   \n",
              "TenYearCHD                  0.05          0.18      0.09     0.09   0.22   \n",
              "\n",
              "                 diaBP   BMI  heartRate  glucose  TenYearCHD  \n",
              "male              0.05  0.08      -0.11     0.00        0.09  \n",
              "age               0.21  0.14      -0.00     0.12        0.23  \n",
              "education        -0.06 -0.14      -0.06    -0.03       -0.06  \n",
              "currentSmoker    -0.12 -0.16       0.05    -0.05        0.02  \n",
              "cigsPerDay       -0.06 -0.09       0.06    -0.05        0.06  \n",
              "BPMeds            0.20  0.10       0.01     0.05        0.09  \n",
              "prevalentStroke   0.06  0.01      -0.02     0.02        0.05  \n",
              "prevalentHyp      0.62  0.30       0.15     0.09        0.18  \n",
              "diabetes          0.05  0.09       0.06     0.61        0.09  \n",
              "totChol           0.17  0.12       0.09     0.04        0.09  \n",
              "sysBP             0.78  0.32       0.18     0.14        0.22  \n",
              "diaBP             1.00  0.38       0.18     0.06        0.15  \n",
              "BMI               0.38  1.00       0.07     0.08        0.08  \n",
              "heartRate         0.18  0.07       1.00     0.10        0.02  \n",
              "glucose           0.06  0.08       0.10     1.00        0.12  \n",
              "TenYearCHD        0.15  0.08       0.02     0.12        1.00  "
            ],
            "text/html": [
              "\n",
              "  <div id=\"df-23a68ba4-89d7-4799-b345-89b4ca43f9ba\">\n",
              "    <div class=\"colab-df-container\">\n",
              "      <div>\n",
              "<style scoped>\n",
              "    .dataframe tbody tr th:only-of-type {\n",
              "        vertical-align: middle;\n",
              "    }\n",
              "\n",
              "    .dataframe tbody tr th {\n",
              "        vertical-align: top;\n",
              "    }\n",
              "\n",
              "    .dataframe thead th {\n",
              "        text-align: right;\n",
              "    }\n",
              "</style>\n",
              "<table border=\"1\" class=\"dataframe\">\n",
              "  <thead>\n",
              "    <tr style=\"text-align: right;\">\n",
              "      <th></th>\n",
              "      <th>male</th>\n",
              "      <th>age</th>\n",
              "      <th>education</th>\n",
              "      <th>currentSmoker</th>\n",
              "      <th>cigsPerDay</th>\n",
              "      <th>BPMeds</th>\n",
              "      <th>prevalentStroke</th>\n",
              "      <th>prevalentHyp</th>\n",
              "      <th>diabetes</th>\n",
              "      <th>totChol</th>\n",
              "      <th>sysBP</th>\n",
              "      <th>diaBP</th>\n",
              "      <th>BMI</th>\n",
              "      <th>heartRate</th>\n",
              "      <th>glucose</th>\n",
              "      <th>TenYearCHD</th>\n",
              "    </tr>\n",
              "  </thead>\n",
              "  <tbody>\n",
              "    <tr>\n",
              "      <th>male</th>\n",
              "      <td>1.00</td>\n",
              "      <td>-0.02</td>\n",
              "      <td>0.02</td>\n",
              "      <td>0.21</td>\n",
              "      <td>0.33</td>\n",
              "      <td>-0.05</td>\n",
              "      <td>-0.00</td>\n",
              "      <td>0.00</td>\n",
              "      <td>0.01</td>\n",
              "      <td>-0.07</td>\n",
              "      <td>-0.04</td>\n",
              "      <td>0.05</td>\n",
              "      <td>0.08</td>\n",
              "      <td>-0.11</td>\n",
              "      <td>0.00</td>\n",
              "      <td>0.09</td>\n",
              "    </tr>\n",
              "    <tr>\n",
              "      <th>age</th>\n",
              "      <td>-0.02</td>\n",
              "      <td>1.00</td>\n",
              "      <td>-0.16</td>\n",
              "      <td>-0.21</td>\n",
              "      <td>-0.19</td>\n",
              "      <td>0.13</td>\n",
              "      <td>0.05</td>\n",
              "      <td>0.31</td>\n",
              "      <td>0.11</td>\n",
              "      <td>0.27</td>\n",
              "      <td>0.39</td>\n",
              "      <td>0.21</td>\n",
              "      <td>0.14</td>\n",
              "      <td>-0.00</td>\n",
              "      <td>0.12</td>\n",
              "      <td>0.23</td>\n",
              "    </tr>\n",
              "    <tr>\n",
              "      <th>education</th>\n",
              "      <td>0.02</td>\n",
              "      <td>-0.16</td>\n",
              "      <td>1.00</td>\n",
              "      <td>0.03</td>\n",
              "      <td>0.02</td>\n",
              "      <td>-0.01</td>\n",
              "      <td>-0.03</td>\n",
              "      <td>-0.08</td>\n",
              "      <td>-0.04</td>\n",
              "      <td>-0.01</td>\n",
              "      <td>-0.12</td>\n",
              "      <td>-0.06</td>\n",
              "      <td>-0.14</td>\n",
              "      <td>-0.06</td>\n",
              "      <td>-0.03</td>\n",
              "      <td>-0.06</td>\n",
              "    </tr>\n",
              "    <tr>\n",
              "      <th>currentSmoker</th>\n",
              "      <td>0.21</td>\n",
              "      <td>-0.21</td>\n",
              "      <td>0.03</td>\n",
              "      <td>1.00</td>\n",
              "      <td>0.78</td>\n",
              "      <td>-0.05</td>\n",
              "      <td>-0.04</td>\n",
              "      <td>-0.11</td>\n",
              "      <td>-0.04</td>\n",
              "      <td>-0.05</td>\n",
              "      <td>-0.13</td>\n",
              "      <td>-0.12</td>\n",
              "      <td>-0.16</td>\n",
              "      <td>0.05</td>\n",
              "      <td>-0.05</td>\n",
              "      <td>0.02</td>\n",
              "    </tr>\n",
              "    <tr>\n",
              "      <th>cigsPerDay</th>\n",
              "      <td>0.33</td>\n",
              "      <td>-0.19</td>\n",
              "      <td>0.02</td>\n",
              "      <td>0.78</td>\n",
              "      <td>1.00</td>\n",
              "      <td>-0.05</td>\n",
              "      <td>-0.04</td>\n",
              "      <td>-0.08</td>\n",
              "      <td>-0.04</td>\n",
              "      <td>-0.04</td>\n",
              "      <td>-0.10</td>\n",
              "      <td>-0.06</td>\n",
              "      <td>-0.09</td>\n",
              "      <td>0.06</td>\n",
              "      <td>-0.05</td>\n",
              "      <td>0.06</td>\n",
              "    </tr>\n",
              "    <tr>\n",
              "      <th>BPMeds</th>\n",
              "      <td>-0.05</td>\n",
              "      <td>0.13</td>\n",
              "      <td>-0.01</td>\n",
              "      <td>-0.05</td>\n",
              "      <td>-0.05</td>\n",
              "      <td>1.00</td>\n",
              "      <td>0.11</td>\n",
              "      <td>0.26</td>\n",
              "      <td>0.05</td>\n",
              "      <td>0.10</td>\n",
              "      <td>0.27</td>\n",
              "      <td>0.20</td>\n",
              "      <td>0.10</td>\n",
              "      <td>0.01</td>\n",
              "      <td>0.05</td>\n",
              "      <td>0.09</td>\n",
              "    </tr>\n",
              "    <tr>\n",
              "      <th>prevalentStroke</th>\n",
              "      <td>-0.00</td>\n",
              "      <td>0.05</td>\n",
              "      <td>-0.03</td>\n",
              "      <td>-0.04</td>\n",
              "      <td>-0.04</td>\n",
              "      <td>0.11</td>\n",
              "      <td>1.00</td>\n",
              "      <td>0.07</td>\n",
              "      <td>0.01</td>\n",
              "      <td>0.01</td>\n",
              "      <td>0.06</td>\n",
              "      <td>0.06</td>\n",
              "      <td>0.01</td>\n",
              "      <td>-0.02</td>\n",
              "      <td>0.02</td>\n",
              "      <td>0.05</td>\n",
              "    </tr>\n",
              "    <tr>\n",
              "      <th>prevalentHyp</th>\n",
              "      <td>0.00</td>\n",
              "      <td>0.31</td>\n",
              "      <td>-0.08</td>\n",
              "      <td>-0.11</td>\n",
              "      <td>-0.08</td>\n",
              "      <td>0.26</td>\n",
              "      <td>0.07</td>\n",
              "      <td>1.00</td>\n",
              "      <td>0.08</td>\n",
              "      <td>0.17</td>\n",
              "      <td>0.70</td>\n",
              "      <td>0.62</td>\n",
              "      <td>0.30</td>\n",
              "      <td>0.15</td>\n",
              "      <td>0.09</td>\n",
              "      <td>0.18</td>\n",
              "    </tr>\n",
              "    <tr>\n",
              "      <th>diabetes</th>\n",
              "      <td>0.01</td>\n",
              "      <td>0.11</td>\n",
              "      <td>-0.04</td>\n",
              "      <td>-0.04</td>\n",
              "      <td>-0.04</td>\n",
              "      <td>0.05</td>\n",
              "      <td>0.01</td>\n",
              "      <td>0.08</td>\n",
              "      <td>1.00</td>\n",
              "      <td>0.04</td>\n",
              "      <td>0.10</td>\n",
              "      <td>0.05</td>\n",
              "      <td>0.09</td>\n",
              "      <td>0.06</td>\n",
              "      <td>0.61</td>\n",
              "      <td>0.09</td>\n",
              "    </tr>\n",
              "    <tr>\n",
              "      <th>totChol</th>\n",
              "      <td>-0.07</td>\n",
              "      <td>0.27</td>\n",
              "      <td>-0.01</td>\n",
              "      <td>-0.05</td>\n",
              "      <td>-0.04</td>\n",
              "      <td>0.10</td>\n",
              "      <td>0.01</td>\n",
              "      <td>0.17</td>\n",
              "      <td>0.04</td>\n",
              "      <td>1.00</td>\n",
              "      <td>0.22</td>\n",
              "      <td>0.17</td>\n",
              "      <td>0.12</td>\n",
              "      <td>0.09</td>\n",
              "      <td>0.04</td>\n",
              "      <td>0.09</td>\n",
              "    </tr>\n",
              "    <tr>\n",
              "      <th>sysBP</th>\n",
              "      <td>-0.04</td>\n",
              "      <td>0.39</td>\n",
              "      <td>-0.12</td>\n",
              "      <td>-0.13</td>\n",
              "      <td>-0.10</td>\n",
              "      <td>0.27</td>\n",
              "      <td>0.06</td>\n",
              "      <td>0.70</td>\n",
              "      <td>0.10</td>\n",
              "      <td>0.22</td>\n",
              "      <td>1.00</td>\n",
              "      <td>0.78</td>\n",
              "      <td>0.32</td>\n",
              "      <td>0.18</td>\n",
              "      <td>0.14</td>\n",
              "      <td>0.22</td>\n",
              "    </tr>\n",
              "    <tr>\n",
              "      <th>diaBP</th>\n",
              "      <td>0.05</td>\n",
              "      <td>0.21</td>\n",
              "      <td>-0.06</td>\n",
              "      <td>-0.12</td>\n",
              "      <td>-0.06</td>\n",
              "      <td>0.20</td>\n",
              "      <td>0.06</td>\n",
              "      <td>0.62</td>\n",
              "      <td>0.05</td>\n",
              "      <td>0.17</td>\n",
              "      <td>0.78</td>\n",
              "      <td>1.00</td>\n",
              "      <td>0.38</td>\n",
              "      <td>0.18</td>\n",
              "      <td>0.06</td>\n",
              "      <td>0.15</td>\n",
              "    </tr>\n",
              "    <tr>\n",
              "      <th>BMI</th>\n",
              "      <td>0.08</td>\n",
              "      <td>0.14</td>\n",
              "      <td>-0.14</td>\n",
              "      <td>-0.16</td>\n",
              "      <td>-0.09</td>\n",
              "      <td>0.10</td>\n",
              "      <td>0.01</td>\n",
              "      <td>0.30</td>\n",
              "      <td>0.09</td>\n",
              "      <td>0.12</td>\n",
              "      <td>0.32</td>\n",
              "      <td>0.38</td>\n",
              "      <td>1.00</td>\n",
              "      <td>0.07</td>\n",
              "      <td>0.08</td>\n",
              "      <td>0.08</td>\n",
              "    </tr>\n",
              "    <tr>\n",
              "      <th>heartRate</th>\n",
              "      <td>-0.11</td>\n",
              "      <td>-0.00</td>\n",
              "      <td>-0.06</td>\n",
              "      <td>0.05</td>\n",
              "      <td>0.06</td>\n",
              "      <td>0.01</td>\n",
              "      <td>-0.02</td>\n",
              "      <td>0.15</td>\n",
              "      <td>0.06</td>\n",
              "      <td>0.09</td>\n",
              "      <td>0.18</td>\n",
              "      <td>0.18</td>\n",
              "      <td>0.07</td>\n",
              "      <td>1.00</td>\n",
              "      <td>0.10</td>\n",
              "      <td>0.02</td>\n",
              "    </tr>\n",
              "    <tr>\n",
              "      <th>glucose</th>\n",
              "      <td>0.00</td>\n",
              "      <td>0.12</td>\n",
              "      <td>-0.03</td>\n",
              "      <td>-0.05</td>\n",
              "      <td>-0.05</td>\n",
              "      <td>0.05</td>\n",
              "      <td>0.02</td>\n",
              "      <td>0.09</td>\n",
              "      <td>0.61</td>\n",
              "      <td>0.04</td>\n",
              "      <td>0.14</td>\n",
              "      <td>0.06</td>\n",
              "      <td>0.08</td>\n",
              "      <td>0.10</td>\n",
              "      <td>1.00</td>\n",
              "      <td>0.12</td>\n",
              "    </tr>\n",
              "    <tr>\n",
              "      <th>TenYearCHD</th>\n",
              "      <td>0.09</td>\n",
              "      <td>0.23</td>\n",
              "      <td>-0.06</td>\n",
              "      <td>0.02</td>\n",
              "      <td>0.06</td>\n",
              "      <td>0.09</td>\n",
              "      <td>0.05</td>\n",
              "      <td>0.18</td>\n",
              "      <td>0.09</td>\n",
              "      <td>0.09</td>\n",
              "      <td>0.22</td>\n",
              "      <td>0.15</td>\n",
              "      <td>0.08</td>\n",
              "      <td>0.02</td>\n",
              "      <td>0.12</td>\n",
              "      <td>1.00</td>\n",
              "    </tr>\n",
              "  </tbody>\n",
              "</table>\n",
              "</div>\n",
              "      <button class=\"colab-df-convert\" onclick=\"convertToInteractive('df-23a68ba4-89d7-4799-b345-89b4ca43f9ba')\"\n",
              "              title=\"Convert this dataframe to an interactive table.\"\n",
              "              style=\"display:none;\">\n",
              "        \n",
              "  <svg xmlns=\"http://www.w3.org/2000/svg\" height=\"24px\"viewBox=\"0 0 24 24\"\n",
              "       width=\"24px\">\n",
              "    <path d=\"M0 0h24v24H0V0z\" fill=\"none\"/>\n",
              "    <path d=\"M18.56 5.44l.94 2.06.94-2.06 2.06-.94-2.06-.94-.94-2.06-.94 2.06-2.06.94zm-11 1L8.5 8.5l.94-2.06 2.06-.94-2.06-.94L8.5 2.5l-.94 2.06-2.06.94zm10 10l.94 2.06.94-2.06 2.06-.94-2.06-.94-.94-2.06-.94 2.06-2.06.94z\"/><path d=\"M17.41 7.96l-1.37-1.37c-.4-.4-.92-.59-1.43-.59-.52 0-1.04.2-1.43.59L10.3 9.45l-7.72 7.72c-.78.78-.78 2.05 0 2.83L4 21.41c.39.39.9.59 1.41.59.51 0 1.02-.2 1.41-.59l7.78-7.78 2.81-2.81c.8-.78.8-2.07 0-2.86zM5.41 20L4 18.59l7.72-7.72 1.47 1.35L5.41 20z\"/>\n",
              "  </svg>\n",
              "      </button>\n",
              "      \n",
              "  <style>\n",
              "    .colab-df-container {\n",
              "      display:flex;\n",
              "      flex-wrap:wrap;\n",
              "      gap: 12px;\n",
              "    }\n",
              "\n",
              "    .colab-df-convert {\n",
              "      background-color: #E8F0FE;\n",
              "      border: none;\n",
              "      border-radius: 50%;\n",
              "      cursor: pointer;\n",
              "      display: none;\n",
              "      fill: #1967D2;\n",
              "      height: 32px;\n",
              "      padding: 0 0 0 0;\n",
              "      width: 32px;\n",
              "    }\n",
              "\n",
              "    .colab-df-convert:hover {\n",
              "      background-color: #E2EBFA;\n",
              "      box-shadow: 0px 1px 2px rgba(60, 64, 67, 0.3), 0px 1px 3px 1px rgba(60, 64, 67, 0.15);\n",
              "      fill: #174EA6;\n",
              "    }\n",
              "\n",
              "    [theme=dark] .colab-df-convert {\n",
              "      background-color: #3B4455;\n",
              "      fill: #D2E3FC;\n",
              "    }\n",
              "\n",
              "    [theme=dark] .colab-df-convert:hover {\n",
              "      background-color: #434B5C;\n",
              "      box-shadow: 0px 1px 3px 1px rgba(0, 0, 0, 0.15);\n",
              "      filter: drop-shadow(0px 1px 2px rgba(0, 0, 0, 0.3));\n",
              "      fill: #FFFFFF;\n",
              "    }\n",
              "  </style>\n",
              "\n",
              "      <script>\n",
              "        const buttonEl =\n",
              "          document.querySelector('#df-23a68ba4-89d7-4799-b345-89b4ca43f9ba button.colab-df-convert');\n",
              "        buttonEl.style.display =\n",
              "          google.colab.kernel.accessAllowed ? 'block' : 'none';\n",
              "\n",
              "        async function convertToInteractive(key) {\n",
              "          const element = document.querySelector('#df-23a68ba4-89d7-4799-b345-89b4ca43f9ba');\n",
              "          const dataTable =\n",
              "            await google.colab.kernel.invokeFunction('convertToInteractive',\n",
              "                                                     [key], {});\n",
              "          if (!dataTable) return;\n",
              "\n",
              "          const docLinkHtml = 'Like what you see? Visit the ' +\n",
              "            '<a target=\"_blank\" href=https://colab.research.google.com/notebooks/data_table.ipynb>data table notebook</a>'\n",
              "            + ' to learn more about interactive tables.';\n",
              "          element.innerHTML = '';\n",
              "          dataTable['output_type'] = 'display_data';\n",
              "          await google.colab.output.renderOutput(dataTable, element);\n",
              "          const docLink = document.createElement('div');\n",
              "          docLink.innerHTML = docLinkHtml;\n",
              "          element.appendChild(docLink);\n",
              "        }\n",
              "      </script>\n",
              "    </div>\n",
              "  </div>\n",
              "  "
            ]
          },
          "metadata": {},
          "execution_count": 122
        },
        {
          "output_type": "display_data",
          "data": {
            "text/plain": [
              "<Figure size 1440x720 with 2 Axes>"
            ],
            "image/png": "[encoded data removed]"
          },
          "metadata": {}
        }
      ]
    },
    {
      "cell_type": "markdown",
      "source": [
        "Compared to all the independent data, the correlation coefficient between education and and target variable TenYearCHD is very low and actually negative"
      ],
      "metadata": {
        "id": "9VRfxWExjfmt"
      }
    },
    {
      "cell_type": "code",
      "source": [
        "#Plotting a linegraph to check the relationship between age and cigsPerDay, totChol, glucose.\n",
        "\n",
        "graph_5 = dataset.groupby(\"age\").cigsPerDay.mean()\n",
        "graph_6 = dataset.groupby(\"age\").totChol.mean()\n",
        "graph_7 = dataset.groupby(\"age\").glucose.mean()\n",
        "\n",
        "plt.figure(figsize=(16,10), facecolor='w')\n",
        "sns.lineplot(data=graph_5, label=\"cigsPerDay\")\n",
        "sns.lineplot(data=graph_6, label=\"totChol\")\n",
        "sns.lineplot(data=graph_7, label=\"glucose\")\n",
        "plt.title(\"Graph showing totChol and cigsPerDay in every age group.\", size=20)\n",
        "plt.xlabel(\"age\", size=20)\n",
        "plt.ylabel(\"count\", size=20)\n",
        "plt.xticks(size=12)\n",
        "plt.yticks(size=12)"
      ],
      "metadata": {
        "colab": {
          "base_uri": "https://localhost:8080/",
          "height": 795
        },
        "id": "C9PZEpmzhlTo",
        "outputId": "b2b21aa6-0235-459a-efba-cda035290a9c"
      },
      "execution_count": null,
      "outputs": [
        {
          "output_type": "execute_result",
          "data": {
            "text/plain": [
              "(array([-50.,   0.,  50., 100., 150., 200., 250., 300.]),\n",
              " [Text(0, -50.0, '−50'),\n",
              "  Text(0, 0.0, '0'),\n",
              "  Text(0, 50.0, '50'),\n",
              "  Text(0, 100.0, '100'),\n",
              "  Text(0, 150.0, '150'),\n",
              "  Text(0, 200.0, '200'),\n",
              "  Text(0, 250.0, '250'),\n",
              "  Text(0, 300.0, '300')])"
            ]
          },
          "metadata": {},
          "execution_count": 123
        },
        {
          "output_type": "display_data",
          "data": {
            "text/plain": [
              "<Figure size 1152x720 with 1 Axes>"
            ],
            "image/png": "[encoded data removed]"
          },
          "metadata": {}
        }
      ]
    },
    {
      "cell_type": "markdown",
      "source": [
        "There is a minor relation between totChol and glucose.\n",
        "\n",
        "totChol has a steep, linear and inverse graph for lower ranges of age\n",
        "\n",
        "cigsPerDay has a fairly parallel relationship with age"
      ],
      "metadata": {
        "id": "BcQYyZGhjt4r"
      }
    },
    {
      "cell_type": "markdown",
      "source": [
        "The above graph plots the relationship between systolic blood pressure and diastolic blood pressure for patients based on their gender and whether they are current smokers or not and plots the best fit line"
      ],
      "metadata": {
        "id": "JguFVIcXj0MB"
      }
    },
    {
      "cell_type": "code",
      "source": [
        "dataset.shape #after preprocessing"
      ],
      "metadata": {
        "colab": {
          "base_uri": "https://localhost:8080/"
        },
        "id": "9a98PLe-DhU8",
        "outputId": "d6fbd00f-c883-4b9d-b0c7-f64f4ee119d9"
      },
      "execution_count": null,
      "outputs": [
        {
          "output_type": "execute_result",
          "data": {
            "text/plain": [
              "(3656, 16)"
            ]
          },
          "metadata": {},
          "execution_count": 124
        }
      ]
    },
    {
      "cell_type": "code",
      "source": [
        "dataset['TenYearCHD'].value_counts() #Return the count of unique elements in TenYearCHD column"
      ],
      "metadata": {
        "colab": {
          "base_uri": "https://localhost:8080/"
        },
        "id": "uBL_-_gGj3gO",
        "outputId": "ae5ab2bb-1ce1-4af6-c32c-ce6a16303be4"
      },
      "execution_count": null,
      "outputs": [
        {
          "output_type": "execute_result",
          "data": {
            "text/plain": [
              "0    3099\n",
              "1     557\n",
              "Name: TenYearCHD, dtype: int64"
            ]
          },
          "metadata": {},
          "execution_count": 125
        }
      ]
    },
    {
      "cell_type": "code",
      "source": [
        "Y2 = dataset['TenYearCHD']\n",
        "X2 = dataset.drop(['TenYearCHD'], axis=1)\n",
        "\n",
        "# Split the dataset into training and testing sets\n",
        "train_x2, test_x2, train_y2, test_y2 = train_test_split(X2, Y2, test_size=0.2, random_state=42)\n",
        "\n",
        "from sklearn.preprocessing import MinMaxScaler\n",
        "scaler = MinMaxScaler()\n",
        "train_x2 = scaler.fit_transform(train_x2)\n",
        "test_x2 = scaler.transform(test_x2)"
      ],
      "metadata": {
        "id": "WgqzmRUAbc2-"
      },
      "execution_count": null,
      "outputs": []
    },
    {
      "cell_type": "markdown",
      "source": [
        "**Classification Algorithms**"
      ],
      "metadata": {
        "id": "9br_EPTokD0w"
      }
    },
    {
      "cell_type": "markdown",
      "source": [
        "**1. Extra tree classifier**"
      ],
      "metadata": {
        "id": "PmO_XT8FIzPU"
      }
    },
    {
      "cell_type": "code",
      "source": [
        "# Train the Extra Trees Classifier on the training data\n",
        "from sklearn.ensemble import ExtraTreesClassifier\n",
        "clf1 = ExtraTreesClassifier(n_estimators=100, random_state=42)\n",
        "clf1.fit(train_x2, train_y2)\n",
        "\n",
        "# Predict on the test data\n",
        "y_pred1 = clf1.predict(test_x2)\n",
        "\n",
        "from sklearn.metrics import accuracy_score\n",
        "# Calculate the accuracy of the model\n",
        "acc1 = accuracy_score(test_y2, y_pred1)\n",
        "print('Accuracy:', acc1)\n",
        "\n",
        "# Calculate the precision, recall, and F1-score\n",
        "from sklearn.metrics import accuracy_score, precision_score, recall_score, f1_score\n",
        "precision1 = precision_score(test_y2, y_pred1)\n",
        "recall1 = recall_score(test_y2, y_pred1)\n",
        "f1_1 = f1_score(test_y2, y_pred1)\n",
        "\n",
        "# Print the results\n",
        "print(\"Precision:\", precision1)\n",
        "print(\"Recall:\", recall1)\n",
        "print(\"F1-score:\", f1_1)\n",
        "\n",
        "conf_mat1 = confusion_matrix(test_y2, y_pred1)\n",
        "print('Confusion Matrix: \\n', conf_mat1)\n",
        "\n",
        "#Plotting the confusion matrix\n",
        "conf_matrix1 = pd.DataFrame(data = conf_mat1,\n",
        "                           columns = ['Predicted:0', 'Predicted:1'],\n",
        "                           index =['Actual:0', 'Actual:1'])\n",
        "plt.figure(figsize = (10, 6))\n",
        "sns.heatmap(conf_matrix1, annot = True, fmt = 'd', cmap = \"Greens\", linecolor=\"Blue\", linewidths=1.5)\n",
        "plt.show()\n",
        "\n"
      ],
      "metadata": {
        "colab": {
          "base_uri": "https://localhost:8080/",
          "height": 500
        },
        "id": "d7syttlFI8B8",
        "outputId": "4811d9ab-8026-4e2f-ba7f-9923278fb6d9"
      },
      "execution_count": null,
      "outputs": [
        {
          "output_type": "stream",
          "name": "stdout",
          "text": [
            "Accuracy: 0.8306010928961749\n",
            "Precision: 0.4444444444444444\n",
            "Recall: 0.06557377049180328\n",
            "F1-score: 0.1142857142857143\n",
            "Confusion Matrix: \n",
            " [[600  10]\n",
            " [114   8]]\n"
          ]
        },
        {
          "output_type": "display_data",
          "data": {
            "text/plain": [
              "<Figure size 720x432 with 2 Axes>"
            ],
            "image/png": "[encoded data removed]"
          },
          "metadata": {
            "needs_background": "light"
          }
        }
      ]
    },
    {
      "cell_type": "markdown",
      "source": [
        "**2. Bagging classifier**"
      ],
      "metadata": {
        "id": "3plbIuhEJJQk"
      }
    },
    {
      "cell_type": "code",
      "source": [
        "from sklearn.ensemble import BaggingClassifier\n",
        "from sklearn.tree import DecisionTreeClassifier\n",
        "from sklearn.model_selection import train_test_split\n",
        "from sklearn.metrics import accuracy_score, precision_score, recall_score, f1_score\n",
        "\n",
        "# Define the base estimator\n",
        "base_estimator = DecisionTreeClassifier(max_depth=4)\n",
        "\n",
        "# Define the Bagging Classifier\n",
        "bagging_clf = BaggingClassifier(base_estimator=base_estimator, n_estimators=50, random_state=42)\n",
        "\n",
        "# Fit the Bagging Classifier to the training data\n",
        "bagging_clf.fit(train_x2, train_y2)\n",
        "\n",
        "# Predict the target on the test data\n",
        "y_pred2 = bagging_clf.predict(test_x2)\n",
        "\n",
        "# Calculate the accuracy, precision, recall, and F1-score\n",
        "accuracy2 = accuracy_score(test_y2, y_pred2)\n",
        "precision2 = precision_score(test_y2, y_pred2)\n",
        "recall2 = recall_score(test_y2, y_pred2)\n",
        "f1_2 = f1_score(test_y2, y_pred2)\n",
        "\n",
        "# Print the results\n",
        "print(\"Accuracy:\", accuracy2)\n",
        "print(\"Precision:\", precision2)\n",
        "print(\"Recall:\", recall2)\n",
        "print(\"F1-score:\", f1_2)\n",
        "\n",
        "conf_mat2 = confusion_matrix(test_y2, y_pred2)\n",
        "print('Confusion Matrix: \\n', conf_mat2)\n",
        "\n",
        "#Plotting the confusion matrix\n",
        "conf_matrix2 = pd.DataFrame(data = conf_mat2,\n",
        "                           columns = ['Predicted:0', 'Predicted:1'],\n",
        "                           index =['Actual:0', 'Actual:1'])\n",
        "plt.figure(figsize = (10, 6))\n",
        "sns.heatmap(conf_matrix2, annot = True, fmt = 'd', cmap = \"Greens\", linecolor=\"Blue\", linewidths=1.5)\n",
        "plt.show()\n",
        "\n"
      ],
      "metadata": {
        "colab": {
          "base_uri": "https://localhost:8080/",
          "height": 497
        },
        "id": "MqKdJDSYJTLw",
        "outputId": "02066639-beee-4826-ee0e-b53242cca8e9"
      },
      "execution_count": null,
      "outputs": [
        {
          "output_type": "stream",
          "name": "stdout",
          "text": [
            "Accuracy: 0.8319672131147541\n",
            "Precision: 0.42857142857142855\n",
            "Recall: 0.02459016393442623\n",
            "F1-score: 0.04651162790697675\n",
            "Confusion Matrix: \n",
            " [[606   4]\n",
            " [119   3]]\n"
          ]
        },
        {
          "output_type": "display_data",
          "data": {
            "text/plain": [
              "<Figure size 720x432 with 2 Axes>"
            ],
            "image/png": "[encoded data removed]"
          },
          "metadata": {
            "needs_background": "light"
          }
        }
      ]
    },
    {
      "cell_type": "markdown",
      "source": [
        "**3. CNN**"
      ],
      "metadata": {
        "id": "FDkvUYfQJTrK"
      }
    },
    {
      "cell_type": "code",
      "source": [
        "model3 = keras.Sequential([\n",
        "    #keras.layers.Flatten(input_shape =(13,)),\n",
        "    keras.layers.Dense(60, activation = 'relu', input_shape= (15,)),\n",
        "    keras.layers.Dense(50, activation = 'relu'),\n",
        "    keras.layers.Dense(50, activation = 'relu'),\n",
        "    keras.layers.Dense(40, activation = 'relu'),\n",
        "    keras.layers.Dense(40, activation = 'relu'),\n",
        "    keras.layers.Dense(30, activation = 'relu'),\n",
        "    keras.layers.Dense(2,activation = 'sigmoid' )\n",
        "])\n",
        "\n",
        "#compiling the network\n",
        "\n",
        "model3.compile(\n",
        "        optimizer = 'adam',\n",
        "        loss = 'sparse_categorical_crossentropy',\n",
        "        metrics = ['accuracy']\n",
        ")\n",
        "\n",
        "#training the neural network\n",
        "history = model3.fit(train_x2, train_y2, validation_split=0.2, epochs = 10)\n",
        "\n",
        "#Visualizing Accuracy and Losses\n",
        "plt.plot(history.history['accuracy'])\n",
        "plt.plot(history.history['val_accuracy'])\n",
        "\n",
        "plt.title('Model Accuracy')\n",
        "plt.ylabel('accuracy')\n",
        "plt.xlabel('epochs')\n",
        "\n",
        "plt.legend(['Training Data', 'validation Data'], loc= 'lower right')\n",
        "\n",
        "plt.plot(history.history['loss'])\n",
        "plt.plot(history.history['val_loss'])\n",
        "\n",
        "plt.title('Model Loss graph')\n",
        "plt.ylabel('Loss')\n",
        "plt.xlabel('Epochs')\n",
        "\n",
        "plt.legend(['Training Data', 'validation Data'], loc= 'upper right')\n",
        "\n",
        "#model evaluation\n",
        "loss, accuracy3 = model3.evaluate(test_x2, test_y2)\n",
        "print(accuracy3)\n",
        "\n",
        "from sklearn.metrics import classification_report, confusion_matrix\n",
        "\n",
        "# Predict labels for test set\n",
        "y_pred3 = model3.predict(test_x2)\n",
        "y_pred3 = np.argmax(y_pred3, axis=1)\n",
        "\n",
        "# Calculate precision, recall, F1 score, and support\n",
        "target_names = ['class 0', 'class 1']\n",
        "print(classification_report(test_y2, y_pred3, target_names=target_names))\n",
        "\n",
        "# Calculate confusion matrix\n",
        "print(confusion_matrix(test_y2, y_pred3))\n"
      ],
      "metadata": {
        "colab": {
          "base_uri": "https://localhost:8080/",
          "height": 885
        },
        "id": "49R3EPoeJXPV",
        "outputId": "ec4c63a6-912c-4db3-c046-5898d4d9b254"
      },
      "execution_count": null,
      "outputs": [
        {
          "output_type": "stream",
          "name": "stdout",
          "text": [
            "Epoch 1/10\n",
            "74/74 [==============================] - 2s 11ms/step - loss: 0.4831 - accuracy: 0.8341 - val_loss: 0.3882 - val_accuracy: 0.8701\n",
            "Epoch 2/10\n",
            "74/74 [==============================] - 0s 4ms/step - loss: 0.4019 - accuracy: 0.8465 - val_loss: 0.3854 - val_accuracy: 0.8701\n",
            "Epoch 3/10\n",
            "74/74 [==============================] - 0s 4ms/step - loss: 0.3923 - accuracy: 0.8465 - val_loss: 0.3981 - val_accuracy: 0.8701\n",
            "Epoch 4/10\n",
            "74/74 [==============================] - 0s 4ms/step - loss: 0.3865 - accuracy: 0.8465 - val_loss: 0.3808 - val_accuracy: 0.8701\n",
            "Epoch 5/10\n",
            "74/74 [==============================] - 0s 4ms/step - loss: 0.3732 - accuracy: 0.8487 - val_loss: 0.3916 - val_accuracy: 0.8513\n",
            "Epoch 6/10\n",
            "74/74 [==============================] - 0s 4ms/step - loss: 0.3715 - accuracy: 0.8504 - val_loss: 0.3832 - val_accuracy: 0.8513\n",
            "Epoch 7/10\n",
            "74/74 [==============================] - 0s 3ms/step - loss: 0.3689 - accuracy: 0.8546 - val_loss: 0.3947 - val_accuracy: 0.8462\n",
            "Epoch 8/10\n",
            "74/74 [==============================] - 0s 3ms/step - loss: 0.3697 - accuracy: 0.8491 - val_loss: 0.3809 - val_accuracy: 0.8581\n",
            "Epoch 9/10\n",
            "74/74 [==============================] - 0s 4ms/step - loss: 0.3623 - accuracy: 0.8551 - val_loss: 0.3889 - val_accuracy: 0.8496\n",
            "Epoch 10/10\n",
            "74/74 [==============================] - 0s 3ms/step - loss: 0.3586 - accuracy: 0.8581 - val_loss: 0.3802 - val_accuracy: 0.8564\n",
            "23/23 [==============================] - 0s 3ms/step - loss: 0.4453 - accuracy: 0.8279\n",
            "0.8278688788414001\n",
            "23/23 [==============================] - 0s 2ms/step\n",
            "              precision    recall  f1-score   support\n",
            "\n",
            "     class 0       0.84      0.99      0.91       610\n",
            "     class 1       0.36      0.04      0.07       122\n",
            "\n",
            "    accuracy                           0.83       732\n",
            "   macro avg       0.60      0.51      0.49       732\n",
            "weighted avg       0.76      0.83      0.77       732\n",
            "\n",
            "[[601   9]\n",
            " [117   5]]\n"
          ]
        },
        {
          "output_type": "display_data",
          "data": {
            "text/plain": [
              "<Figure size 432x288 with 1 Axes>"
            ],
            "image/png": "[encoded data removed]"
          },
          "metadata": {
            "needs_background": "light"
          }
        }
      ]
    },
    {
      "cell_type": "markdown",
      "source": [
        "**4. Logistic regression**"
      ],
      "metadata": {
        "id": "M0NyAV1-JXw6"
      }
    },
    {
      "cell_type": "code",
      "source": [
        "# Train the logistic regression model\n",
        "from sklearn.linear_model import LogisticRegression\n",
        "model4 = LogisticRegression()\n",
        "model4.fit(train_x2, train_y2) #Training the data\n",
        "\n",
        "from sklearn.metrics import accuracy_score\n",
        "# Evaluate the model on the training set\n",
        "train_preds4 = model4.predict(train_x2)\n",
        "train_acc4 = accuracy_score(train_y2, train_preds4)\n",
        "\n",
        "# Evaluate the model on the testing set\n",
        "test_preds4 = model4.predict(test_x2)\n",
        "test_acc4 = accuracy_score(test_y2, test_preds4)\n",
        "\n",
        "# Print the training and testing accuracies\n",
        "print(\"Training accuracy:\", train_acc4)\n",
        "print(\"Testing accuracy:\", test_acc4)\n",
        "\n",
        "# Make predictions on the testing data\n",
        "y_pred4 = model4.predict(test_x2)\n",
        "\n",
        "# Evaluate the model's performance\n",
        "from sklearn.metrics import accuracy_score\n",
        "conf_mat4 = confusion_matrix(test_y2, y_pred4)\n",
        "acc4 = accuracy_score(test_y2, y_pred4)\n",
        "print('Confusion Matrix: \\n', conf_mat4)\n",
        "print('Accuracy: ', acc4)\n",
        "\n",
        "# Calculate the precision, recall, and F1-score\n",
        "from sklearn.metrics import accuracy_score, precision_score, recall_score, f1_score\n",
        "precision4 = precision_score(test_y2, y_pred4)\n",
        "recall4 = recall_score(test_y2, y_pred4)\n",
        "f1_4 = f1_score(test_y2, y_pred4)\n",
        "\n",
        "# Print the results\n",
        "print(\"Precision:\", precision4)\n",
        "print(\"Recall:\", recall4)\n",
        "print(\"F1-score:\", f1_4)\n",
        "\n",
        "from sklearn.metrics import confusion_matrix, classification_report\n",
        "print(\"Classification Report is:\\n\\n\",classification_report(test_y2,y_pred4))  #classification report\n",
        "\n",
        "#Plotting the confusion matrix\n",
        "conf_matrix4 = pd.DataFrame(data = conf_mat4,\n",
        "                           columns = ['Predicted:0', 'Predicted:1'],\n",
        "                           index =['Actual:0', 'Actual:1'])\n",
        "plt.figure(figsize = (10, 6))\n",
        "sns.heatmap(conf_matrix4, annot = True, fmt = 'd', cmap = \"Greens\", linecolor=\"Blue\", linewidths=1.5)\n",
        "plt.show()\n"
      ],
      "metadata": {
        "colab": {
          "base_uri": "https://localhost:8080/",
          "height": 722
        },
        "id": "yTUxAgc8JcLL",
        "outputId": "c6754b5b-93fa-4841-f9a1-5687c5103d45"
      },
      "execution_count": null,
      "outputs": [
        {
          "output_type": "stream",
          "name": "stdout",
          "text": [
            "Training accuracy: 0.8587551299589603\n",
            "Testing accuracy: 0.8387978142076503\n",
            "Confusion Matrix: \n",
            " [[606   4]\n",
            " [114   8]]\n",
            "Accuracy:  0.8387978142076503\n",
            "Precision: 0.6666666666666666\n",
            "Recall: 0.06557377049180328\n",
            "F1-score: 0.11940298507462688\n",
            "Classification Report is:\n",
            "\n",
            "               precision    recall  f1-score   support\n",
            "\n",
            "           0       0.84      0.99      0.91       610\n",
            "           1       0.67      0.07      0.12       122\n",
            "\n",
            "    accuracy                           0.84       732\n",
            "   macro avg       0.75      0.53      0.52       732\n",
            "weighted avg       0.81      0.84      0.78       732\n",
            "\n"
          ]
        },
        {
          "output_type": "display_data",
          "data": {
            "text/plain": [
              "<Figure size 720x432 with 2 Axes>"
            ],
            "image/png": "[encoded data removed]"
          },
          "metadata": {
            "needs_background": "light"
          }
        }
      ]
    },
    {
      "cell_type": "markdown",
      "source": [
        "**5. Decision tree**"
      ],
      "metadata": {
        "id": "N_8hK4xyJeff"
      }
    },
    {
      "cell_type": "code",
      "source": [
        "m5 = 'DecisionTreeClassifier'\n",
        "dt = DecisionTreeClassifier(criterion = 'entropy',random_state=0,max_depth = 30)\n",
        "dt.fit(train_x2,train_y2)\n",
        "dt_predicted = dt.predict(test_x2)\n",
        "dt_conf_matrix = confusion_matrix(test_y2, dt_predicted)\n",
        "dt_acc_score = accuracy_score(test_y2, dt_predicted)\n",
        "print(\"confussion matrix\")\n",
        "print(dt_conf_matrix)\n",
        "print(\"\\n\")\n",
        "print(\"Accuracy of DecisionTreeClassifier:\",dt_acc_score*100,'\\n')\n",
        "print(classification_report(test_y2,dt_predicted))\n",
        "\n",
        "# Calculate the precision, recall, and F1-score\n",
        "from sklearn.metrics import accuracy_score, precision_score, recall_score, f1_score\n",
        "precision5 = precision_score(test_y2, dt_predicted)\n",
        "recall5 = recall_score(test_y2, dt_predicted)\n",
        "f1_5 = f1_score(test_y2, dt_predicted)\n",
        "\n",
        "# Print the results\n",
        "print(\"Precision:\", precision5)\n",
        "print(\"Recall:\", recall5)\n",
        "print(\"F1-score:\", f1_5)"
      ],
      "metadata": {
        "colab": {
          "base_uri": "https://localhost:8080/"
        },
        "id": "HxOyxx91Jge-",
        "outputId": "d101e43d-3a7b-43c5-b1dd-7cdb59743ef2"
      },
      "execution_count": null,
      "outputs": [
        {
          "output_type": "stream",
          "name": "stdout",
          "text": [
            "confussion matrix\n",
            "[[525  85]\n",
            " [ 86  36]]\n",
            "\n",
            "\n",
            "Accuracy of DecisionTreeClassifier: 76.63934426229508 \n",
            "\n",
            "              precision    recall  f1-score   support\n",
            "\n",
            "           0       0.86      0.86      0.86       610\n",
            "           1       0.30      0.30      0.30       122\n",
            "\n",
            "    accuracy                           0.77       732\n",
            "   macro avg       0.58      0.58      0.58       732\n",
            "weighted avg       0.77      0.77      0.77       732\n",
            "\n",
            "Precision: 0.2975206611570248\n",
            "Recall: 0.29508196721311475\n",
            "F1-score: 0.2962962962962963\n"
          ]
        }
      ]
    },
    {
      "cell_type": "markdown",
      "source": [
        "**6. Gradient boosting**"
      ],
      "metadata": {
        "id": "xuTc6XgcJg4q"
      }
    },
    {
      "cell_type": "code",
      "source": [
        "from sklearn.ensemble import GradientBoostingClassifier\n",
        "m6 = 'Gradient Boosting Classifier'\n",
        "gvc =  GradientBoostingClassifier()\n",
        "gvc.fit(train_x2,train_y2)\n",
        "gvc_predicted = gvc.predict(test_x2)\n",
        "gvc_conf_matrix = confusion_matrix(test_y2, gvc_predicted)\n",
        "gvc_acc_score = accuracy_score(test_y2, gvc_predicted)\n",
        "print(\"confussion matrix\")\n",
        "print(gvc_conf_matrix)\n",
        "print(\"\\n\")\n",
        "print(\"Accuracy of Gradient Boosting Classifier:\",gvc_acc_score*100,'\\n')\n",
        "print(classification_report(test_y2,gvc_predicted))\n",
        "\n",
        "\n",
        "# Calculate the precision, recall, and F1-score\n",
        "from sklearn.metrics import accuracy_score, precision_score, recall_score, f1_score\n",
        "precision6 = precision_score(test_y2, gvc_predicted)\n",
        "recall6 = recall_score(test_y2, gvc_predicted)\n",
        "f1_6 = f1_score(test_y2, gvc_predicted)\n",
        "\n",
        "# Print the results\n",
        "print(\"Precision:\", precision6)\n",
        "print(\"Recall:\", recall6)\n",
        "print(\"F1-score:\", f1_6)"
      ],
      "metadata": {
        "colab": {
          "base_uri": "https://localhost:8080/"
        },
        "id": "UyDU1Zf6Jk2W",
        "outputId": "1757cc0c-367c-4d12-d59a-517eb25be97f"
      },
      "execution_count": null,
      "outputs": [
        {
          "output_type": "stream",
          "name": "stdout",
          "text": [
            "confussion matrix\n",
            "[[602   8]\n",
            " [109  13]]\n",
            "\n",
            "\n",
            "Accuracy of Gradient Boosting Classifier: 84.01639344262296 \n",
            "\n",
            "              precision    recall  f1-score   support\n",
            "\n",
            "           0       0.85      0.99      0.91       610\n",
            "           1       0.62      0.11      0.18       122\n",
            "\n",
            "    accuracy                           0.84       732\n",
            "   macro avg       0.73      0.55      0.55       732\n",
            "weighted avg       0.81      0.84      0.79       732\n",
            "\n",
            "Precision: 0.6190476190476191\n",
            "Recall: 0.10655737704918032\n",
            "F1-score: 0.18181818181818182\n"
          ]
        }
      ]
    },
    {
      "cell_type": "markdown",
      "source": [
        "**7. XGBOOST**"
      ],
      "metadata": {
        "id": "p4y7eWi7JlWi"
      }
    },
    {
      "cell_type": "code",
      "source": [
        "import xgboost as xgb\n",
        "# Create an XGBoost classifier\n",
        "clf7 = xgb.XGBClassifier(learning_rate=0.1, n_estimators=1000, max_depth=6, subsample=0.8, colsample_bytree=0.8, objective='binary:logistic')\n",
        "\n",
        "# Train the classifier\n",
        "clf7.fit(train_x2, train_y2)\n",
        "\n",
        "# Make predictions on the test set\n",
        "y_pred7 = clf7.predict(test_x2)\n",
        "\n",
        "# Evaluate the performance of the classifier\n",
        "accuracy7 = accuracy_score(test_y2, y_pred7)\n",
        "print('Accuracy:', accuracy7)\n",
        "\n",
        "cm7 = confusion_matrix(test_y2, y_pred7)\n",
        "print('Confusion matrix:\\n', cm7)\n",
        "\n",
        "cr7 = classification_report(test_y2, y_pred7)\n",
        "print('Classification report:\\n', cr7)\n",
        "\n",
        "# Calculate the precision, recall, and F1-score\n",
        "from sklearn.metrics import accuracy_score, precision_score, recall_score, f1_score\n",
        "precision7 = precision_score(test_y2, y_pred7)\n",
        "recall7 = recall_score(test_y2, y_pred7)\n",
        "f1_7 = f1_score(test_y2, y_pred7)\n",
        "\n",
        "# Print the results\n",
        "print(\"Precision:\", precision7)\n",
        "print(\"Recall:\", recall7)\n",
        "print(\"F1-score:\", f1_7)"
      ],
      "metadata": {
        "colab": {
          "base_uri": "https://localhost:8080/"
        },
        "id": "XdrRmyZOJqH-",
        "outputId": "74e3d6bb-c152-4089-dfb9-618239644ffd"
      },
      "execution_count": null,
      "outputs": [
        {
          "output_type": "stream",
          "name": "stdout",
          "text": [
            "Accuracy: 0.8128415300546448\n",
            "Confusion matrix:\n",
            " [[581  29]\n",
            " [108  14]]\n",
            "Classification report:\n",
            "               precision    recall  f1-score   support\n",
            "\n",
            "           0       0.84      0.95      0.89       610\n",
            "           1       0.33      0.11      0.17       122\n",
            "\n",
            "    accuracy                           0.81       732\n",
            "   macro avg       0.58      0.53      0.53       732\n",
            "weighted avg       0.76      0.81      0.77       732\n",
            "\n",
            "Precision: 0.32558139534883723\n",
            "Recall: 0.11475409836065574\n",
            "F1-score: 0.1696969696969697\n"
          ]
        }
      ]
    },
    {
      "cell_type": "markdown",
      "source": [
        "**8. Random Forest**"
      ],
      "metadata": {
        "id": "SjywEtpoJqfk"
      }
    },
    {
      "cell_type": "code",
      "source": [
        "from sklearn.ensemble import RandomForestClassifier\n",
        "# Create a random forest classifier with 100 trees\n",
        "clf8 = RandomForestClassifier(n_estimators=100, random_state=42)\n",
        "\n",
        "# Train the classifier\n",
        "clf8.fit(train_x2, train_y2)\n",
        "\n",
        "# Make predictions on the test set\n",
        "y_pred8 = clf8.predict(test_x2)\n",
        "\n",
        "# Evaluate the performance of the classifier\n",
        "accuracy8 = accuracy_score(test_y2, y_pred8)\n",
        "print('Accuracy:', accuracy8)\n",
        "\n",
        "cm8 = confusion_matrix(test_y2, y_pred8)\n",
        "print('Confusion matrix:\\n', cm8)\n",
        "\n",
        "cr8 = classification_report(test_y2, y_pred8)\n",
        "print('Classification report:\\n', cr8)\n",
        "\n",
        "\n",
        "# Calculate the precision, recall, and F1-score\n",
        "from sklearn.metrics import accuracy_score, precision_score, recall_score, f1_score\n",
        "precision8 = precision_score(test_y2, y_pred8)\n",
        "recall8 = recall_score(test_y2, y_pred8)\n",
        "f1_8 = f1_score(test_y2, y_pred8)\n",
        "\n",
        "# Print the results\n",
        "print(\"Precision:\", precision8)\n",
        "print(\"Recall:\", recall8)\n",
        "print(\"F1-score:\", f1_8)"
      ],
      "metadata": {
        "colab": {
          "base_uri": "https://localhost:8080/"
        },
        "id": "K6l612tnJuWc",
        "outputId": "ffa36684-a436-4bce-c36c-be34587d4863"
      },
      "execution_count": null,
      "outputs": [
        {
          "output_type": "stream",
          "name": "stdout",
          "text": [
            "Accuracy: 0.837431693989071\n",
            "Confusion matrix:\n",
            " [[603   7]\n",
            " [112  10]]\n",
            "Classification report:\n",
            "               precision    recall  f1-score   support\n",
            "\n",
            "           0       0.84      0.99      0.91       610\n",
            "           1       0.59      0.08      0.14       122\n",
            "\n",
            "    accuracy                           0.84       732\n",
            "   macro avg       0.72      0.54      0.53       732\n",
            "weighted avg       0.80      0.84      0.78       732\n",
            "\n",
            "Precision: 0.5882352941176471\n",
            "Recall: 0.08196721311475409\n",
            "F1-score: 0.14388489208633093\n"
          ]
        }
      ]
    },
    {
      "cell_type": "code",
      "source": [
        "!pip install lazypredict"
      ],
      "metadata": {
        "id": "iCInV-t0kaMI",
        "colab": {
          "base_uri": "https://localhost:8080/"
        },
        "outputId": "387665a1-6e69-4df0-e054-d93081bab529"
      },
      "execution_count": null,
      "outputs": [
        {
          "output_type": "stream",
          "name": "stdout",
          "text": [
            "Looking in indexes: https://pypi.org/simple, https://us-python.pkg.dev/colab-wheels/public/simple/\n",
            "Requirement already satisfied: lazypredict in /usr/local/lib/python3.9/dist-packages (0.2.12)\n",
            "Requirement already satisfied: scikit-learn in /usr/local/lib/python3.9/dist-packages (from lazypredict) (1.2.2)\n",
            "Requirement already satisfied: joblib in /usr/local/lib/python3.9/dist-packages (from lazypredict) (1.1.1)\n",
            "Requirement already satisfied: xgboost in /usr/local/lib/python3.9/dist-packages (from lazypredict) (1.7.4)\n",
            "Requirement already satisfied: click in /usr/local/lib/python3.9/dist-packages (from lazypredict) (8.1.3)\n",
            "Requirement already satisfied: pandas in /usr/local/lib/python3.9/dist-packages (from lazypredict) (1.4.4)\n",
            "Requirement already satisfied: tqdm in /usr/local/lib/python3.9/dist-packages (from lazypredict) (4.65.0)\n",
            "Requirement already satisfied: lightgbm in /usr/local/lib/python3.9/dist-packages (from lazypredict) (3.3.5)\n",
            "Requirement already satisfied: numpy in /usr/local/lib/python3.9/dist-packages (from lightgbm->lazypredict) (1.22.4)\n",
            "Requirement already satisfied: wheel in /usr/local/lib/python3.9/dist-packages (from lightgbm->lazypredict) (0.40.0)\n",
            "Requirement already satisfied: scipy in /usr/local/lib/python3.9/dist-packages (from lightgbm->lazypredict) (1.10.1)\n",
            "Requirement already satisfied: threadpoolctl>=2.0.0 in /usr/local/lib/python3.9/dist-packages (from scikit-learn->lazypredict) (3.1.0)\n",
            "Requirement already satisfied: python-dateutil>=2.8.1 in /usr/local/lib/python3.9/dist-packages (from pandas->lazypredict) (2.8.2)\n",
            "Requirement already satisfied: pytz>=2020.1 in /usr/local/lib/python3.9/dist-packages (from pandas->lazypredict) (2022.7.1)\n",
            "Requirement already satisfied: six>=1.5 in /usr/local/lib/python3.9/dist-packages (from python-dateutil>=2.8.1->pandas->lazypredict) (1.16.0)\n"
          ]
        }
      ]
    },
    {
      "cell_type": "code",
      "source": [
        "import lazypredict\n",
        "\n",
        "### importing lazypredict library\n",
        "import lazypredict\n",
        "### importing LazyClassifier for classification problem\n",
        "from lazypredict.Supervised import LazyClassifier\n",
        "### importing LazyClassifier for classification problem because here we are solving Classification use case.\n",
        "from lazypredict.Supervised import LazyClassifier\n",
        "### importing breast Cancer Dataset from sklearn\n",
        "from sklearn.datasets import load_breast_cancer\n",
        "### spliting dataset into training and testing part\n",
        "from sklearn.model_selection import train_test_split"
      ],
      "metadata": {
        "id": "5_2Z39I-kKb0"
      },
      "execution_count": null,
      "outputs": []
    },
    {
      "cell_type": "code",
      "source": [
        "clf = LazyClassifier(verbose=0,ignore_warnings=True, custom_metric=None)"
      ],
      "metadata": {
        "id": "egCWggJjkMns"
      },
      "execution_count": null,
      "outputs": []
    },
    {
      "cell_type": "code",
      "source": [
        "models,predictions = clf.fit(train_x2, test_x2, train_y2, test_y2)"
      ],
      "metadata": {
        "id": "Pt9-M_Vpko_7",
        "colab": {
          "base_uri": "https://localhost:8080/"
        },
        "outputId": "28d38fa8-4c5b-4174-c7f8-542ca827d941"
      },
      "execution_count": null,
      "outputs": [
        {
          "output_type": "stream",
          "name": "stderr",
          "text": [
            "100%|██████████| 29/29 [00:07<00:00,  4.11it/s]\n"
          ]
        }
      ]
    },
    {
      "cell_type": "code",
      "source": [
        "models # Results using all the features"
      ],
      "metadata": {
        "id": "HFpiLMVhkh2z",
        "colab": {
          "base_uri": "https://localhost:8080/",
          "height": 896
        },
        "outputId": "e44cc7f0-eeb1-4e10-819a-2453b58c9789"
      },
      "execution_count": null,
      "outputs": [
        {
          "output_type": "execute_result",
          "data": {
            "text/plain": [
              "                               Accuracy  Balanced Accuracy  ROC AUC  F1 Score  \\\n",
              "Model                                                                           \n",
              "NearestCentroid                    0.67               0.64     0.64      0.71   \n",
              "BernoulliNB                        0.80               0.60     0.60      0.79   \n",
              "LabelSpreading                     0.79               0.57     0.57      0.77   \n",
              "LabelPropagation                   0.78               0.56     0.56      0.77   \n",
              "PassiveAggressiveClassifier        0.82               0.56     0.56      0.79   \n",
              "GaussianNB                         0.80               0.55     0.55      0.78   \n",
              "AdaBoostClassifier                 0.83               0.55     0.55      0.78   \n",
              "KNeighborsClassifier               0.83               0.55     0.55      0.79   \n",
              "LinearDiscriminantAnalysis         0.84               0.54     0.54      0.79   \n",
              "DecisionTreeClassifier             0.75               0.54     0.54      0.75   \n",
              "QuadraticDiscriminantAnalysis      0.80               0.54     0.54      0.77   \n",
              "LogisticRegression                 0.84               0.54     0.54      0.79   \n",
              "ExtraTreeClassifier                0.76               0.54     0.54      0.75   \n",
              "XGBClassifier                      0.82               0.53     0.53      0.78   \n",
              "RandomForestClassifier             0.84               0.53     0.53      0.78   \n",
              "LGBMClassifier                     0.82               0.53     0.53      0.78   \n",
              "SGDClassifier                      0.83               0.53     0.53      0.77   \n",
              "ExtraTreesClassifier               0.83               0.52     0.52      0.77   \n",
              "CalibratedClassifierCV             0.83               0.52     0.52      0.77   \n",
              "BaggingClassifier                  0.82               0.52     0.52      0.77   \n",
              "Perceptron                         0.82               0.52     0.52      0.77   \n",
              "LinearSVC                          0.84               0.51     0.51      0.77   \n",
              "RidgeClassifier                    0.84               0.51     0.51      0.77   \n",
              "RidgeClassifierCV                  0.84               0.51     0.51      0.77   \n",
              "SVC                                0.83               0.51     0.51      0.76   \n",
              "DummyClassifier                    0.83               0.50     0.50      0.76   \n",
              "\n",
              "                               Time Taken  \n",
              "Model                                      \n",
              "NearestCentroid                      0.03  \n",
              "BernoulliNB                          0.03  \n",
              "LabelSpreading                       1.23  \n",
              "LabelPropagation                     1.11  \n",
              "PassiveAggressiveClassifier          0.02  \n",
              "GaussianNB                           0.02  \n",
              "AdaBoostClassifier                   0.23  \n",
              "KNeighborsClassifier                 0.16  \n",
              "LinearDiscriminantAnalysis           0.10  \n",
              "DecisionTreeClassifier               0.06  \n",
              "QuadraticDiscriminantAnalysis        0.03  \n",
              "LogisticRegression                   0.06  \n",
              "ExtraTreeClassifier                  0.02  \n",
              "XGBClassifier                        0.65  \n",
              "RandomForestClassifier               0.60  \n",
              "LGBMClassifier                       0.14  \n",
              "SGDClassifier                        0.11  \n",
              "ExtraTreesClassifier                 0.45  \n",
              "CalibratedClassifierCV               0.87  \n",
              "BaggingClassifier                    0.18  \n",
              "Perceptron                           0.03  \n",
              "LinearSVC                            0.39  \n",
              "RidgeClassifier                      0.03  \n",
              "RidgeClassifierCV                    0.04  \n",
              "SVC                                  0.38  \n",
              "DummyClassifier                      0.02  "
            ],
            "text/html": [
              "\n",
              "  <div id=\"df-78ba311f-eabc-497c-9d5c-d9371d2539b8\">\n",
              "    <div class=\"colab-df-container\">\n",
              "      <div>\n",
              "<style scoped>\n",
              "    .dataframe tbody tr th:only-of-type {\n",
              "        vertical-align: middle;\n",
              "    }\n",
              "\n",
              "    .dataframe tbody tr th {\n",
              "        vertical-align: top;\n",
              "    }\n",
              "\n",
              "    .dataframe thead th {\n",
              "        text-align: right;\n",
              "    }\n",
              "</style>\n",
              "<table border=\"1\" class=\"dataframe\">\n",
              "  <thead>\n",
              "    <tr style=\"text-align: right;\">\n",
              "      <th></th>\n",
              "      <th>Accuracy</th>\n",
              "      <th>Balanced Accuracy</th>\n",
              "      <th>ROC AUC</th>\n",
              "      <th>F1 Score</th>\n",
              "      <th>Time Taken</th>\n",
              "    </tr>\n",
              "    <tr>\n",
              "      <th>Model</th>\n",
              "      <th></th>\n",
              "      <th></th>\n",
              "      <th></th>\n",
              "      <th></th>\n",
              "      <th></th>\n",
              "    </tr>\n",
              "  </thead>\n",
              "  <tbody>\n",
              "    <tr>\n",
              "      <th>NearestCentroid</th>\n",
              "      <td>0.67</td>\n",
              "      <td>0.64</td>\n",
              "      <td>0.64</td>\n",
              "      <td>0.71</td>\n",
              "      <td>0.03</td>\n",
              "    </tr>\n",
              "    <tr>\n",
              "      <th>BernoulliNB</th>\n",
              "      <td>0.80</td>\n",
              "      <td>0.60</td>\n",
              "      <td>0.60</td>\n",
              "      <td>0.79</td>\n",
              "      <td>0.03</td>\n",
              "    </tr>\n",
              "    <tr>\n",
              "      <th>LabelSpreading</th>\n",
              "      <td>0.79</td>\n",
              "      <td>0.57</td>\n",
              "      <td>0.57</td>\n",
              "      <td>0.77</td>\n",
              "      <td>1.23</td>\n",
              "    </tr>\n",
              "    <tr>\n",
              "      <th>LabelPropagation</th>\n",
              "      <td>0.78</td>\n",
              "      <td>0.56</td>\n",
              "      <td>0.56</td>\n",
              "      <td>0.77</td>\n",
              "      <td>1.11</td>\n",
              "    </tr>\n",
              "    <tr>\n",
              "      <th>PassiveAggressiveClassifier</th>\n",
              "      <td>0.82</td>\n",
              "      <td>0.56</td>\n",
              "      <td>0.56</td>\n",
              "      <td>0.79</td>\n",
              "      <td>0.02</td>\n",
              "    </tr>\n",
              "    <tr>\n",
              "      <th>GaussianNB</th>\n",
              "      <td>0.80</td>\n",
              "      <td>0.55</td>\n",
              "      <td>0.55</td>\n",
              "      <td>0.78</td>\n",
              "      <td>0.02</td>\n",
              "    </tr>\n",
              "    <tr>\n",
              "      <th>AdaBoostClassifier</th>\n",
              "      <td>0.83</td>\n",
              "      <td>0.55</td>\n",
              "      <td>0.55</td>\n",
              "      <td>0.78</td>\n",
              "      <td>0.23</td>\n",
              "    </tr>\n",
              "    <tr>\n",
              "      <th>KNeighborsClassifier</th>\n",
              "      <td>0.83</td>\n",
              "      <td>0.55</td>\n",
              "      <td>0.55</td>\n",
              "      <td>0.79</td>\n",
              "      <td>0.16</td>\n",
              "    </tr>\n",
              "    <tr>\n",
              "      <th>LinearDiscriminantAnalysis</th>\n",
              "      <td>0.84</td>\n",
              "      <td>0.54</td>\n",
              "      <td>0.54</td>\n",
              "      <td>0.79</td>\n",
              "      <td>0.10</td>\n",
              "    </tr>\n",
              "    <tr>\n",
              "      <th>DecisionTreeClassifier</th>\n",
              "      <td>0.75</td>\n",
              "      <td>0.54</td>\n",
              "      <td>0.54</td>\n",
              "      <td>0.75</td>\n",
              "      <td>0.06</td>\n",
              "    </tr>\n",
              "    <tr>\n",
              "      <th>QuadraticDiscriminantAnalysis</th>\n",
              "      <td>0.80</td>\n",
              "      <td>0.54</td>\n",
              "      <td>0.54</td>\n",
              "      <td>0.77</td>\n",
              "      <td>0.03</td>\n",
              "    </tr>\n",
              "    <tr>\n",
              "      <th>LogisticRegression</th>\n",
              "      <td>0.84</td>\n",
              "      <td>0.54</td>\n",
              "      <td>0.54</td>\n",
              "      <td>0.79</td>\n",
              "      <td>0.06</td>\n",
              "    </tr>\n",
              "    <tr>\n",
              "      <th>ExtraTreeClassifier</th>\n",
              "      <td>0.76</td>\n",
              "      <td>0.54</td>\n",
              "      <td>0.54</td>\n",
              "      <td>0.75</td>\n",
              "      <td>0.02</td>\n",
              "    </tr>\n",
              "    <tr>\n",
              "      <th>XGBClassifier</th>\n",
              "      <td>0.82</td>\n",
              "      <td>0.53</td>\n",
              "      <td>0.53</td>\n",
              "      <td>0.78</td>\n",
              "      <td>0.65</td>\n",
              "    </tr>\n",
              "    <tr>\n",
              "      <th>RandomForestClassifier</th>\n",
              "      <td>0.84</td>\n",
              "      <td>0.53</td>\n",
              "      <td>0.53</td>\n",
              "      <td>0.78</td>\n",
              "      <td>0.60</td>\n",
              "    </tr>\n",
              "    <tr>\n",
              "      <th>LGBMClassifier</th>\n",
              "      <td>0.82</td>\n",
              "      <td>0.53</td>\n",
              "      <td>0.53</td>\n",
              "      <td>0.78</td>\n",
              "      <td>0.14</td>\n",
              "    </tr>\n",
              "    <tr>\n",
              "      <th>SGDClassifier</th>\n",
              "      <td>0.83</td>\n",
              "      <td>0.53</td>\n",
              "      <td>0.53</td>\n",
              "      <td>0.77</td>\n",
              "      <td>0.11</td>\n",
              "    </tr>\n",
              "    <tr>\n",
              "      <th>ExtraTreesClassifier</th>\n",
              "      <td>0.83</td>\n",
              "      <td>0.52</td>\n",
              "      <td>0.52</td>\n",
              "      <td>0.77</td>\n",
              "      <td>0.45</td>\n",
              "    </tr>\n",
              "    <tr>\n",
              "      <th>CalibratedClassifierCV</th>\n",
              "      <td>0.83</td>\n",
              "      <td>0.52</td>\n",
              "      <td>0.52</td>\n",
              "      <td>0.77</td>\n",
              "      <td>0.87</td>\n",
              "    </tr>\n",
              "    <tr>\n",
              "      <th>BaggingClassifier</th>\n",
              "      <td>0.82</td>\n",
              "      <td>0.52</td>\n",
              "      <td>0.52</td>\n",
              "      <td>0.77</td>\n",
              "      <td>0.18</td>\n",
              "    </tr>\n",
              "    <tr>\n",
              "      <th>Perceptron</th>\n",
              "      <td>0.82</td>\n",
              "      <td>0.52</td>\n",
              "      <td>0.52</td>\n",
              "      <td>0.77</td>\n",
              "      <td>0.03</td>\n",
              "    </tr>\n",
              "    <tr>\n",
              "      <th>LinearSVC</th>\n",
              "      <td>0.84</td>\n",
              "      <td>0.51</td>\n",
              "      <td>0.51</td>\n",
              "      <td>0.77</td>\n",
              "      <td>0.39</td>\n",
              "    </tr>\n",
              "    <tr>\n",
              "      <th>RidgeClassifier</th>\n",
              "      <td>0.84</td>\n",
              "      <td>0.51</td>\n",
              "      <td>0.51</td>\n",
              "      <td>0.77</td>\n",
              "      <td>0.03</td>\n",
              "    </tr>\n",
              "    <tr>\n",
              "      <th>RidgeClassifierCV</th>\n",
              "      <td>0.84</td>\n",
              "      <td>0.51</td>\n",
              "      <td>0.51</td>\n",
              "      <td>0.77</td>\n",
              "      <td>0.04</td>\n",
              "    </tr>\n",
              "    <tr>\n",
              "      <th>SVC</th>\n",
              "      <td>0.83</td>\n",
              "      <td>0.51</td>\n",
              "      <td>0.51</td>\n",
              "      <td>0.76</td>\n",
              "      <td>0.38</td>\n",
              "    </tr>\n",
              "    <tr>\n",
              "      <th>DummyClassifier</th>\n",
              "      <td>0.83</td>\n",
              "      <td>0.50</td>\n",
              "      <td>0.50</td>\n",
              "      <td>0.76</td>\n",
              "      <td>0.02</td>\n",
              "    </tr>\n",
              "  </tbody>\n",
              "</table>\n",
              "</div>\n",
              "      <button class=\"colab-df-convert\" onclick=\"convertToInteractive('df-78ba311f-eabc-497c-9d5c-d9371d2539b8')\"\n",
              "              title=\"Convert this dataframe to an interactive table.\"\n",
              "              style=\"display:none;\">\n",
              "        \n",
              "  <svg xmlns=\"http://www.w3.org/2000/svg\" height=\"24px\"viewBox=\"0 0 24 24\"\n",
              "       width=\"24px\">\n",
              "    <path d=\"M0 0h24v24H0V0z\" fill=\"none\"/>\n",
              "    <path d=\"M18.56 5.44l.94 2.06.94-2.06 2.06-.94-2.06-.94-.94-2.06-.94 2.06-2.06.94zm-11 1L8.5 8.5l.94-2.06 2.06-.94-2.06-.94L8.5 2.5l-.94 2.06-2.06.94zm10 10l.94 2.06.94-2.06 2.06-.94-2.06-.94-.94-2.06-.94 2.06-2.06.94z\"/><path d=\"M17.41 7.96l-1.37-1.37c-.4-.4-.92-.59-1.43-.59-.52 0-1.04.2-1.43.59L10.3 9.45l-7.72 7.72c-.78.78-.78 2.05 0 2.83L4 21.41c.39.39.9.59 1.41.59.51 0 1.02-.2 1.41-.59l7.78-7.78 2.81-2.81c.8-.78.8-2.07 0-2.86zM5.41 20L4 18.59l7.72-7.72 1.47 1.35L5.41 20z\"/>\n",
              "  </svg>\n",
              "      </button>\n",
              "      \n",
              "  <style>\n",
              "    .colab-df-container {\n",
              "      display:flex;\n",
              "      flex-wrap:wrap;\n",
              "      gap: 12px;\n",
              "    }\n",
              "\n",
              "    .colab-df-convert {\n",
              "      background-color: #E8F0FE;\n",
              "      border: none;\n",
              "      border-radius: 50%;\n",
              "      cursor: pointer;\n",
              "      display: none;\n",
              "      fill: #1967D2;\n",
              "      height: 32px;\n",
              "      padding: 0 0 0 0;\n",
              "      width: 32px;\n",
              "    }\n",
              "\n",
              "    .colab-df-convert:hover {\n",
              "      background-color: #E2EBFA;\n",
              "      box-shadow: 0px 1px 2px rgba(60, 64, 67, 0.3), 0px 1px 3px 1px rgba(60, 64, 67, 0.15);\n",
              "      fill: #174EA6;\n",
              "    }\n",
              "\n",
              "    [theme=dark] .colab-df-convert {\n",
              "      background-color: #3B4455;\n",
              "      fill: #D2E3FC;\n",
              "    }\n",
              "\n",
              "    [theme=dark] .colab-df-convert:hover {\n",
              "      background-color: #434B5C;\n",
              "      box-shadow: 0px 1px 3px 1px rgba(0, 0, 0, 0.15);\n",
              "      filter: drop-shadow(0px 1px 2px rgba(0, 0, 0, 0.3));\n",
              "      fill: #FFFFFF;\n",
              "    }\n",
              "  </style>\n",
              "\n",
              "      <script>\n",
              "        const buttonEl =\n",
              "          document.querySelector('#df-78ba311f-eabc-497c-9d5c-d9371d2539b8 button.colab-df-convert');\n",
              "        buttonEl.style.display =\n",
              "          google.colab.kernel.accessAllowed ? 'block' : 'none';\n",
              "\n",
              "        async function convertToInteractive(key) {\n",
              "          const element = document.querySelector('#df-78ba311f-eabc-497c-9d5c-d9371d2539b8');\n",
              "          const dataTable =\n",
              "            await google.colab.kernel.invokeFunction('convertToInteractive',\n",
              "                                                     [key], {});\n",
              "          if (!dataTable) return;\n",
              "\n",
              "          const docLinkHtml = 'Like what you see? Visit the ' +\n",
              "            '<a target=\"_blank\" href=https://colab.research.google.com/notebooks/data_table.ipynb>data table notebook</a>'\n",
              "            + ' to learn more about interactive tables.';\n",
              "          element.innerHTML = '';\n",
              "          dataTable['output_type'] = 'display_data';\n",
              "          await google.colab.output.renderOutput(dataTable, element);\n",
              "          const docLink = document.createElement('div');\n",
              "          docLink.innerHTML = docLinkHtml;\n",
              "          element.appendChild(docLink);\n",
              "        }\n",
              "      </script>\n",
              "    </div>\n",
              "  </div>\n",
              "  "
            ]
          },
          "metadata": {},
          "execution_count": 139
        }
      ]
    }
  ]
}